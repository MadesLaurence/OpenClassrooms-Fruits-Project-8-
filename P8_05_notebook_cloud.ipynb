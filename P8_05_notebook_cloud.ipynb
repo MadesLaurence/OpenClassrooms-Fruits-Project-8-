{
  "cells": [
    {
      "cell_type": "markdown",
      "metadata": {
        "id": "view-in-github",
        "colab_type": "text"
      },
      "source": [
        "<a href=\"https://colab.research.google.com/github/MadesLaurence/OpenClassrooms-Fruits-Project-8-/blob/main/P8_05_notebook_cloud.ipynb\" target=\"_parent\"><img src=\"https://colab.research.google.com/assets/colab-badge.svg\" alt=\"Open In Colab\"/></a>"
      ]
    },
    {
      "cell_type": "markdown",
      "metadata": {
        "id": "YaEl_gVii_C9"
      },
      "source": [
        "# Objective\n",
        "Set-up a first big data architecture using AWS products (Mobile application with a fruit pictures classifier engine)\n",
        "\n",
        "# Data\n",
        "Link to upload data: https://www.kaggle.com/moltean/fruits\n",
        "\n",
        "# Table of contents <a class=\"anchor\" id=\"chapter0\"></a> \n",
        "* [Imports and declarations](#chapter1)\n",
        "    * [Import packages](#sub1_1)\n",
        "    * [Declare constants](#sub1_2)\n",
        "* [Load data](#chapter5)\n",
        "    * [Load pictures](#sub5_1)\n",
        "    * [Distinguish Target and Dataset](#sub5_2)\n",
        "    * [Index Target](#sub5_3)\n",
        "* [Instantiate a ResNet50 model with pre-trained weights](#chapter6)\n",
        "* [Features extraction](#chapter7)\n",
        "    * [Functions](#sub7_1)\n",
        "    * [Features extraction](#sub7_2)\n",
        "    * [Features reduction](#sub7_3)\n",
        "* [Train a new model using pre-computed features](#chapter8)\n",
        "    * [Prepare my new model](#sub8_1)\n",
        "    * [Train my new model on Training dataset](#sub8_2)\n",
        "    * [Predict fruit class with my new model on Test dataset](#sub8_3)\n",
        "* [Visualise classification results](#chapter9)\n",
        "* [Go to End](#chapter100)\n"
      ]
    },
    {
      "cell_type": "markdown",
      "metadata": {
        "id": "22adXcvNi_DB"
      },
      "source": [
        "# Imports and declarations <a class=\"anchor\" id=\"chapter1\"></a>"
      ]
    },
    {
      "cell_type": "markdown",
      "metadata": {
        "_cell_guid": "d632b08c-d252-4238-b496-e2c6edebec4b",
        "_uuid": "eb13bf76d4e1e60d0703856ec391cdc2c5bdf1fb",
        "id": "dZVWZRWsi_DC"
      },
      "source": [
        "## Import packages <a class=\"anchor\" id=\"sub1_1\"></a>"
      ]
    },
    {
      "cell_type": "code",
      "execution_count": null,
      "metadata": {
        "_cell_guid": "b1076dfc-b9ad-4769-8c92-a6c4dae69d19",
        "_uuid": "8f2839f25d086af736a60e9eeb907d3b93b6e0e5",
        "id": "jdnNImv8i_DC",
        "colab": {
          "base_uri": "https://localhost:8080/"
        },
        "outputId": "9711452e-e6e7-4493-8d7a-5f97fea81e83"
      },
      "outputs": [
        {
          "output_type": "stream",
          "name": "stdout",
          "text": [
            "PySpark version:3.2.1\n",
            "Drive already mounted at /content/drive; to attempt to forcibly remount, call drive.mount(\"/content/drive\", force_remount=True).\n"
          ]
        }
      ],
      "source": [
        "import numpy as np\n",
        "import pandas as pd \n",
        "import matplotlib.pyplot as plt\n",
        "\n",
        "from typing import Iterator\n",
        "import os\n",
        "from os import path\n",
        "import glob\n",
        "import shutil\n",
        "import time\n",
        "import io\n",
        "\n",
        "import PIL\n",
        "from PIL import Image\n",
        "\n",
        "# Pyspark\n",
        "import pyspark\n",
        "from pyspark import SparkContext\n",
        "from pyspark.sql import SparkSession, Row\n",
        "from pyspark.sql.types import IntegerType, ArrayType, FloatType\n",
        "from pyspark.sql.functions import udf\n",
        "from pyspark.sql.functions import element_at, split\n",
        "from pyspark.sql.functions import col, pandas_udf, PandasUDFType\n",
        "from pyspark.ml.feature import StringIndexer\n",
        "from pyspark.ml.feature import PCA\n",
        "from pyspark.ml.linalg import Vectors, VectorUDT\n",
        "print(\"PySpark version:{}\".format(pyspark.__version__)) # Verify PySpark version\n",
        "\n",
        "# Tensorflow, Keras\n",
        "import tensorflow as tf\n",
        "from keras.utils import np_utils\n",
        "from tensorflow.keras.applications.resnet50 import ResNet50, preprocess_input\n",
        "from tensorflow.keras import optimizers\n",
        "from tensorflow.keras.preprocessing.image import img_to_array\n",
        "from tensorflow.keras.models import Sequential\n",
        "from tensorflow.keras.layers import Dense, Flatten\n",
        "from tensorflow.keras.callbacks import EarlyStopping, ModelCheckpoint"
      ]
    },
    {
      "cell_type": "markdown",
      "metadata": {
        "id": "gt0HycIci_DE"
      },
      "source": [
        "## Declare constants <a class=\"anchor\" id=\"sub1_2\"></a>"
      ]
    },
    {
      "cell_type": "code",
      "execution_count": null,
      "metadata": {
        "id": "GvNoVfhMi_DF"
      },
      "outputs": [],
      "source": [
        "# Image size\n",
        "IMAGE_RESIZE = 224\n",
        "\n",
        "# Locations\n",
        "SOURCE = 's3://moncompartimentamoi/pictures/*'\n",
        "OUTPUT = 's3://moncompartimentamoi/results'"
      ]
    },
    {
      "cell_type": "markdown",
      "metadata": {
        "id": "Ghpp_J6ai_DR"
      },
      "source": [
        "# Load data <a class=\"anchor\" id=\"chapter5\"></a> "
      ]
    },
    {
      "cell_type": "markdown",
      "metadata": {
        "id": "2-89zGFui_DR"
      },
      "source": [
        "## Load pictures <a class=\"anchor\" id=\"sub5_1\"></a> "
      ]
    },
    {
      "cell_type": "markdown",
      "metadata": {
        "id": "E1DPqWEGi_DT"
      },
      "source": [
        "### Get pictures in a Spark DataFrame in \"binaryFile\" format"
      ]
    },
    {
      "cell_type": "code",
      "execution_count": null,
      "metadata": {
        "id": "AVP47Zx1i_DT"
      },
      "outputs": [],
      "source": [
        "pictures_df = spark.read.format(\"binaryFile\") \\\n",
        "            .option(\"pathGlobFilter\", \"*.jpg\") \\\n",
        "            .option(\"recursiveFileLookup\", \"true\") \\\n",
        "            .load(DATASOURCE)"
      ]
    },
    {
      "cell_type": "code",
      "execution_count": null,
      "metadata": {
        "colab": {
          "base_uri": "https://localhost:8080/"
        },
        "id": "gltVO-uUi_DT",
        "outputId": "b9aa64c6-67fb-45df-8091-b9239f19db72"
      },
      "outputs": [
        {
          "output_type": "execute_result",
          "data": {
            "text/plain": [
              "193"
            ]
          },
          "metadata": {},
          "execution_count": 19
        }
      ],
      "source": [
        "# Count sample size\n",
        "pictures_df.count()"
      ]
    },
    {
      "cell_type": "code",
      "execution_count": null,
      "metadata": {
        "colab": {
          "base_uri": "https://localhost:8080/"
        },
        "id": "hnxa9dFhi_DT",
        "outputId": "a29bb1ff-ba62-4735-d58f-2542d61bac05"
      },
      "outputs": [
        {
          "output_type": "stream",
          "name": "stdout",
          "text": [
            "+--------------------+-------------------+------+--------------------+\n",
            "|                path|   modificationTime|length|             content|\n",
            "+--------------------+-------------------+------+--------------------+\n",
            "|file:/content/dri...|2022-03-21 14:12:59|123514|[FF D8 FF E0 00 1...|\n",
            "|file:/content/dri...|2022-03-21 14:13:00|122525|[FF D8 FF E0 00 1...|\n",
            "|file:/content/dri...|2022-03-21 14:12:59|121530|[FF D8 FF E0 00 1...|\n",
            "|file:/content/dri...|2022-03-21 14:13:00|119805|[FF D8 FF E0 00 1...|\n",
            "|file:/content/dri...|2022-03-21 14:13:00|119068|[FF D8 FF E0 00 1...|\n",
            "+--------------------+-------------------+------+--------------------+\n",
            "only showing top 5 rows\n",
            "\n"
          ]
        }
      ],
      "source": [
        "# Spark DataFrame visualisation\n",
        "pictures_df.show(5)"
      ]
    },
    {
      "cell_type": "code",
      "execution_count": null,
      "metadata": {
        "colab": {
          "base_uri": "https://localhost:8080/"
        },
        "id": "9IOTpvuei_DT",
        "outputId": "2ff0e7b5-e45b-4170-faa6-35b8bc4e6434"
      },
      "outputs": [
        {
          "output_type": "stream",
          "name": "stdout",
          "text": [
            "root\n",
            " |-- path: string (nullable = true)\n",
            " |-- modificationTime: timestamp (nullable = true)\n",
            " |-- length: long (nullable = true)\n",
            " |-- content: binary (nullable = true)\n",
            "\n"
          ]
        }
      ],
      "source": [
        "# Spark DataFrame scheme\n",
        "pictures_df.printSchema()"
      ]
    },
    {
      "cell_type": "markdown",
      "metadata": {
        "id": "cA7IYjKOi_DT"
      },
      "source": [
        "## Distinguish Target and DataSet <a class=\"anchor\" id=\"sub5_2\"></a> "
      ]
    },
    {
      "cell_type": "code",
      "execution_count": null,
      "metadata": {
        "id": "DmkEagGDi_DU"
      },
      "outputs": [],
      "source": [
        "# Extract Target from path\n",
        "pictures_df = pictures_df.withColumn('target', element_at(split(pictures_df['path'], \"/\"), -2))"
      ]
    },
    {
      "cell_type": "code",
      "source": [
        "# Extract DataSet from path\n",
        "pictures_df = pictures_df.withColumn('dataset', element_at(split(pictures_df['path'], \"/\"), -3))"
      ],
      "metadata": {
        "id": "53xVF3u1Vhn_"
      },
      "execution_count": null,
      "outputs": []
    },
    {
      "cell_type": "markdown",
      "source": [
        "## Index Target <a class=\"anchor\" id=\"sub5_3\"></a> "
      ],
      "metadata": {
        "id": "h8RYVEFWiwaP"
      }
    },
    {
      "cell_type": "code",
      "source": [
        "indexer = StringIndexer(inputCol=\"target\", outputCol=\"target_code\") \n",
        "pictures_df = indexer.fit(pictures_df).transform(pictures_df)\n",
        "pictures_df.show(20)"
      ],
      "metadata": {
        "colab": {
          "base_uri": "https://localhost:8080/"
        },
        "id": "LOcVKyuxic2S",
        "outputId": "d714cdf5-13a4-47d2-eb76-74d468d5d299"
      },
      "execution_count": null,
      "outputs": [
        {
          "output_type": "stream",
          "name": "stdout",
          "text": [
            "+--------------------+-------------------+------+--------------------+---------------+----------+-----------+\n",
            "|                path|   modificationTime|length|             content|         target|   dataset|target_code|\n",
            "+--------------------+-------------------+------+--------------------+---------------+----------+-----------+\n",
            "|file:/content/dri...|2022-03-21 14:12:59|123514|[FF D8 FF E0 00 1...|    apple_hit_1|      Test|        7.0|\n",
            "|file:/content/dri...|2022-03-21 14:13:00|122525|[FF D8 FF E0 00 1...|    apple_hit_1|  Training|        7.0|\n",
            "|file:/content/dri...|2022-03-21 14:12:59|121530|[FF D8 FF E0 00 1...|    apple_hit_1|      Test|        7.0|\n",
            "|file:/content/dri...|2022-03-21 14:13:00|119805|[FF D8 FF E0 00 1...|    apple_hit_1|Validation|        7.0|\n",
            "|file:/content/dri...|2022-03-21 14:13:00|119068|[FF D8 FF E0 00 1...|    apple_hit_1|  Training|        7.0|\n",
            "|file:/content/dri...|2022-03-21 14:13:01| 96730|[FF D8 FF E0 00 1...|cabbage_white_1|Validation|       15.0|\n",
            "|file:/content/dri...|2022-03-21 14:13:00| 96281|[FF D8 FF E0 00 1...|cabbage_white_1|  Training|       15.0|\n",
            "|file:/content/dri...|2022-03-21 14:13:00| 95790|[FF D8 FF E0 00 1...|cabbage_white_1|  Training|       15.0|\n",
            "|file:/content/dri...|2022-03-21 14:13:01| 95624|[FF D8 FF E0 00 1...|cabbage_white_1|Validation|       15.0|\n",
            "|file:/content/dri...|2022-03-21 14:13:00| 95486|[FF D8 FF E0 00 1...|cabbage_white_1|  Training|       15.0|\n",
            "|file:/content/dri...|2022-03-21 14:12:59| 95139|[FF D8 FF E0 00 1...|cabbage_white_1|      Test|       15.0|\n",
            "|file:/content/dri...|2022-03-21 14:13:00| 94969|[FF D8 FF E0 00 1...|cabbage_white_1|  Training|       15.0|\n",
            "|file:/content/dri...|2022-03-21 14:12:59| 94910|[FF D8 FF E0 00 1...|cabbage_white_1|      Test|       15.0|\n",
            "|file:/content/dri...|2022-03-21 14:13:00| 94753|[FF D8 FF E0 00 1...|    apple_hit_1|  Training|        7.0|\n",
            "|file:/content/dri...|2022-03-21 14:13:00| 89920|[FF D8 FF E0 00 1...|    apple_hit_1|Validation|        7.0|\n",
            "|file:/content/dri...|2022-03-21 14:13:00| 89253|[FF D8 FF E0 00 1...|    apple_hit_1|  Training|        7.0|\n",
            "|file:/content/dri...|2022-03-21 14:13:00| 77515|[FF D8 FF E0 00 1...|         pear_3|  Training|       21.0|\n",
            "|file:/content/dri...|2022-03-21 14:13:01| 76561|[FF D8 FF E0 00 1...|         pear_3|Validation|       21.0|\n",
            "|file:/content/dri...|2022-03-21 14:13:00| 74814|[FF D8 FF E0 00 1...|         pear_3|  Training|       21.0|\n",
            "|file:/content/dri...|2022-03-21 14:12:59| 74182|[FF D8 FF E0 00 1...|         pear_3|      Test|       21.0|\n",
            "+--------------------+-------------------+------+--------------------+---------------+----------+-----------+\n",
            "only showing top 20 rows\n",
            "\n"
          ]
        }
      ]
    },
    {
      "cell_type": "code",
      "source": [
        "pictures_df = pictures_df.withColumn(\"target_code\",pictures_df.target_code.cast(IntegerType()))\n",
        "pictures_df.show(20)"
      ],
      "metadata": {
        "colab": {
          "base_uri": "https://localhost:8080/"
        },
        "id": "nj6Er0Gm3MVa",
        "outputId": "9f86dcd5-10a3-4fa6-f6d1-954ece5a4b9e"
      },
      "execution_count": null,
      "outputs": [
        {
          "output_type": "stream",
          "name": "stdout",
          "text": [
            "+--------------------+-------------------+------+--------------------+---------------+----------+-----------+\n",
            "|                path|   modificationTime|length|             content|         target|   dataset|target_code|\n",
            "+--------------------+-------------------+------+--------------------+---------------+----------+-----------+\n",
            "|file:/content/dri...|2022-03-21 14:12:59|123514|[FF D8 FF E0 00 1...|    apple_hit_1|      Test|          7|\n",
            "|file:/content/dri...|2022-03-21 14:13:00|122525|[FF D8 FF E0 00 1...|    apple_hit_1|  Training|          7|\n",
            "|file:/content/dri...|2022-03-21 14:12:59|121530|[FF D8 FF E0 00 1...|    apple_hit_1|      Test|          7|\n",
            "|file:/content/dri...|2022-03-21 14:13:00|119805|[FF D8 FF E0 00 1...|    apple_hit_1|Validation|          7|\n",
            "|file:/content/dri...|2022-03-21 14:13:00|119068|[FF D8 FF E0 00 1...|    apple_hit_1|  Training|          7|\n",
            "|file:/content/dri...|2022-03-21 14:13:01| 96730|[FF D8 FF E0 00 1...|cabbage_white_1|Validation|         15|\n",
            "|file:/content/dri...|2022-03-21 14:13:00| 96281|[FF D8 FF E0 00 1...|cabbage_white_1|  Training|         15|\n",
            "|file:/content/dri...|2022-03-21 14:13:00| 95790|[FF D8 FF E0 00 1...|cabbage_white_1|  Training|         15|\n",
            "|file:/content/dri...|2022-03-21 14:13:01| 95624|[FF D8 FF E0 00 1...|cabbage_white_1|Validation|         15|\n",
            "|file:/content/dri...|2022-03-21 14:13:00| 95486|[FF D8 FF E0 00 1...|cabbage_white_1|  Training|         15|\n",
            "|file:/content/dri...|2022-03-21 14:12:59| 95139|[FF D8 FF E0 00 1...|cabbage_white_1|      Test|         15|\n",
            "|file:/content/dri...|2022-03-21 14:13:00| 94969|[FF D8 FF E0 00 1...|cabbage_white_1|  Training|         15|\n",
            "|file:/content/dri...|2022-03-21 14:12:59| 94910|[FF D8 FF E0 00 1...|cabbage_white_1|      Test|         15|\n",
            "|file:/content/dri...|2022-03-21 14:13:00| 94753|[FF D8 FF E0 00 1...|    apple_hit_1|  Training|          7|\n",
            "|file:/content/dri...|2022-03-21 14:13:00| 89920|[FF D8 FF E0 00 1...|    apple_hit_1|Validation|          7|\n",
            "|file:/content/dri...|2022-03-21 14:13:00| 89253|[FF D8 FF E0 00 1...|    apple_hit_1|  Training|          7|\n",
            "|file:/content/dri...|2022-03-21 14:13:00| 77515|[FF D8 FF E0 00 1...|         pear_3|  Training|         21|\n",
            "|file:/content/dri...|2022-03-21 14:13:01| 76561|[FF D8 FF E0 00 1...|         pear_3|Validation|         21|\n",
            "|file:/content/dri...|2022-03-21 14:13:00| 74814|[FF D8 FF E0 00 1...|         pear_3|  Training|         21|\n",
            "|file:/content/dri...|2022-03-21 14:12:59| 74182|[FF D8 FF E0 00 1...|         pear_3|      Test|         21|\n",
            "+--------------------+-------------------+------+--------------------+---------------+----------+-----------+\n",
            "only showing top 20 rows\n",
            "\n"
          ]
        }
      ]
    },
    {
      "cell_type": "code",
      "execution_count": null,
      "metadata": {
        "colab": {
          "base_uri": "https://localhost:8080/"
        },
        "id": "1Y8c349Ai_DU",
        "outputId": "cb576e70-2924-473f-8777-5ba551f0a0fe"
      },
      "outputs": [
        {
          "output_type": "stream",
          "name": "stdout",
          "text": [
            "root\n",
            " |-- path: string (nullable = true)\n",
            " |-- modificationTime: timestamp (nullable = true)\n",
            " |-- length: long (nullable = true)\n",
            " |-- content: binary (nullable = true)\n",
            " |-- target: string (nullable = true)\n",
            " |-- dataset: string (nullable = true)\n",
            " |-- target_code: integer (nullable = true)\n",
            "\n"
          ]
        }
      ],
      "source": [
        "# Spark DataFrame scheme\n",
        "pictures_df.printSchema()"
      ]
    },
    {
      "cell_type": "markdown",
      "source": [
        "# Instantiate a ResNet50 model with pre-trained weights  <a class=\"anchor\" id=\"chapter6\"></a> \n",
        "\"Residual Network\" with 50 layers. Convolutional Neural Network"
      ],
      "metadata": {
        "id": "YLmjU2qkNU7a"
      }
    },
    {
      "cell_type": "code",
      "execution_count": null,
      "metadata": {
        "id": "Cm-bZnApi_DV",
        "colab": {
          "base_uri": "https://localhost:8080/"
        },
        "outputId": "36844c7b-ead4-433c-f9ad-1b848c33fdae"
      },
      "outputs": [
        {
          "output_type": "stream",
          "name": "stdout",
          "text": [
            "Downloading data from https://storage.googleapis.com/tensorflow/keras-applications/resnet/resnet50_weights_tf_dim_ordering_tf_kernels_notop.h5\n",
            "94773248/94765736 [==============================] - 1s 0us/step\n",
            "94781440/94765736 [==============================] - 1s 0us/step\n",
            "175\n"
          ]
        }
      ],
      "source": [
        "pre_model = ResNet50(\n",
        "    # Weights pre-trained on ImageNet: resnet50_weights_tf_dim_ordering_tf_kernels_notop.h5 \n",
        "    # in cache directory (~/.keras/models)\n",
        "    weights='imagenet',                                 \n",
        "    input_shape=(IMAGE_RESIZE, IMAGE_RESIZE, 3),\n",
        "    # Do not include the ImageNet fully-connected layer at the top of the network\n",
        "    include_top=False,\n",
        "    classes=24)\n",
        "print(len(pre_model.layers))"
      ]
    },
    {
      "cell_type": "code",
      "source": [
        "pre_model.summary()"
      ],
      "metadata": {
        "id": "N6oluSgiZWoW"
      },
      "execution_count": null,
      "outputs": []
    },
    {
      "cell_type": "code",
      "execution_count": null,
      "metadata": {
        "id": "nnqYXl9Gi_DV"
      },
      "outputs": [],
      "source": [
        "# Broadcast the model weights in the SparkContext\n",
        "bc_model_weights = sc.broadcast(pre_model.get_weights())"
      ]
    },
    {
      "cell_type": "markdown",
      "metadata": {
        "id": "-rF8OT-7i_DU"
      },
      "source": [
        "# Features extraction <a class=\"anchor\" id=\"chapter7\"></a> \n",
        "\n",
        "1 - Instantiate a base model and load pre-trained weights into it  \n",
        "2 - Run your new dataset through it and record the output of one/several layers from the base model   \n",
        "3 - Use that output as input data for a new, smaller model   \n",
        "advantage: you only run the base model once on your data, rather than once per epoch of training > a lot faster & cheaper  \n",
        "issue: doesn't allow you to dynamically modify the input data of your new model during training, which is required when doing data augmentation  "
      ]
    },
    {
      "cell_type": "markdown",
      "metadata": {
        "id": "K_M5EdOCi_DV"
      },
      "source": [
        "## Functions  <a class=\"anchor\" id=\"sub7_1\"></a> \n",
        "https://docs.databricks.com/_static/notebooks/deep-learning/deep-learning-transfer-learning-keras.html"
      ]
    },
    {
      "cell_type": "code",
      "execution_count": null,
      "metadata": {
        "id": "JENsMZpmi_DV"
      },
      "outputs": [],
      "source": [
        "def model_fn():\n",
        "    \"\"\"\n",
        "    Returns a ResNet50 model with top layer removed and broadcasted pretrained weights.\n",
        "    \"\"\"\n",
        "    \n",
        "    model = ResNet50(\n",
        "        weights=None,                                 \n",
        "        input_shape=(IMAGE_RESIZE, IMAGE_RESIZE, 3),\n",
        "        include_top=False,         # Do not include the ImageNet fully-connected layer at the top of the network\n",
        "        classes=24)\n",
        "\n",
        "    # set model weights to previously broadcasted weights\n",
        "    model.set_weights(bc_model_weights.value)\n",
        "    \n",
        "    return model"
      ]
    },
    {
      "cell_type": "markdown",
      "metadata": {
        "id": "TYn2o081i_DW"
      },
      "source": [
        "### Preprocess one image"
      ]
    },
    {
      "cell_type": "code",
      "execution_count": null,
      "metadata": {
        "id": "ankztbrzi_DW"
      },
      "outputs": [],
      "source": [
        "def preprocess(content):\n",
        "    \"\"\"\n",
        "    Preprocesses raw image bytes for prediction.\n",
        "    \"\"\"\n",
        "    # Redimension of the picture\n",
        "    img = Image.open(io.BytesIO(content)).resize([IMAGE_RESIZE, IMAGE_RESIZE])\n",
        "    \n",
        "    # Converts the PIL Image instance to a Numpy array\n",
        "    arr = img_to_array(img)\n",
        "    \n",
        "    # Preprocesses a tensor or Numpy array encoding a batch of images\n",
        "    return preprocess_input(arr)"
      ]
    },
    {
      "cell_type": "markdown",
      "metadata": {
        "id": "Zh4gGm3Ii_DW"
      },
      "source": [
        "### Featurize a pd.Series of images"
      ]
    },
    {
      "cell_type": "code",
      "execution_count": null,
      "metadata": {
        "id": "UnL6TBphi_DW"
      },
      "outputs": [],
      "source": [
        "def featurize_series(model, content_series):\n",
        "    \"\"\"\n",
        "    Featurize a pd.Series of raw images using the input model.\n",
        "    :return: a pd.Series of image features\n",
        "    \"\"\"\n",
        "    # Join the sequence of arrays along the first axis. The stacked array has one more dimension than the input arrays\n",
        "    input = np.stack(content_series.map(preprocess))\n",
        "    \n",
        "    # Compute predictions \n",
        "    preds = model.predict(input)\n",
        "\n",
        "    # For some layers, output features will be multi-dimensional tensors.\n",
        "    # We flatten the feature tensors to vectors for easier storage in Spark DataFrames.\n",
        "    output = [p.flatten() for p in preds]\n",
        "    \n",
        "    return pd.Series(output)"
      ]
    },
    {
      "cell_type": "markdown",
      "metadata": {
        "id": "BRAscqv_i_DW"
      },
      "source": [
        "###  Featurize all images\n",
        "PandasUDFType.SCALAR_ITER used to amortize the cost of loading large models on workers  \n",
        "\n",
        "PandasUDF User Defined Function  \n",
        "New Pandas UDFs with Python type hints  "
      ]
    },
    {
      "cell_type": "code",
      "execution_count": null,
      "metadata": {
        "id": "NA9-0WL-i_DX"
      },
      "outputs": [],
      "source": [
        "@pandas_udf('array<float>')\n",
        "def featurize_udf(content_series_iter: Iterator[pd.Series]) -> Iterator[pd.Series]:\n",
        "    '''\n",
        "    This method is a Scalar Iterator pandas UDF wrapping our featurization function.\n",
        "    The decorator specifies that this returns a Spark DataFrame column of type ArrayType(FloatType).\n",
        "\n",
        "    :param content_series_iter: This argument is an iterator over batches of data, where each batch\n",
        "                              is a pandas Series of image data.\n",
        "    '''\n",
        "    # With Scalar Iterator pandas UDFs, we can load the model once and then re-use it\n",
        "    # for multiple data batches. This amortizes the overhead of loading big models.    \n",
        "    pre_model = model_fn()\n",
        "    \n",
        "    for content_series in content_series_iter:\n",
        "        \n",
        "        # Yield returns a generator to the caller and the execution of the code starts only when the generator is iterated \n",
        "        yield featurize_series(pre_model, content_series)"
      ]
    },
    {
      "cell_type": "markdown",
      "metadata": {
        "id": "FwqPhrCHi_DX"
      },
      "source": [
        "## Features extraction  <a class=\"anchor\" id=\"sub7_2\"></a> "
      ]
    },
    {
      "cell_type": "code",
      "source": [
        "# Pandas UDFs on large records (e.g., very large images) can run into Out Of Memory (OOM) errors.\n",
        "# If you hit such errors in the cell below, try reducing the Arrow batch size via `maxRecordsPerBatch`.\n",
        "spark.conf.set(\"spark.sql.execution.arrow.maxRecordsPerBatch\", \"1024\")"
      ],
      "metadata": {
        "id": "1AKdEv00Wl_U"
      },
      "execution_count": null,
      "outputs": []
    },
    {
      "cell_type": "code",
      "execution_count": null,
      "metadata": {
        "colab": {
          "base_uri": "https://localhost:8080/"
        },
        "id": "fYp5FuEGi_DX",
        "outputId": "6645e225-3036-4067-9ac9-3c52b61e65a6"
      },
      "outputs": [
        {
          "output_type": "stream",
          "name": "stdout",
          "text": [
            "Feature extraction done! Time elapsed: 0.10957050323486328 seconds (0 minutes)\n"
          ]
        }
      ],
      "source": [
        "# Save starting time\n",
        "time_start = time.time()\n",
        "\n",
        "# Large model to the full dataset\n",
        "BATCH_SIZE = 16 # Dispatches dataframe over 16 partitions\n",
        "features_df = pictures_df.repartition(BATCH_SIZE).select(col(\"dataset\"), col('target'), col('target_code'), col(\"content\"), featurize_udf(\"content\").alias(\"X_features\"))\n",
        "\n",
        "# Compute time elapse\n",
        "elapse_s = time.time()-time_start\n",
        "elapse_m = int(elapse_s / 60)\n",
        "print('Feature extraction done! Time elapsed: {} seconds ({} minutes)'.format(elapse_s, elapse_m))"
      ]
    },
    {
      "cell_type": "code",
      "source": [
        "features_df.persist()"
      ],
      "metadata": {
        "colab": {
          "base_uri": "https://localhost:8080/",
          "height": 175
        },
        "id": "sGNIddLsmPK_",
        "outputId": "001b29fb-a48c-4eb5-c458-a809508c40d5"
      },
      "execution_count": null,
      "outputs": [
        {
          "output_type": "execute_result",
          "data": {
            "text/plain": [
              "+--------+--------------------+-----------+--------------------+--------------------+\n",
              "| dataset|              target|target_code|             content|          X_features|\n",
              "+--------+--------------------+-----------+--------------------+--------------------+\n",
              "|    Test|              pear_3|         21|[FF D8 FF E0 00 1...|[0.0, 0.0, 0.0, 0...|\n",
              "|Training|          cucumber_3|         18|[FF D8 FF E0 00 1...|[2.2741177, 0.0, ...|\n",
              "|Training|         apple_red_3|         11|[FF D8 FF E0 00 1...|[0.0, 0.0, 0.0, 0...|\n",
              "|Training|apple_crimson_snow_1|          2|[FF D8 FF E0 00 1...|[0.0, 0.0, 0.0, 0...|\n",
              "|Training|apple_red_delicios_1|         12|[FF D8 FF E0 00 1...|[0.0, 0.0, 0.0, 0...|\n",
              "+--------+--------------------+-----------+--------------------+--------------------+\n",
              "only showing top 5 rows"
            ],
            "text/html": [
              "<table border='1'>\n",
              "<tr><th>dataset</th><th>target</th><th>target_code</th><th>content</th><th>X_features</th></tr>\n",
              "<tr><td>Test</td><td>pear_3</td><td>21</td><td>[FF D8 FF E0 00 1...</td><td>[0.0, 0.0, 0.0, 0...</td></tr>\n",
              "<tr><td>Training</td><td>cucumber_3</td><td>18</td><td>[FF D8 FF E0 00 1...</td><td>[2.2741177, 0.0, ...</td></tr>\n",
              "<tr><td>Training</td><td>apple_red_3</td><td>11</td><td>[FF D8 FF E0 00 1...</td><td>[0.0, 0.0, 0.0, 0...</td></tr>\n",
              "<tr><td>Training</td><td>apple_crimson_snow_1</td><td>2</td><td>[FF D8 FF E0 00 1...</td><td>[0.0, 0.0, 0.0, 0...</td></tr>\n",
              "<tr><td>Training</td><td>apple_red_delicios_1</td><td>12</td><td>[FF D8 FF E0 00 1...</td><td>[0.0, 0.0, 0.0, 0...</td></tr>\n",
              "</table>\n",
              "only showing top 5 rows\n"
            ]
          },
          "metadata": {},
          "execution_count": 115
        }
      ]
    },
    {
      "cell_type": "code",
      "source": [
        "features_df.show()"
      ],
      "metadata": {
        "colab": {
          "base_uri": "https://localhost:8080/"
        },
        "id": "5MDXh21CK5MG",
        "outputId": "dd3d20a9-67ec-4748-b45c-73f9ffb4e247"
      },
      "execution_count": null,
      "outputs": [
        {
          "output_type": "stream",
          "name": "stdout",
          "text": [
            "+----------+--------------------+-----------+--------------------+--------------------+\n",
            "|   dataset|              target|target_code|             content|          X_features|\n",
            "+----------+--------------------+-----------+--------------------+--------------------+\n",
            "|      Test|              pear_3|         21|[FF D8 FF E0 00 1...|[0.0, 0.0, 0.0, 0...|\n",
            "|  Training|          cucumber_3|         18|[FF D8 FF E0 00 1...|[2.2741177, 0.0, ...|\n",
            "|  Training|         apple_red_3|         11|[FF D8 FF E0 00 1...|[0.0, 0.0, 0.0, 0...|\n",
            "|  Training|apple_crimson_snow_1|          2|[FF D8 FF E0 00 1...|[0.0, 0.0, 0.0, 0...|\n",
            "|  Training|apple_red_delicios_1|         12|[FF D8 FF E0 00 1...|[0.0, 0.0, 0.0, 0...|\n",
            "|  Training|         apple_red_2|         10|[FF D8 FF E0 00 1...|[0.0, 0.0, 0.0, 0...|\n",
            "|Validation|      apple_golden_1|          3|[FF D8 FF E0 00 1...|[0.0, 0.0, 0.0, 0...|\n",
            "|  Training|          zucchini_1|         22|[FF D8 FF E0 00 1...|[0.0, 0.0, 0.0, 0...|\n",
            "|  Training|      apple_golden_2|          4|[FF D8 FF E0 00 1...|[0.0, 0.0, 0.0, 0...|\n",
            "|      Test|      apple_golden_2|          4|[FF D8 FF E0 00 1...|[0.0, 0.0, 0.0, 0...|\n",
            "|Validation|   eggplant_violet_1|         19|[FF D8 FF E0 00 1...|[0.68835497, 0.0,...|\n",
            "|Validation|      apple_golden_1|          3|[FF D8 FF E0 00 1...|[0.0, 0.0, 0.0, 0...|\n",
            "|  Training|          cucumber_3|         18|[FF D8 FF E0 00 1...|[1.9688822, 0.0, ...|\n",
            "|  Training|         apple_red_3|         11|[FF D8 FF E0 00 1...|[0.0, 0.0, 0.0, 0...|\n",
            "|Validation|              pear_1|         20|[FF D8 FF E0 00 1...|[0.0, 0.0, 0.0, 0...|\n",
            "|  Training|          cucumber_3|         18|[FF D8 FF E0 00 1...|[0.0, 0.0, 0.0, 0...|\n",
            "|  Training|              pear_1|         20|[FF D8 FF E0 00 1...|[0.0, 0.0, 0.0, 0...|\n",
            "|Validation|          zucchini_1|         22|[FF D8 FF E0 00 1...|[0.0, 0.0, 0.0, 0...|\n",
            "|  Training|     zucchini_dark_1|         23|[FF D8 FF E0 00 1...|[0.0, 0.0, 0.0, 0...|\n",
            "|  Training|   apple_pink_lady_1|          8|[FF D8 FF E0 00 1...|[0.0, 0.0, 0.0, 0...|\n",
            "+----------+--------------------+-----------+--------------------+--------------------+\n",
            "only showing top 20 rows\n",
            "\n"
          ]
        }
      ]
    },
    {
      "cell_type": "code",
      "source": [
        "picture_cnt = features_df.count()\n",
        "avg_elapse_s = elapse_s / picture_cnt\n",
        "\n",
        "print('Number of pictures: {}'.format(picture_cnt))\n",
        "print('Average time elapsed per picture: {} seconds'.format(avg_elapse_s))"
      ],
      "metadata": {
        "colab": {
          "base_uri": "https://localhost:8080/"
        },
        "id": "iNLw7J-ZlRv1",
        "outputId": "2d254f4b-ba86-4a6b-de01-adc2dd02088f"
      },
      "execution_count": null,
      "outputs": [
        {
          "output_type": "stream",
          "name": "stdout",
          "text": [
            "Number of pictures: 193\n",
            "Average time elapsed per picture: 0.0005677228146884108 seconds\n"
          ]
        }
      ]
    },
    {
      "cell_type": "markdown",
      "source": [
        "## Features reduction  <a class=\"anchor\" id=\"sub7_3\"></a> "
      ],
      "metadata": {
        "id": "7LVyCvPsExOZ"
      }
    },
    {
      "cell_type": "code",
      "source": [
        "def pca_transformation(df, n_components=10):\n",
        "    \n",
        "    \"\"\"\n",
        "    Applique un algorithme de PCA sur l'ensemble des images pour réduire la dimension de chaque image \n",
        "    du jeu de données.\n",
        "    \n",
        "    Paramètres:\n",
        "    df(pyspark dataFrame): contient une colonne avec les données images\n",
        "    n_components(int): nombre de dimensions à conserver\n",
        "    \"\"\"\n",
        "    # Initilisation du temps de calcul\n",
        "    start_time = time.time()\n",
        "\n",
        "    # Les données images sont converties au format vecteur dense\n",
        "    to_vector_udf = udf(lambda r: Vectors.dense(r), VectorUDT())\n",
        "    df = df.withColumn('X_vectors', to_vector_udf('X_features'))\n",
        "\n",
        "    # Entrainement de l'algorithme\n",
        "    pca = PCA(k=n_components, inputCol='X_vectors', outputCol='X_vectors_pca')\n",
        "    model_pca = pca.fit(df)\n",
        "\n",
        "    # Transformation des images sur les k premières composantes\n",
        "    df = model_pca.transform(df)\n",
        "    \n",
        "    # Affiche le temps de calcul\n",
        "    print(\"Temps d'execution {:.2f} secondes\".format(time.time() - start_time))\n",
        "\n",
        "    return df"
      ],
      "metadata": {
        "colab": {
          "base_uri": "https://localhost:8080/"
        },
        "id": "biYedQUX841F",
        "outputId": "2ac77302-d841-4361-c683-8104f42ed613"
      },
      "execution_count": null,
      "outputs": [
        {
          "output_type": "stream",
          "name": "stdout",
          "text": [
            "Temps d'execution 1816.13 secondes\n"
          ]
        }
      ]
    },
    {
      "cell_type": "code",
      "source": [
        "final_df = pca_transformation(features_df)"
      ],
      "metadata": {
        "id": "cZsvXY6W-PU9"
      },
      "execution_count": null,
      "outputs": []
    },
    {
      "cell_type": "code",
      "execution_count": null,
      "metadata": {
        "scrolled": true,
        "colab": {
          "base_uri": "https://localhost:8080/"
        },
        "id": "5UKe6Niki_DX",
        "outputId": "2a2ba0fb-c413-4279-f55e-1cbdd82b5233"
      },
      "outputs": [
        {
          "output_type": "stream",
          "name": "stdout",
          "text": [
            "+----------+--------------------+-----------+--------------------+--------------------+--------------------+--------------------+\n",
            "|   dataset|              target|target_code|             content|          X_features|           X_vectors|       X_vectors_pca|\n",
            "+----------+--------------------+-----------+--------------------+--------------------+--------------------+--------------------+\n",
            "|      Test|              pear_3|         21|[FF D8 FF E0 00 1...|[0.0, 0.0, 0.0, 0...|[0.0,0.0,0.0,0.0,...|[-87.598921875144...|\n",
            "|  Training|          cucumber_3|         18|[FF D8 FF E0 00 1...|[2.2741177, 0.0, ...|[2.27411770820617...|[143.200677678075...|\n",
            "|  Training|         apple_red_3|         11|[FF D8 FF E0 00 1...|[0.0, 0.0, 0.0, 0...|[0.0,0.0,0.0,0.0,...|[-122.91375325607...|\n",
            "|  Training|apple_crimson_snow_1|          2|[FF D8 FF E0 00 1...|[0.0, 0.0, 0.0, 0...|[0.0,0.0,0.0,0.0,...|[-112.00103849373...|\n",
            "|  Training|apple_red_delicios_1|         12|[FF D8 FF E0 00 1...|[0.0, 0.0, 0.0, 0...|[0.0,0.0,0.0,0.0,...|[-59.714756389049...|\n",
            "|  Training|         apple_red_2|         10|[FF D8 FF E0 00 1...|[0.0, 0.0, 0.0, 0...|[0.0,0.0,0.0,0.0,...|[-126.11310758031...|\n",
            "|Validation|      apple_golden_1|          3|[FF D8 FF E0 00 1...|[0.0, 0.0, 0.0, 0...|[0.0,0.0,0.0,0.0,...|[-50.676643645096...|\n",
            "|  Training|          zucchini_1|         22|[FF D8 FF E0 00 1...|[0.0, 0.0, 0.0, 0...|[0.0,0.0,0.0,0.0,...|[194.058802273283...|\n",
            "|  Training|      apple_golden_2|          4|[FF D8 FF E0 00 1...|[0.0, 0.0, 0.0, 0...|[0.0,0.0,0.0,0.0,...|[-103.81263408462...|\n",
            "|      Test|      apple_golden_2|          4|[FF D8 FF E0 00 1...|[0.0, 0.0, 0.0, 0...|[0.0,0.0,0.0,0.0,...|[-105.59812836738...|\n",
            "|Validation|   eggplant_violet_1|         19|[FF D8 FF E0 00 1...|[0.68835497, 0.0,...|[0.68835496902465...|[213.012229623437...|\n",
            "|Validation|      apple_golden_1|          3|[FF D8 FF E0 00 1...|[0.0, 0.0, 0.0, 0...|[0.0,0.0,0.0,0.0,...|[-68.036564795038...|\n",
            "|  Training|          cucumber_3|         18|[FF D8 FF E0 00 1...|[1.9688822, 0.0, ...|[1.96888220310211...|[152.380494909531...|\n",
            "|  Training|         apple_red_3|         11|[FF D8 FF E0 00 1...|[0.0, 0.0, 0.0, 0...|[0.0,0.0,0.0,0.0,...|[-112.06719784331...|\n",
            "|Validation|              pear_1|         20|[FF D8 FF E0 00 1...|[0.0, 0.0, 0.0, 0...|[0.0,0.0,0.0,0.0,...|[-1.4441427987911...|\n",
            "|  Training|          cucumber_3|         18|[FF D8 FF E0 00 1...|[0.0, 0.0, 0.0, 0...|[0.0,0.0,0.0,0.0,...|[116.833323771591...|\n",
            "|  Training|              pear_1|         20|[FF D8 FF E0 00 1...|[0.0, 0.0, 0.0, 0...|[0.0,0.0,0.0,0.0,...|[-13.215704643634...|\n",
            "|Validation|          zucchini_1|         22|[FF D8 FF E0 00 1...|[0.0, 0.0, 0.0, 0...|[0.0,0.0,0.0,0.0,...|[169.182672144196...|\n",
            "|  Training|     zucchini_dark_1|         23|[FF D8 FF E0 00 1...|[0.0, 0.0, 0.0, 0...|[0.0,0.0,0.0,0.0,...|[217.355824690547...|\n",
            "|  Training|   apple_pink_lady_1|          8|[FF D8 FF E0 00 1...|[0.0, 0.0, 0.0, 0...|[0.0,0.0,0.0,0.0,...|[-111.22134379550...|\n",
            "+----------+--------------------+-----------+--------------------+--------------------+--------------------+--------------------+\n",
            "only showing top 20 rows\n",
            "\n"
          ]
        }
      ],
      "source": [
        "final_df.show()"
      ]
    },
    {
      "cell_type": "code",
      "source": [
        "# write spark dataframe to a Parquet file\n",
        "final_df.write.mode(\"overwrite\").parquet(OUTPUT+\"/reduced_features_parquet\")"
      ],
      "metadata": {
        "id": "aDyf5ibapQrC"
      },
      "execution_count": null,
      "outputs": []
    },
    {
      "cell_type": "markdown",
      "metadata": {
        "id": "bgnwTt6ri_DX"
      },
      "source": [
        "# Train a new model using pre-computed features <a class=\"anchor\" id=\"chapter8\"></a> \n",
        "\n",
        "Layers trainable attributes:\n",
        "- weights : list of all weights variables of the layer  \n",
        "- trainable_weights : list of those that are meant to be updated (via gradient descent) to minimize the loss during training  \n",
        "- non_trainable_weights : list of those that aren't meant to be trained (updated by the model during the forward pass)  \n",
        "- trainable : false moves all the layer's weights from trainable to non-trainable (\"freezing\" the layer)  \n",
        "The only built-in layer that has non-trainable weights is the BatchNormalization layer  \n",
        "\n",
        "1 - Instantiate a base model and load pre-trained weights into it  \n",
        "2 - Freeze all layers in the base model by setting trainable = False  \n",
        "3 - Create a new model on top of the output of one/several layers from the base model  \n",
        "4 - Train your new model on your new dataset  (top layers to learn to turn the old features into predictions on a new dataset)   \n",
        "\n",
        "Fine-tuning (optionnal): \n",
        "unfreeze the entire/partial model you obtained and re-training it on the new data with a very low learning rate  "
      ]
    },
    {
      "cell_type": "markdown",
      "metadata": {
        "id": "Pj3oDzFXi_DY"
      },
      "source": [
        "## Prepare my new model <a class=\"anchor\" id=\"sub8_1\"></a> "
      ]
    },
    {
      "cell_type": "code",
      "source": [
        "def add_layers_2_model(pretrained_model):\n",
        "    \"\"\"\n",
        "\n",
        "    \"\"\"    \n",
        "    # Freeze all layers in the base model by setting trainable = False\n",
        "    pretrained_model.trainable = False\n",
        "\n",
        "    # Create a new model on top of the output of one layer from the model ------------------------------------------- \n",
        "    new_model = Sequential()\n",
        "\n",
        "    new_model.add(pretrained_model)\n",
        "\n",
        "    new_model.add(Flatten())\n",
        "    new_model.add(Dense(512, activation='relu'))\n",
        "    new_model.add(Dense(25, activation='softmax'))\n",
        "\n",
        "    # Compile\n",
        "    sgd = optimizers.SGD(learning_rate = 0.01, decay = 1e-6, momentum = 0.9, nesterov = True)\n",
        "    OBJECTIVE_FUNCTION = 'categorical_crossentropy'\n",
        "    LOSS_METRICS = ['accuracy']\n",
        "    new_model.compile(optimizer=sgd, loss=OBJECTIVE_FUNCTION, metrics=LOSS_METRICS)\n",
        "    \n",
        "    return new_model"
      ],
      "metadata": {
        "id": "gh9d2-D3Cw3G"
      },
      "execution_count": null,
      "outputs": []
    },
    {
      "cell_type": "code",
      "source": [
        "new_model = add_layers_2_model(pre_model)\n",
        "new_model.summary()"
      ],
      "metadata": {
        "colab": {
          "base_uri": "https://localhost:8080/"
        },
        "id": "JrPpfpy1O2if",
        "outputId": "e9b2d204-c2ac-492b-ad12-d07fc8fe90a2"
      },
      "execution_count": null,
      "outputs": [
        {
          "output_type": "stream",
          "name": "stdout",
          "text": [
            "Model: \"sequential_1\"\n",
            "_________________________________________________________________\n",
            " Layer (type)                Output Shape              Param #   \n",
            "=================================================================\n",
            " resnet50 (Functional)       (None, 7, 7, 2048)        23587712  \n",
            "                                                                 \n",
            " flatten_1 (Flatten)         (None, 100352)            0         \n",
            "                                                                 \n",
            " dense_2 (Dense)             (None, 512)               51380736  \n",
            "                                                                 \n",
            " dense_3 (Dense)             (None, 25)                12825     \n",
            "                                                                 \n",
            "=================================================================\n",
            "Total params: 74,981,273\n",
            "Trainable params: 51,393,561\n",
            "Non-trainable params: 23,587,712\n",
            "_________________________________________________________________\n"
          ]
        }
      ]
    },
    {
      "cell_type": "markdown",
      "metadata": {
        "id": "lxp6uOmMi_DZ"
      },
      "source": [
        "Spark workers need to access the model and its weights.  \n",
        "For moderately sized models (< 1GB in size), a good practice is to download the model to the Spark driver and \n",
        "then broadcast the weights to the workers.  \n",
        "For large models (> 1GB), it is best to load the model weights from distributed storage to workers directly.  "
      ]
    },
    {
      "cell_type": "markdown",
      "metadata": {
        "id": "w8ItnWVGi_DZ"
      },
      "source": [
        "## Train my new model on Training dataset <a class=\"anchor\" id=\"sub8_2\"></a> "
      ]
    },
    {
      "cell_type": "code",
      "source": [
        "def preprocess(content):\n",
        "    # Redimension of the picture\n",
        "    img = Image.open(io.BytesIO(content)).resize([IMAGE_RESIZE, IMAGE_RESIZE])\n",
        "    \n",
        "    # Converts the PIL Image instance to a Numpy array\n",
        "    arr = img_to_array(img)\n",
        "    \n",
        "    # Preprocesses a Numpy array encoding a batch of images\n",
        "    # The images are converted from RGB to BGR, then each color channel is zero-centered with respect to the ImageNet dataset, without scaling\n",
        "    # data_format=None > \"channels_last\" assumes the dimension order is (rows, cols, channels)\n",
        "    arr_temp = preprocess_input(arr, data_format=None)\n",
        "    \n",
        "    return arr_temp\n",
        "\n",
        "    # Return a copy of the array data as a (nested) Python list. Data items are converted to the nearest compatible builtin Python type, via the item function.\n",
        "    # Convert to a list whose values are Python primitives instead of numpy objects numpy.float32 (mismatched data types between Python and Spark)\n",
        "    #return arr_temp.tolist()\n",
        "\n",
        "    #return arr_temp.astype(np.float).tolist()\n",
        "    #return tf.convert_to_tensor(arr_temp, dtype=tf.float32)\n",
        "    #return tf.convert_to_tensor(arr_temp.astype(np.float).tolist())"
      ],
      "metadata": {
        "id": "5FOpjZf2db8F"
      },
      "execution_count": null,
      "outputs": []
    },
    {
      "cell_type": "markdown",
      "source": [
        "### Train with PySpark Functions (UDF): to be further developped  \n",
        "https://changhsinlee.com/pyspark-udf/"
      ],
      "metadata": {
        "id": "JiLzKEFLnu8z"
      }
    },
    {
      "cell_type": "code",
      "source": [
        "preprocess_udf = udf(lambda content_series: preprocess(content_series), ArrayType(FloatType()))\n",
        "\n",
        "preprocess_df = pictures_df.select('dataset', 'target', 'target_code', preprocess_udf('content').alias(\"model_input\"))\n",
        "preprocess_df.show()"
      ],
      "metadata": {
        "id": "8b2UJTDMgeH1"
      },
      "execution_count": null,
      "outputs": []
    },
    {
      "cell_type": "code",
      "source": [
        "preprocess_df.show(1, False, True)"
      ],
      "metadata": {
        "colab": {
          "base_uri": "https://localhost:8080/"
        },
        "id": "vJBDfFqslRJ_",
        "outputId": "d74c8c8e-01bb-4812-b04c-a24b33804e02"
      },
      "execution_count": null,
      "outputs": [
        {
          "output_type": "stream",
          "name": "stdout",
          "text": [
            "-RECORD 0-------------------------------------------------------------------------------------------------------------------------------------------------------------------------------------------------------------------------------------------------------------------------------------------------------------------------------------------------------------------------------------------------------------------------------------------------------------------------------------------------------------------------------------------------------------------------------------------------------------------------------------------------------------------------------------------------------------------------------------------------------------------------------------------------------------------------------------------------------------------------------------------------------------------------------------------------------------------------------------------------------------------------------------------------------------------------------------------------------------------------------------------------------------------------------------------------------------------------------------------------------------------------------------------------------------------------------------------------------------------------------------------------------\n",
            " dataset     | Test                                                                                                                                                                                                                                                                                                                                                                                                                                                                                                                                                                                                                                                                                                                                                                                                                                                                                                                                                                                                                                                                                                                                                                                                                                                                                                                                                                                             \n",
            " target      | apple_hit_1                                                                                                                                                                                                                                                                                                                                                                                                                                                                                                                                                                                                                                                                                                                                                                                                                                                                                                                                                                                                                                                                                                                                                                                                                                                                                                                                                                                      \n",
            " target_code | 7                                                                                                                                                                                                                                                                                                                                                                                                                                                                                                                                                                                                                                                                                                                                                                                                                                                                                                                                                                                                                                                                                                                                                                                                                                                                                                                                                                                                \n",
            " model_input | [null, null, null, null, null, null, null, null, null, null, null, null, null, null, null, null, null, null, null, null, null, null, null, null, null, null, null, null, null, null, null, null, null, null, null, null, null, null, null, null, null, null, null, null, null, null, null, null, null, null, null, null, null, null, null, null, null, null, null, null, null, null, null, null, null, null, null, null, null, null, null, null, null, null, null, null, null, null, null, null, null, null, null, null, null, null, null, null, null, null, null, null, null, null, null, null, null, null, null, null, null, null, null, null, null, null, null, null, null, null, null, null, null, null, null, null, null, null, null, null, null, null, null, null, null, null, null, null, null, null, null, null, null, null, null, null, null, null, null, null, null, null, null, null, null, null, null, null, null, null, null, null, null, null, null, null, null, null, null, null, null, null, null, null, null, null, null, null, null, null, null, null, null, null, null, null, null, null, null, null, null, null, null, null, null, null, null, null, null, null, null, null, null, null, null, null, null, null, null, null, null, null, null, null, null, null, null, null, null, null, null, null, null, null, null, null, null, null, null, null, null, null, null, null] \n",
            "only showing top 1 row\n",
            "\n"
          ]
        }
      ]
    },
    {
      "cell_type": "code",
      "source": [
        "img = Image.open(GOOGLE_DEST_PATH+'Training/apple_6/r0_0.jpg').resize([IMAGE_RESIZE, IMAGE_RESIZE])\n",
        "type(img)"
      ],
      "metadata": {
        "colab": {
          "base_uri": "https://localhost:8080/"
        },
        "id": "zWCMT5bEdghS",
        "outputId": "50e4267a-af92-4cc8-db3a-ed941407b5fb"
      },
      "execution_count": null,
      "outputs": [
        {
          "output_type": "execute_result",
          "data": {
            "text/plain": [
              "PIL.Image.Image"
            ]
          },
          "metadata": {},
          "execution_count": 197
        }
      ]
    },
    {
      "cell_type": "code",
      "source": [
        "arr = img_to_array(img)\n",
        "type(arr)"
      ],
      "metadata": {
        "colab": {
          "base_uri": "https://localhost:8080/"
        },
        "id": "UA-PCk6md_-j",
        "outputId": "5a5dd3f0-e6d7-4f70-948c-eb571a46094b"
      },
      "execution_count": null,
      "outputs": [
        {
          "output_type": "execute_result",
          "data": {
            "text/plain": [
              "numpy.ndarray"
            ]
          },
          "metadata": {},
          "execution_count": 198
        }
      ]
    },
    {
      "cell_type": "code",
      "source": [
        "arr.shape"
      ],
      "metadata": {
        "colab": {
          "base_uri": "https://localhost:8080/"
        },
        "id": "_8-JsyM6eFHd",
        "outputId": "b7807696-c817-49a7-f1b8-bc2fa3e37649"
      },
      "execution_count": null,
      "outputs": [
        {
          "output_type": "execute_result",
          "data": {
            "text/plain": [
              "(224, 224, 3)"
            ]
          },
          "metadata": {},
          "execution_count": 199
        }
      ]
    },
    {
      "cell_type": "code",
      "source": [
        "arr"
      ],
      "metadata": {
        "colab": {
          "base_uri": "https://localhost:8080/"
        },
        "id": "YLWl-7SCeIYA",
        "outputId": "010348cf-458a-425f-a808-5219e8351cef"
      },
      "execution_count": null,
      "outputs": [
        {
          "output_type": "execute_result",
          "data": {
            "text/plain": [
              "array([[[255., 255., 255.],\n",
              "        [255., 255., 255.],\n",
              "        [255., 255., 255.],\n",
              "        ...,\n",
              "        [255., 255., 255.],\n",
              "        [255., 255., 255.],\n",
              "        [255., 255., 255.]],\n",
              "\n",
              "       [[255., 255., 255.],\n",
              "        [255., 255., 255.],\n",
              "        [255., 255., 255.],\n",
              "        ...,\n",
              "        [255., 255., 255.],\n",
              "        [255., 255., 255.],\n",
              "        [255., 255., 255.]],\n",
              "\n",
              "       [[255., 255., 255.],\n",
              "        [255., 255., 255.],\n",
              "        [255., 255., 255.],\n",
              "        ...,\n",
              "        [255., 255., 255.],\n",
              "        [255., 255., 255.],\n",
              "        [255., 255., 255.]],\n",
              "\n",
              "       ...,\n",
              "\n",
              "       [[255., 255., 255.],\n",
              "        [255., 255., 255.],\n",
              "        [255., 255., 255.],\n",
              "        ...,\n",
              "        [255., 255., 255.],\n",
              "        [255., 255., 255.],\n",
              "        [255., 255., 255.]],\n",
              "\n",
              "       [[255., 255., 255.],\n",
              "        [255., 255., 255.],\n",
              "        [255., 255., 255.],\n",
              "        ...,\n",
              "        [255., 255., 255.],\n",
              "        [255., 255., 255.],\n",
              "        [255., 255., 255.]],\n",
              "\n",
              "       [[255., 255., 255.],\n",
              "        [255., 255., 255.],\n",
              "        [255., 255., 255.],\n",
              "        ...,\n",
              "        [255., 255., 255.],\n",
              "        [255., 255., 255.],\n",
              "        [255., 255., 255.]]], dtype=float32)"
            ]
          },
          "metadata": {},
          "execution_count": 200
        }
      ]
    },
    {
      "cell_type": "code",
      "source": [
        "arr_temp = preprocess_input(arr, data_format=None)\n",
        "arr_temp.shape"
      ],
      "metadata": {
        "colab": {
          "base_uri": "https://localhost:8080/"
        },
        "id": "frQDW0J_dXmw",
        "outputId": "c60abc28-27cb-4793-c5a8-492d7b67ec38"
      },
      "execution_count": null,
      "outputs": [
        {
          "output_type": "execute_result",
          "data": {
            "text/plain": [
              "(224, 224, 3)"
            ]
          },
          "metadata": {},
          "execution_count": 202
        }
      ]
    },
    {
      "cell_type": "code",
      "source": [
        "arr_temp"
      ],
      "metadata": {
        "colab": {
          "base_uri": "https://localhost:8080/"
        },
        "id": "3kzRL6QWemCP",
        "outputId": "59957ee6-56ca-4af4-d97c-27c41b157329"
      },
      "execution_count": null,
      "outputs": [
        {
          "output_type": "execute_result",
          "data": {
            "text/plain": [
              "array([[[47.122   , 21.442009,  7.640007],\n",
              "        [47.122   , 21.442009,  7.640007],\n",
              "        [47.122   , 21.442009,  7.640007],\n",
              "        ...,\n",
              "        [47.122   , 21.442009,  7.640007],\n",
              "        [47.122   , 21.442009,  7.640007],\n",
              "        [47.122   , 21.442009,  7.640007]],\n",
              "\n",
              "       [[47.122   , 21.442009,  7.640007],\n",
              "        [47.122   , 21.442009,  7.640007],\n",
              "        [47.122   , 21.442009,  7.640007],\n",
              "        ...,\n",
              "        [47.122   , 21.442009,  7.640007],\n",
              "        [47.122   , 21.442009,  7.640007],\n",
              "        [47.122   , 21.442009,  7.640007]],\n",
              "\n",
              "       [[47.122   , 21.442009,  7.640007],\n",
              "        [47.122   , 21.442009,  7.640007],\n",
              "        [47.122   , 21.442009,  7.640007],\n",
              "        ...,\n",
              "        [47.122   , 21.442009,  7.640007],\n",
              "        [47.122   , 21.442009,  7.640007],\n",
              "        [47.122   , 21.442009,  7.640007]],\n",
              "\n",
              "       ...,\n",
              "\n",
              "       [[47.122   , 21.442009,  7.640007],\n",
              "        [47.122   , 21.442009,  7.640007],\n",
              "        [47.122   , 21.442009,  7.640007],\n",
              "        ...,\n",
              "        [47.122   , 21.442009,  7.640007],\n",
              "        [47.122   , 21.442009,  7.640007],\n",
              "        [47.122   , 21.442009,  7.640007]],\n",
              "\n",
              "       [[47.122   , 21.442009,  7.640007],\n",
              "        [47.122   , 21.442009,  7.640007],\n",
              "        [47.122   , 21.442009,  7.640007],\n",
              "        ...,\n",
              "        [47.122   , 21.442009,  7.640007],\n",
              "        [47.122   , 21.442009,  7.640007],\n",
              "        [47.122   , 21.442009,  7.640007]],\n",
              "\n",
              "       [[47.122   , 21.442009,  7.640007],\n",
              "        [47.122   , 21.442009,  7.640007],\n",
              "        [47.122   , 21.442009,  7.640007],\n",
              "        ...,\n",
              "        [47.122   , 21.442009,  7.640007],\n",
              "        [47.122   , 21.442009,  7.640007],\n",
              "        [47.122   , 21.442009,  7.640007]]], dtype=float32)"
            ]
          },
          "metadata": {},
          "execution_count": 204
        }
      ]
    },
    {
      "cell_type": "code",
      "source": [
        "arr_temp.tolist()"
      ],
      "metadata": {
        "id": "f-waS7vuejIn"
      },
      "execution_count": null,
      "outputs": []
    },
    {
      "cell_type": "markdown",
      "source": [
        "### Train with Python Functions"
      ],
      "metadata": {
        "id": "EjWaeHhAoGDn"
      }
    },
    {
      "cell_type": "code",
      "source": [
        "# Convert Spark DataFrame to Pandas DataFrame\n",
        "df_pictures = pictures_df.toPandas()\n",
        "\n",
        "# Isolate train dataset\n",
        "df_train = df_pictures[df_pictures['dataset'] == 'Training']\n",
        "\n",
        "# Preprocess raw image bytes\n",
        "X_train = np.stack(df_train['content'].map(preprocess))\n",
        "print(\"Shape X_train: \", X_train.shape)\n",
        "\n",
        "y_train = df_train['target_code'].values\n",
        "\n",
        "# one-hot encoding using keras' numpy-related utilities\n",
        "print(\"Shape y_train before one-hot encoding: \", y_train.shape)\n",
        "Y_train = np_utils.to_categorical(y_train, 25)\n",
        "print(\"Shape Y_train after one-hot encoding: \", Y_train.shape)"
      ],
      "metadata": {
        "id": "0_QUdJEFhp8P",
        "colab": {
          "base_uri": "https://localhost:8080/"
        },
        "outputId": "9a6824e0-ac71-4dda-8d60-cc986519081e"
      },
      "execution_count": null,
      "outputs": [
        {
          "output_type": "stream",
          "name": "stdout",
          "text": [
            "Shape X_train:  (97, 224, 224, 3)\n",
            "Shape y_train before one-hot encoding:  (97,)\n",
            "Shape Y_train after one-hot encoding:  (97, 25)\n"
          ]
        },
        {
          "output_type": "execute_result",
          "data": {
            "text/plain": [
              "array([[0., 0., 0., ..., 0., 0., 0.],\n",
              "       [0., 0., 0., ..., 0., 0., 0.],\n",
              "       [0., 0., 0., ..., 0., 0., 0.],\n",
              "       ...,\n",
              "       [1., 0., 0., ..., 0., 0., 0.],\n",
              "       [1., 0., 0., ..., 0., 0., 0.],\n",
              "       [1., 0., 0., ..., 0., 0., 0.]], dtype=float32)"
            ]
          },
          "metadata": {},
          "execution_count": 94
        }
      ]
    },
    {
      "cell_type": "code",
      "source": [
        "# Train new_model with Training dataset\n",
        "EARLY_STOP_PATIENCE = 10  # EARLY_STOP_PATIENCE must be < NUM_EPOCHS\n",
        "cb_early_stopper = EarlyStopping(monitor = 'loss', patience = EARLY_STOP_PATIENCE)\n",
        "\n",
        "cb_checkpointer = ModelCheckpoint(filepath = 'best.hdf5', monitor = 'loss', save_best_only = True, mode = 'auto')\n",
        "\n",
        "NUM_EPOCHS = 30\n",
        "preds = new_model.fit(x=X_train, y=Y_train, epochs=NUM_EPOCHS, callbacks=[cb_checkpointer, cb_early_stopper])"
      ],
      "metadata": {
        "colab": {
          "base_uri": "https://localhost:8080/"
        },
        "id": "_iAz4kwoi6SC",
        "outputId": "7ccbbe9d-add8-4640-cf11-62fdab2c4828"
      },
      "execution_count": null,
      "outputs": [
        {
          "output_type": "stream",
          "name": "stdout",
          "text": [
            "Epoch 1/10\n",
            "4/4 [==============================] - 18s 4s/step - loss: 670.0675 - accuracy: 0.0619\n",
            "Epoch 2/10\n",
            "4/4 [==============================] - 16s 4s/step - loss: 1093.9584 - accuracy: 0.2474\n",
            "Epoch 3/10\n",
            "4/4 [==============================] - 17s 4s/step - loss: 114.9367 - accuracy: 0.3608\n",
            "Epoch 4/10\n",
            "4/4 [==============================] - 17s 4s/step - loss: 67.5636 - accuracy: 0.3918\n",
            "Epoch 5/10\n",
            "4/4 [==============================] - 17s 4s/step - loss: 2.5487 - accuracy: 0.4536\n",
            "Epoch 6/10\n",
            "4/4 [==============================] - 16s 4s/step - loss: 3.3675 - accuracy: 0.4227\n",
            "Epoch 7/10\n",
            "4/4 [==============================] - 16s 4s/step - loss: 7.1960 - accuracy: 0.4433\n",
            "Epoch 8/10\n",
            "4/4 [==============================] - 16s 4s/step - loss: 3.5551 - accuracy: 0.4536\n"
          ]
        }
      ]
    },
    {
      "cell_type": "code",
      "source": [
        "new_model.save(OUTPUT+\"/fruits-360_transferlearning_restnet50.h5\")"
      ],
      "metadata": {
        "id": "HnNiyeC_HITi"
      },
      "execution_count": null,
      "outputs": []
    },
    {
      "cell_type": "markdown",
      "source": [
        "## Predict fruit class with my new model on Test dataset <a class=\"anchor\" id=\"sub8_3\"></a> "
      ],
      "metadata": {
        "id": "4JfCixevYzl_"
      }
    },
    {
      "cell_type": "code",
      "source": [
        "# Isolate test dataset\n",
        "df_test = df_pictures[df_pictures['dataset'] == 'Test']\n",
        "\n",
        "# Preprocess raw image bytes\n",
        "X_test = np.stack(df_test['content'].map(preprocess))\n",
        "print(\"Shape X_test: \", X_test.shape)\n",
        "\n",
        "# Compute target probabilities\n",
        "Y_test_pred = new_model.predict(X_test)\n",
        "print(\"Shape Y_test_pred: \", Y_test_pred.shape)\n",
        "\n",
        "# Deduct target prediction\n",
        "y_test_pred = np.argmax(Y_test_pred, axis=1)\n",
        "print(\"Shape y_test_pred: \", y_test_pred.shape)"
      ],
      "metadata": {
        "id": "5-l23wzvOdFp",
        "colab": {
          "base_uri": "https://localhost:8080/"
        },
        "outputId": "72824524-2299-4d24-a3d3-06ef358a49e8"
      },
      "execution_count": null,
      "outputs": [
        {
          "output_type": "stream",
          "name": "stdout",
          "text": [
            "Shape X_test:  (48, 224, 224, 3)\n",
            "Shape Y_test_pred:  (48, 25)\n",
            "Shape y_test_pred:  (48,)\n"
          ]
        }
      ]
    },
    {
      "cell_type": "markdown",
      "source": [
        "# Visualise classification results <a class=\"anchor\" id=\"chapter9\"></a> "
      ],
      "metadata": {
        "id": "tTuKoD9CY7Od"
      }
    },
    {
      "cell_type": "code",
      "source": [
        "df_final = final_df.toPandas()\n",
        "\n",
        "# Isolate Test dataset\n",
        "df_test = df_final[df_final['dataset'] == 'Test']\n",
        "\n",
        "# Transform to Array\n",
        "X_test_pca = np.stack(df_test['X_vectors_pca'])"
      ],
      "metadata": {
        "colab": {
          "base_uri": "https://localhost:8080/"
        },
        "id": "03FCuhPBIFOz",
        "outputId": "3f6b5ecc-11c8-4124-b6a4-281ceb87b513"
      },
      "execution_count": null,
      "outputs": [
        {
          "output_type": "stream",
          "name": "stderr",
          "text": [
            "/usr/local/lib/python3.7/dist-packages/pyspark/sql/pandas/conversion.py:87: UserWarning: toPandas attempted Arrow optimization because 'spark.sql.execution.arrow.pyspark.enabled' is set to true; however, failed by the reason below:\n",
            "  Unsupported type in conversion to Arrow: VectorUDT\n",
            "Attempting non-optimization as 'spark.sql.execution.arrow.pyspark.fallback.enabled' is set to true.\n",
            "  warnings.warn(msg)\n"
          ]
        }
      ]
    },
    {
      "cell_type": "code",
      "source": [
        "fig = plt.figure(figsize=(10, 8))\n",
        "\n",
        "# Draw predictions in the first main plan\n",
        "plt.scatter(X_test_pca[:, 0], X_test_pca[:, 1], s=10, c=y_test_pred+1)\n",
        "plt.colorbar()\n",
        "\n",
        "plt.plot([X_test_pca[:, 0].min(), X_test_pca[:, 0].max()], [0, 0], color='grey', ls='-') \n",
        "plt.plot([0, 0], [X_test_pca[:, 1].min(), X_test_pca[:, 1].max()], color='grey', ls='-') \n",
        "\n",
        "plt.title(\"Projection of predictions on the first main plan\")\n",
        "plt.xlabel(\"PC1\")\n",
        "plt.ylabel(\"PC2\")   \n",
        "   \n",
        "plt.show()"
      ],
      "metadata": {
        "id": "04i1fs_uylSU",
        "colab": {
          "base_uri": "https://localhost:8080/",
          "height": 513
        },
        "outputId": "9ae0b878-74fe-4ded-a48a-941804cb9149"
      },
      "execution_count": null,
      "outputs": [
        {
          "output_type": "display_data",
          "data": {
            "text/plain": [
              "<Figure size 720x576 with 2 Axes>"
            ],
            "image/png": "[encoded data removed]"
          },
          "metadata": {
            "needs_background": "light"
          }
        }
      ]
    },
    {
      "cell_type": "markdown",
      "metadata": {
        "_uuid": "a7e9a1149953069853d4d83ec46f22084dce8711",
        "collapsed": true,
        "id": "nyxppMvPi_Da"
      },
      "source": [
        "* [Go to Table des matières](#chapter0)\n",
        "\n",
        "# End <a class=\"anchor\" id=\"chapter100\"></a> "
      ]
    }
  ],
  "metadata": {
    "kernelspec": {
      "display_name": "Python 3 (ipykernel)",
      "language": "python",
      "name": "python3"
    },
    "language_info": {
      "codemirror_mode": {
        "name": "ipython",
        "version": 3
      },
      "file_extension": ".py",
      "mimetype": "text/x-python",
      "name": "python",
      "nbconvert_exporter": "python",
      "pygments_lexer": "ipython3",
      "version": "3.9.7"
    },
    "colab": {
      "name": "P8_05_notebook_cloud.ipynb",
      "provenance": [],
      "collapsed_sections": [
        "Ghpp_J6ai_DR",
        "YLmjU2qkNU7a",
        "-rF8OT-7i_DU",
        "bgnwTt6ri_DX",
        "JiLzKEFLnu8z",
        "tTuKoD9CY7Od"
      ],
      "include_colab_link": true
    }
  },
  "nbformat": 4,
  "nbformat_minor": 0
}