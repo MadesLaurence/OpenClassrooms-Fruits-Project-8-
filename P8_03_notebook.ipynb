{
  "cells": [
    {
      "cell_type": "markdown",
      "metadata": {
        "id": "view-in-github",
        "colab_type": "text"
      },
      "source": [
        "<a href=\"https://colab.research.google.com/github/MadesLaurence/OpenClassrooms-Fruits-Project-8-/blob/main/P8_03_notebook.ipynb\" target=\"_parent\"><img src=\"https://colab.research.google.com/assets/colab-badge.svg\" alt=\"Open In Colab\"/></a>"
      ]
    },
    {
      "cell_type": "markdown",
      "metadata": {
        "id": "YaEl_gVii_C9"
      },
      "source": [
        "# Objective\n",
        "Set-up a first big data architecture using AWS products (Mobile application with a fruit pictures classifier engine)\n",
        "\n",
        "# Data\n",
        "Link to upload data: https://www.kaggle.com/moltean/fruits\n",
        "\n",
        "# Table of contents <a class=\"anchor\" id=\"chapter0\"></a> \n",
        "* [Imports and declarations](#chapter1)\n",
        "    * [Import packages](#sub1_1)\n",
        "    * [Declare constants](#sub1_2)\n",
        "* [Exploration of the full dataset](#chapter2)\n",
        "    * [Get picture information from local full dataset](#sub2_1)\n",
        "    * [Explore picture information](#sub2_2)\n",
        "    * [Get class information](#sub2_3) \n",
        "    * [Target label encoding](#sub2_4)\n",
        "* [Preparation of the local sampled picture set](#chapter3)\n",
        "    * [Create a local sampled picture set](#sub3_1)\n",
        "    * [Get picture information from local sampled picture set](#sub3_2)\n",
        "* [Create and configure a Spark Session](#chapter4)\n",
        "* [Load data](#chapter5)\n",
        "    * [Load pictures](#sub5_1)\n",
        "    * [Distinguish Target and Dataset](#sub5_2)\n",
        "    * Index Target](#sub5_3)\n",
        "* [Features extraction](#chapter6)\n",
        "    * [Instantiate a ResNet50 model with pre-trained weights](#sub6_1)\n",
        "    * [Functions](#sub6_2)\n",
        "    * [Features extraction](#sub6_3)\n",
        "* [Train a new model using pre-computed features](#chapter7)\n",
        "    * [Prepare my new model](#sub7_1)\n",
        "    * [Index target in datasets](#sub7_2)\n",
        "    * [Train my new model on Training dataset](#sub7_3)\n",
        "    * [Predict fruit class with my new model on Test dataset](#sub7_4)\n",
        "* [Visualise classification results](#chapter8)\n",
        "    * [Reduce dimension with PCA](#sub8_1)\n",
        "    * [Draw predictions in the first main plan](#sub8_2)\n",
        "* [Go to End](#chapter100)"
      ]
    },
    {
      "cell_type": "markdown",
      "metadata": {
        "id": "22adXcvNi_DB"
      },
      "source": [
        "# Imports and declarations <a class=\"anchor\" id=\"chapter1\"></a>"
      ]
    },
    {
      "cell_type": "markdown",
      "metadata": {
        "_cell_guid": "d632b08c-d252-4238-b496-e2c6edebec4b",
        "_uuid": "eb13bf76d4e1e60d0703856ec391cdc2c5bdf1fb",
        "id": "dZVWZRWsi_DC"
      },
      "source": [
        "## Import packages <a class=\"anchor\" id=\"sub1_1\"></a>"
      ]
    },
    {
      "cell_type": "code",
      "source": [
        "pip install pyspark"
      ],
      "metadata": {
        "colab": {
          "base_uri": "https://localhost:8080/"
        },
        "id": "BTHtMIGZ5URG",
        "outputId": "43e8dda7-358a-4d74-f660-a5a7050f30d1"
      },
      "execution_count": 117,
      "outputs": [
        {
          "output_type": "stream",
          "name": "stdout",
          "text": [
            "Requirement already satisfied: pyspark in /usr/local/lib/python3.7/dist-packages (3.2.1)\n",
            "Requirement already satisfied: py4j==0.10.9.3 in /usr/local/lib/python3.7/dist-packages (from pyspark) (0.10.9.3)\n"
          ]
        }
      ]
    },
    {
      "cell_type": "code",
      "execution_count": 118,
      "metadata": {
        "_cell_guid": "b1076dfc-b9ad-4769-8c92-a6c4dae69d19",
        "_uuid": "8f2839f25d086af736a60e9eeb907d3b93b6e0e5",
        "id": "jdnNImv8i_DC",
        "colab": {
          "base_uri": "https://localhost:8080/"
        },
        "outputId": "cf74ec98-5600-42e3-abf4-7d2aa5e9def8"
      },
      "outputs": [
        {
          "output_type": "stream",
          "name": "stdout",
          "text": [
            "PySpark version:3.2.1\n",
            "Drive already mounted at /content/drive; to attempt to forcibly remount, call drive.mount(\"/content/drive\", force_remount=True).\n"
          ]
        }
      ],
      "source": [
        "#import P8_02_module as MyMod\n",
        "\n",
        "import numpy as np\n",
        "import pandas as pd \n",
        "\n",
        "import os\n",
        "from os import path\n",
        "import glob\n",
        "import shutil\n",
        "import time\n",
        "\n",
        "import matplotlib.pyplot as plt\n",
        "#from matplotlib.image import imread\n",
        "\n",
        "#from cv2 import cv2\n",
        "import PIL\n",
        "from PIL import Image\n",
        "#, ImageDraw, ImageOps, ImageFilter\n",
        "\n",
        "#from sklearn import cluster\n",
        "#from sklearn import decomposition\n",
        "#from sklearn import metrics\n",
        "#from sklearn.neighbors import KNeighborsClassifier\n",
        "#from sklearn.model_selection import learning_curve\n",
        "#from sklearn.utils import shuffle\n",
        "\n",
        "#import boto3\n",
        "\n",
        "# Pyspark\n",
        "#import findspark\n",
        "#findspark.init(\"C:\\spark\\spark-3.2.1-bin-hadoop3.2\") # Path to hadoop \n",
        "import pyspark\n",
        "print(\"PySpark version:{}\".format(pyspark.__version__)) # Verify PySpark version\n",
        "from pyspark import SparkContext\n",
        "from pyspark.sql import SparkSession, Row\n",
        "from pyspark.sql.functions import element_at, split\n",
        "from pyspark.sql.functions import col, pandas_udf, PandasUDFType\n",
        "\n",
        "from pyspark.ml.feature import StringIndexer\n",
        "#import pyarrow\n",
        "#print(\"PyArrow version:{}\".format(pyarrow.__version__)) # Verify PySpark version\n",
        "\n",
        "# ?\n",
        "from pyspark.sql.types import *\n",
        "#import pyspark.sql.functions as F\n",
        "#from pyspark.ml.image import ImageSchema # RDD (Resilient Distributed Dataset) from .jpg file\n",
        "#from pyspark.ml.linalg import DenseVector, VectorUDT\n",
        "\n",
        "import keras\n",
        "\n",
        "# Tensorflow\n",
        "import tensorflow as tf\n",
        "import io\n",
        "from typing import Iterator\n",
        "\n",
        "from tensorflow.keras.applications.resnet50 import ResNet50, preprocess_input\n",
        "from tensorflow.keras import optimizers\n",
        "from tensorflow.keras.preprocessing.image import img_to_array\n",
        "from tensorflow.keras.layers import Dense, Flatten\n",
        "from tensorflow.keras.models import Sequential\n",
        "\n",
        "#from tensorflow.keras.preprocessing.image import ImageDataGenerator\n",
        "#from tensorflow.keras.optimizers import Adam\n",
        "#from tensorflow.python.keras.callbacks import EarlyStopping, ModelCheckpoint\n",
        "#, decode_predictions\n",
        "#from tensorflow.keras.preprocessing import image\n",
        "#from tensorflow.keras.utils import image_dataset_from_directory\n",
        "#from tensorflow.keras.losses import BinaryCrossentropy\n",
        "#from tensorflow.keras.metrics import BinaryAccuracy\n",
        "\n",
        "from google.colab import drive\n",
        "drive.mount('/content/drive')"
      ]
    },
    {
      "cell_type": "markdown",
      "metadata": {
        "id": "gt0HycIci_DE"
      },
      "source": [
        "## Declare constants <a class=\"anchor\" id=\"sub1_2\"></a>"
      ]
    },
    {
      "cell_type": "code",
      "execution_count": 119,
      "metadata": {
        "id": "GvNoVfhMi_DF"
      },
      "outputs": [],
      "source": [
        "# Sample limitations\n",
        "GET_PICTURES_NB_PER_CLASS = 2\n",
        "\n",
        "# Local repositories\n",
        "LOCAL_SRC_PATH = '../fruits-360-original-size/'\n",
        "LOCAL_DEST_PATH = 'C:/fruits-360-sample/'\n",
        "GOOGLE_DEST_PATH = 'drive/MyDrive/fruits-360-sample/'\n",
        "\n",
        "# Image size\n",
        "IMAGE_RESIZE = 224\n",
        "\n",
        "# CNN model\n",
        "BATCH_SIZE = 16\n",
        "RESNET50_POOLING_AVERAGE = 'avg'\n",
        "DENSE_LAYER_ACTIVATION = 'softmax'\n",
        "OBJECTIVE_FUNCTION = 'categorical_crossentropy'\n",
        "LOSS_METRICS = ['accuracy']\n",
        "NUM_EPOCHS = 30\n",
        "EARLY_STOP_PATIENCE = 3  # EARLY_STOP_PATIENCE must be < NUM_EPOCHS\n",
        "\n",
        "# S3 Bucket\n",
        "BUCKET_NAME = \"moncompartimentamoi\"\n",
        "\n",
        "# KMeans hyper-param\n",
        "#KMEANS_N_CLUSTERS = 90"
      ]
    },
    {
      "cell_type": "markdown",
      "metadata": {
        "id": "QTPjfy-ai_DG"
      },
      "source": [
        "# Exploration of the full dataset <a class=\"anchor\" id=\"chapter2\"></a>"
      ]
    },
    {
      "cell_type": "markdown",
      "metadata": {
        "id": "85dbxcP0i_DG"
      },
      "source": [
        "## Get picture information from local full dataset <a class=\"anchor\" id=\"sub2_1\"></a>"
      ]
    },
    {
      "cell_type": "code",
      "execution_count": 120,
      "metadata": {
        "id": "PKuXbs5ai_DH"
      },
      "outputs": [],
      "source": [
        "def rep_2_picture_info(path):\n",
        "\n",
        "    # Initiate Dataframe with Dataset names, Target class names and Picture names\n",
        "    df = pd.DataFrame(columns = ['FullFileName', 'Dataset', 'Target', 'Picture', 'FileSize (in KB)']) \n",
        "\n",
        "    for file in glob.iglob(path+'**/*.jpg', recursive = True):\n",
        "\n",
        "        lst = file.split('\\\\')\n",
        "        \n",
        "        # update DataFrame\n",
        "        lst.append(os.path.getsize(file) / 1024)  # in KBytes    \n",
        "        lst[0] = lst[0] + \"/\" + lst[1] + \"/\" + lst[2] + \"/\" + lst[3]\n",
        "        df.loc[len(df)] = lst\n",
        "\n",
        "    return df"
      ]
    },
    {
      "cell_type": "code",
      "execution_count": 121,
      "metadata": {
        "id": "_F5whiRSi_DH",
        "colab": {
          "base_uri": "https://localhost:8080/",
          "height": 50
        },
        "outputId": "0e373e14-ed2a-4811-db51-5eaaec6d19f3"
      },
      "outputs": [
        {
          "output_type": "execute_result",
          "data": {
            "text/plain": [
              "Empty DataFrame\n",
              "Columns: [FullFileName, Dataset, Target, Picture, FileSize (in KB)]\n",
              "Index: []"
            ],
            "text/html": [
              "\n",
              "  <div id=\"df-a9da845f-39d7-4d86-8a47-51f3fec2dafe\">\n",
              "    <div class=\"colab-df-container\">\n",
              "      <div>\n",
              "<style scoped>\n",
              "    .dataframe tbody tr th:only-of-type {\n",
              "        vertical-align: middle;\n",
              "    }\n",
              "\n",
              "    .dataframe tbody tr th {\n",
              "        vertical-align: top;\n",
              "    }\n",
              "\n",
              "    .dataframe thead th {\n",
              "        text-align: right;\n",
              "    }\n",
              "</style>\n",
              "<table border=\"1\" class=\"dataframe\">\n",
              "  <thead>\n",
              "    <tr style=\"text-align: right;\">\n",
              "      <th></th>\n",
              "      <th>FullFileName</th>\n",
              "      <th>Dataset</th>\n",
              "      <th>Target</th>\n",
              "      <th>Picture</th>\n",
              "      <th>FileSize (in KB)</th>\n",
              "    </tr>\n",
              "  </thead>\n",
              "  <tbody>\n",
              "  </tbody>\n",
              "</table>\n",
              "</div>\n",
              "      <button class=\"colab-df-convert\" onclick=\"convertToInteractive('df-a9da845f-39d7-4d86-8a47-51f3fec2dafe')\"\n",
              "              title=\"Convert this dataframe to an interactive table.\"\n",
              "              style=\"display:none;\">\n",
              "        \n",
              "  <svg xmlns=\"http://www.w3.org/2000/svg\" height=\"24px\"viewBox=\"0 0 24 24\"\n",
              "       width=\"24px\">\n",
              "    <path d=\"M0 0h24v24H0V0z\" fill=\"none\"/>\n",
              "    <path d=\"M18.56 5.44l.94 2.06.94-2.06 2.06-.94-2.06-.94-.94-2.06-.94 2.06-2.06.94zm-11 1L8.5 8.5l.94-2.06 2.06-.94-2.06-.94L8.5 2.5l-.94 2.06-2.06.94zm10 10l.94 2.06.94-2.06 2.06-.94-2.06-.94-.94-2.06-.94 2.06-2.06.94z\"/><path d=\"M17.41 7.96l-1.37-1.37c-.4-.4-.92-.59-1.43-.59-.52 0-1.04.2-1.43.59L10.3 9.45l-7.72 7.72c-.78.78-.78 2.05 0 2.83L4 21.41c.39.39.9.59 1.41.59.51 0 1.02-.2 1.41-.59l7.78-7.78 2.81-2.81c.8-.78.8-2.07 0-2.86zM5.41 20L4 18.59l7.72-7.72 1.47 1.35L5.41 20z\"/>\n",
              "  </svg>\n",
              "      </button>\n",
              "      \n",
              "  <style>\n",
              "    .colab-df-container {\n",
              "      display:flex;\n",
              "      flex-wrap:wrap;\n",
              "      gap: 12px;\n",
              "    }\n",
              "\n",
              "    .colab-df-convert {\n",
              "      background-color: #E8F0FE;\n",
              "      border: none;\n",
              "      border-radius: 50%;\n",
              "      cursor: pointer;\n",
              "      display: none;\n",
              "      fill: #1967D2;\n",
              "      height: 32px;\n",
              "      padding: 0 0 0 0;\n",
              "      width: 32px;\n",
              "    }\n",
              "\n",
              "    .colab-df-convert:hover {\n",
              "      background-color: #E2EBFA;\n",
              "      box-shadow: 0px 1px 2px rgba(60, 64, 67, 0.3), 0px 1px 3px 1px rgba(60, 64, 67, 0.15);\n",
              "      fill: #174EA6;\n",
              "    }\n",
              "\n",
              "    [theme=dark] .colab-df-convert {\n",
              "      background-color: #3B4455;\n",
              "      fill: #D2E3FC;\n",
              "    }\n",
              "\n",
              "    [theme=dark] .colab-df-convert:hover {\n",
              "      background-color: #434B5C;\n",
              "      box-shadow: 0px 1px 3px 1px rgba(0, 0, 0, 0.15);\n",
              "      filter: drop-shadow(0px 1px 2px rgba(0, 0, 0, 0.3));\n",
              "      fill: #FFFFFF;\n",
              "    }\n",
              "  </style>\n",
              "\n",
              "      <script>\n",
              "        const buttonEl =\n",
              "          document.querySelector('#df-a9da845f-39d7-4d86-8a47-51f3fec2dafe button.colab-df-convert');\n",
              "        buttonEl.style.display =\n",
              "          google.colab.kernel.accessAllowed ? 'block' : 'none';\n",
              "\n",
              "        async function convertToInteractive(key) {\n",
              "          const element = document.querySelector('#df-a9da845f-39d7-4d86-8a47-51f3fec2dafe');\n",
              "          const dataTable =\n",
              "            await google.colab.kernel.invokeFunction('convertToInteractive',\n",
              "                                                     [key], {});\n",
              "          if (!dataTable) return;\n",
              "\n",
              "          const docLinkHtml = 'Like what you see? Visit the ' +\n",
              "            '<a target=\"_blank\" href=https://colab.research.google.com/notebooks/data_table.ipynb>data table notebook</a>'\n",
              "            + ' to learn more about interactive tables.';\n",
              "          element.innerHTML = '';\n",
              "          dataTable['output_type'] = 'display_data';\n",
              "          await google.colab.output.renderOutput(dataTable, element);\n",
              "          const docLink = document.createElement('div');\n",
              "          docLink.innerHTML = docLinkHtml;\n",
              "          element.appendChild(docLink);\n",
              "        }\n",
              "      </script>\n",
              "    </div>\n",
              "  </div>\n",
              "  "
            ]
          },
          "metadata": {},
          "execution_count": 121
        }
      ],
      "source": [
        "df_main = rep_2_picture_info(LOCAL_SRC_PATH)\n",
        "df_main"
      ]
    },
    {
      "cell_type": "markdown",
      "metadata": {
        "id": "LkGhPAZgi_DH"
      },
      "source": [
        "## Explore picture information <a class=\"anchor\" id=\"sub2_2\"></a>"
      ]
    },
    {
      "cell_type": "markdown",
      "metadata": {
        "id": "YdKirnYLi_DI"
      },
      "source": [
        "### Assess volumes and modalities"
      ]
    },
    {
      "cell_type": "code",
      "execution_count": null,
      "metadata": {
        "id": "tMr9BLJ6i_DI",
        "colab": {
          "base_uri": "https://localhost:8080/",
          "height": 175
        },
        "outputId": "1425c569-5fab-49d2-a4f2-dc6d37a9375c"
      },
      "outputs": [
        {
          "output_type": "execute_result",
          "data": {
            "text/plain": [
              "       FullFileName Dataset Target Picture FileSize (in KB)\n",
              "count             0       0      0       0                0\n",
              "unique            0       0      0       0                0\n",
              "top             NaN     NaN    NaN     NaN              NaN\n",
              "freq            NaN     NaN    NaN     NaN              NaN"
            ],
            "text/html": [
              "\n",
              "  <div id=\"df-f6f4bfd4-b5d5-411a-a35a-64fa162d213f\">\n",
              "    <div class=\"colab-df-container\">\n",
              "      <div>\n",
              "<style scoped>\n",
              "    .dataframe tbody tr th:only-of-type {\n",
              "        vertical-align: middle;\n",
              "    }\n",
              "\n",
              "    .dataframe tbody tr th {\n",
              "        vertical-align: top;\n",
              "    }\n",
              "\n",
              "    .dataframe thead th {\n",
              "        text-align: right;\n",
              "    }\n",
              "</style>\n",
              "<table border=\"1\" class=\"dataframe\">\n",
              "  <thead>\n",
              "    <tr style=\"text-align: right;\">\n",
              "      <th></th>\n",
              "      <th>FullFileName</th>\n",
              "      <th>Dataset</th>\n",
              "      <th>Target</th>\n",
              "      <th>Picture</th>\n",
              "      <th>FileSize (in KB)</th>\n",
              "    </tr>\n",
              "  </thead>\n",
              "  <tbody>\n",
              "    <tr>\n",
              "      <th>count</th>\n",
              "      <td>0</td>\n",
              "      <td>0</td>\n",
              "      <td>0</td>\n",
              "      <td>0</td>\n",
              "      <td>0</td>\n",
              "    </tr>\n",
              "    <tr>\n",
              "      <th>unique</th>\n",
              "      <td>0</td>\n",
              "      <td>0</td>\n",
              "      <td>0</td>\n",
              "      <td>0</td>\n",
              "      <td>0</td>\n",
              "    </tr>\n",
              "    <tr>\n",
              "      <th>top</th>\n",
              "      <td>NaN</td>\n",
              "      <td>NaN</td>\n",
              "      <td>NaN</td>\n",
              "      <td>NaN</td>\n",
              "      <td>NaN</td>\n",
              "    </tr>\n",
              "    <tr>\n",
              "      <th>freq</th>\n",
              "      <td>NaN</td>\n",
              "      <td>NaN</td>\n",
              "      <td>NaN</td>\n",
              "      <td>NaN</td>\n",
              "      <td>NaN</td>\n",
              "    </tr>\n",
              "  </tbody>\n",
              "</table>\n",
              "</div>\n",
              "      <button class=\"colab-df-convert\" onclick=\"convertToInteractive('df-f6f4bfd4-b5d5-411a-a35a-64fa162d213f')\"\n",
              "              title=\"Convert this dataframe to an interactive table.\"\n",
              "              style=\"display:none;\">\n",
              "        \n",
              "  <svg xmlns=\"http://www.w3.org/2000/svg\" height=\"24px\"viewBox=\"0 0 24 24\"\n",
              "       width=\"24px\">\n",
              "    <path d=\"M0 0h24v24H0V0z\" fill=\"none\"/>\n",
              "    <path d=\"M18.56 5.44l.94 2.06.94-2.06 2.06-.94-2.06-.94-.94-2.06-.94 2.06-2.06.94zm-11 1L8.5 8.5l.94-2.06 2.06-.94-2.06-.94L8.5 2.5l-.94 2.06-2.06.94zm10 10l.94 2.06.94-2.06 2.06-.94-2.06-.94-.94-2.06-.94 2.06-2.06.94z\"/><path d=\"M17.41 7.96l-1.37-1.37c-.4-.4-.92-.59-1.43-.59-.52 0-1.04.2-1.43.59L10.3 9.45l-7.72 7.72c-.78.78-.78 2.05 0 2.83L4 21.41c.39.39.9.59 1.41.59.51 0 1.02-.2 1.41-.59l7.78-7.78 2.81-2.81c.8-.78.8-2.07 0-2.86zM5.41 20L4 18.59l7.72-7.72 1.47 1.35L5.41 20z\"/>\n",
              "  </svg>\n",
              "      </button>\n",
              "      \n",
              "  <style>\n",
              "    .colab-df-container {\n",
              "      display:flex;\n",
              "      flex-wrap:wrap;\n",
              "      gap: 12px;\n",
              "    }\n",
              "\n",
              "    .colab-df-convert {\n",
              "      background-color: #E8F0FE;\n",
              "      border: none;\n",
              "      border-radius: 50%;\n",
              "      cursor: pointer;\n",
              "      display: none;\n",
              "      fill: #1967D2;\n",
              "      height: 32px;\n",
              "      padding: 0 0 0 0;\n",
              "      width: 32px;\n",
              "    }\n",
              "\n",
              "    .colab-df-convert:hover {\n",
              "      background-color: #E2EBFA;\n",
              "      box-shadow: 0px 1px 2px rgba(60, 64, 67, 0.3), 0px 1px 3px 1px rgba(60, 64, 67, 0.15);\n",
              "      fill: #174EA6;\n",
              "    }\n",
              "\n",
              "    [theme=dark] .colab-df-convert {\n",
              "      background-color: #3B4455;\n",
              "      fill: #D2E3FC;\n",
              "    }\n",
              "\n",
              "    [theme=dark] .colab-df-convert:hover {\n",
              "      background-color: #434B5C;\n",
              "      box-shadow: 0px 1px 3px 1px rgba(0, 0, 0, 0.15);\n",
              "      filter: drop-shadow(0px 1px 2px rgba(0, 0, 0, 0.3));\n",
              "      fill: #FFFFFF;\n",
              "    }\n",
              "  </style>\n",
              "\n",
              "      <script>\n",
              "        const buttonEl =\n",
              "          document.querySelector('#df-f6f4bfd4-b5d5-411a-a35a-64fa162d213f button.colab-df-convert');\n",
              "        buttonEl.style.display =\n",
              "          google.colab.kernel.accessAllowed ? 'block' : 'none';\n",
              "\n",
              "        async function convertToInteractive(key) {\n",
              "          const element = document.querySelector('#df-f6f4bfd4-b5d5-411a-a35a-64fa162d213f');\n",
              "          const dataTable =\n",
              "            await google.colab.kernel.invokeFunction('convertToInteractive',\n",
              "                                                     [key], {});\n",
              "          if (!dataTable) return;\n",
              "\n",
              "          const docLinkHtml = 'Like what you see? Visit the ' +\n",
              "            '<a target=\"_blank\" href=https://colab.research.google.com/notebooks/data_table.ipynb>data table notebook</a>'\n",
              "            + ' to learn more about interactive tables.';\n",
              "          element.innerHTML = '';\n",
              "          dataTable['output_type'] = 'display_data';\n",
              "          await google.colab.output.renderOutput(dataTable, element);\n",
              "          const docLink = document.createElement('div');\n",
              "          docLink.innerHTML = docLinkHtml;\n",
              "          element.appendChild(docLink);\n",
              "        }\n",
              "      </script>\n",
              "    </div>\n",
              "  </div>\n",
              "  "
            ]
          },
          "metadata": {},
          "execution_count": 6
        }
      ],
      "source": [
        "df_main.describe()"
      ]
    },
    {
      "cell_type": "markdown",
      "metadata": {
        "id": "jum7IXx6i_DI"
      },
      "source": [
        " > 12 455 pictures, 24 target classes, 3 datasets  \n",
        " > 958 picture names mean that some pictures have the same name and are not classified in the same repository"
      ]
    },
    {
      "cell_type": "markdown",
      "metadata": {
        "id": "b9Y2nfl8i_DI"
      },
      "source": [
        "### Count pictures by target class and dataset"
      ]
    },
    {
      "cell_type": "code",
      "execution_count": null,
      "metadata": {
        "scrolled": false,
        "id": "D4lR3qa7i_DJ",
        "colab": {
          "base_uri": "https://localhost:8080/"
        },
        "outputId": "95717433-2cb5-4127-f138-c81a23df714e"
      },
      "outputs": [
        {
          "output_type": "execute_result",
          "data": {
            "text/plain": [
              "Empty DataFrame\n",
              "Columns: [Picture]\n",
              "Index: []"
            ],
            "text/html": [
              "\n",
              "  <div id=\"df-791e6b81-5415-4ac2-bafa-66ce316b1c68\">\n",
              "    <div class=\"colab-df-container\">\n",
              "      <div>\n",
              "<style scoped>\n",
              "    .dataframe tbody tr th:only-of-type {\n",
              "        vertical-align: middle;\n",
              "    }\n",
              "\n",
              "    .dataframe tbody tr th {\n",
              "        vertical-align: top;\n",
              "    }\n",
              "\n",
              "    .dataframe thead th {\n",
              "        text-align: right;\n",
              "    }\n",
              "</style>\n",
              "<table border=\"1\" class=\"dataframe\">\n",
              "  <thead>\n",
              "    <tr style=\"text-align: right;\">\n",
              "      <th></th>\n",
              "      <th></th>\n",
              "      <th>Picture</th>\n",
              "    </tr>\n",
              "    <tr>\n",
              "      <th>Target</th>\n",
              "      <th>Dataset</th>\n",
              "      <th></th>\n",
              "    </tr>\n",
              "  </thead>\n",
              "  <tbody>\n",
              "  </tbody>\n",
              "</table>\n",
              "</div>\n",
              "      <button class=\"colab-df-convert\" onclick=\"convertToInteractive('df-791e6b81-5415-4ac2-bafa-66ce316b1c68')\"\n",
              "              title=\"Convert this dataframe to an interactive table.\"\n",
              "              style=\"display:none;\">\n",
              "        \n",
              "  <svg xmlns=\"http://www.w3.org/2000/svg\" height=\"24px\"viewBox=\"0 0 24 24\"\n",
              "       width=\"24px\">\n",
              "    <path d=\"M0 0h24v24H0V0z\" fill=\"none\"/>\n",
              "    <path d=\"M18.56 5.44l.94 2.06.94-2.06 2.06-.94-2.06-.94-.94-2.06-.94 2.06-2.06.94zm-11 1L8.5 8.5l.94-2.06 2.06-.94-2.06-.94L8.5 2.5l-.94 2.06-2.06.94zm10 10l.94 2.06.94-2.06 2.06-.94-2.06-.94-.94-2.06-.94 2.06-2.06.94z\"/><path d=\"M17.41 7.96l-1.37-1.37c-.4-.4-.92-.59-1.43-.59-.52 0-1.04.2-1.43.59L10.3 9.45l-7.72 7.72c-.78.78-.78 2.05 0 2.83L4 21.41c.39.39.9.59 1.41.59.51 0 1.02-.2 1.41-.59l7.78-7.78 2.81-2.81c.8-.78.8-2.07 0-2.86zM5.41 20L4 18.59l7.72-7.72 1.47 1.35L5.41 20z\"/>\n",
              "  </svg>\n",
              "      </button>\n",
              "      \n",
              "  <style>\n",
              "    .colab-df-container {\n",
              "      display:flex;\n",
              "      flex-wrap:wrap;\n",
              "      gap: 12px;\n",
              "    }\n",
              "\n",
              "    .colab-df-convert {\n",
              "      background-color: #E8F0FE;\n",
              "      border: none;\n",
              "      border-radius: 50%;\n",
              "      cursor: pointer;\n",
              "      display: none;\n",
              "      fill: #1967D2;\n",
              "      height: 32px;\n",
              "      padding: 0 0 0 0;\n",
              "      width: 32px;\n",
              "    }\n",
              "\n",
              "    .colab-df-convert:hover {\n",
              "      background-color: #E2EBFA;\n",
              "      box-shadow: 0px 1px 2px rgba(60, 64, 67, 0.3), 0px 1px 3px 1px rgba(60, 64, 67, 0.15);\n",
              "      fill: #174EA6;\n",
              "    }\n",
              "\n",
              "    [theme=dark] .colab-df-convert {\n",
              "      background-color: #3B4455;\n",
              "      fill: #D2E3FC;\n",
              "    }\n",
              "\n",
              "    [theme=dark] .colab-df-convert:hover {\n",
              "      background-color: #434B5C;\n",
              "      box-shadow: 0px 1px 3px 1px rgba(0, 0, 0, 0.15);\n",
              "      filter: drop-shadow(0px 1px 2px rgba(0, 0, 0, 0.3));\n",
              "      fill: #FFFFFF;\n",
              "    }\n",
              "  </style>\n",
              "\n",
              "      <script>\n",
              "        const buttonEl =\n",
              "          document.querySelector('#df-791e6b81-5415-4ac2-bafa-66ce316b1c68 button.colab-df-convert');\n",
              "        buttonEl.style.display =\n",
              "          google.colab.kernel.accessAllowed ? 'block' : 'none';\n",
              "\n",
              "        async function convertToInteractive(key) {\n",
              "          const element = document.querySelector('#df-791e6b81-5415-4ac2-bafa-66ce316b1c68');\n",
              "          const dataTable =\n",
              "            await google.colab.kernel.invokeFunction('convertToInteractive',\n",
              "                                                     [key], {});\n",
              "          if (!dataTable) return;\n",
              "\n",
              "          const docLinkHtml = 'Like what you see? Visit the ' +\n",
              "            '<a target=\"_blank\" href=https://colab.research.google.com/notebooks/data_table.ipynb>data table notebook</a>'\n",
              "            + ' to learn more about interactive tables.';\n",
              "          element.innerHTML = '';\n",
              "          dataTable['output_type'] = 'display_data';\n",
              "          await google.colab.output.renderOutput(dataTable, element);\n",
              "          const docLink = document.createElement('div');\n",
              "          docLink.innerHTML = docLinkHtml;\n",
              "          element.appendChild(docLink);\n",
              "        }\n",
              "      </script>\n",
              "    </div>\n",
              "  </div>\n",
              "  "
            ]
          },
          "metadata": {},
          "execution_count": 7
        }
      ],
      "source": [
        "pd.DataFrame(df_main.groupby(['Target', 'Dataset'])['Picture'].count())"
      ]
    },
    {
      "cell_type": "markdown",
      "metadata": {
        "id": "2nFSx5VGi_DJ"
      },
      "source": [
        "### Count pictures by target class"
      ]
    },
    {
      "cell_type": "code",
      "execution_count": null,
      "metadata": {
        "scrolled": true,
        "id": "wZosTjPGi_DJ",
        "colab": {
          "base_uri": "https://localhost:8080/"
        },
        "outputId": "a764ddc3-abe1-42a3-d3ed-ca19feabd798"
      },
      "outputs": [
        {
          "output_type": "execute_result",
          "data": {
            "text/plain": [
              "Empty DataFrame\n",
              "Columns: [Picture]\n",
              "Index: []"
            ],
            "text/html": [
              "\n",
              "  <div id=\"df-4c1c2a6f-5062-4483-af4e-423a62ee5c6b\">\n",
              "    <div class=\"colab-df-container\">\n",
              "      <div>\n",
              "<style scoped>\n",
              "    .dataframe tbody tr th:only-of-type {\n",
              "        vertical-align: middle;\n",
              "    }\n",
              "\n",
              "    .dataframe tbody tr th {\n",
              "        vertical-align: top;\n",
              "    }\n",
              "\n",
              "    .dataframe thead th {\n",
              "        text-align: right;\n",
              "    }\n",
              "</style>\n",
              "<table border=\"1\" class=\"dataframe\">\n",
              "  <thead>\n",
              "    <tr style=\"text-align: right;\">\n",
              "      <th></th>\n",
              "      <th>Picture</th>\n",
              "    </tr>\n",
              "    <tr>\n",
              "      <th>Target</th>\n",
              "      <th></th>\n",
              "    </tr>\n",
              "  </thead>\n",
              "  <tbody>\n",
              "  </tbody>\n",
              "</table>\n",
              "</div>\n",
              "      <button class=\"colab-df-convert\" onclick=\"convertToInteractive('df-4c1c2a6f-5062-4483-af4e-423a62ee5c6b')\"\n",
              "              title=\"Convert this dataframe to an interactive table.\"\n",
              "              style=\"display:none;\">\n",
              "        \n",
              "  <svg xmlns=\"http://www.w3.org/2000/svg\" height=\"24px\"viewBox=\"0 0 24 24\"\n",
              "       width=\"24px\">\n",
              "    <path d=\"M0 0h24v24H0V0z\" fill=\"none\"/>\n",
              "    <path d=\"M18.56 5.44l.94 2.06.94-2.06 2.06-.94-2.06-.94-.94-2.06-.94 2.06-2.06.94zm-11 1L8.5 8.5l.94-2.06 2.06-.94-2.06-.94L8.5 2.5l-.94 2.06-2.06.94zm10 10l.94 2.06.94-2.06 2.06-.94-2.06-.94-.94-2.06-.94 2.06-2.06.94z\"/><path d=\"M17.41 7.96l-1.37-1.37c-.4-.4-.92-.59-1.43-.59-.52 0-1.04.2-1.43.59L10.3 9.45l-7.72 7.72c-.78.78-.78 2.05 0 2.83L4 21.41c.39.39.9.59 1.41.59.51 0 1.02-.2 1.41-.59l7.78-7.78 2.81-2.81c.8-.78.8-2.07 0-2.86zM5.41 20L4 18.59l7.72-7.72 1.47 1.35L5.41 20z\"/>\n",
              "  </svg>\n",
              "      </button>\n",
              "      \n",
              "  <style>\n",
              "    .colab-df-container {\n",
              "      display:flex;\n",
              "      flex-wrap:wrap;\n",
              "      gap: 12px;\n",
              "    }\n",
              "\n",
              "    .colab-df-convert {\n",
              "      background-color: #E8F0FE;\n",
              "      border: none;\n",
              "      border-radius: 50%;\n",
              "      cursor: pointer;\n",
              "      display: none;\n",
              "      fill: #1967D2;\n",
              "      height: 32px;\n",
              "      padding: 0 0 0 0;\n",
              "      width: 32px;\n",
              "    }\n",
              "\n",
              "    .colab-df-convert:hover {\n",
              "      background-color: #E2EBFA;\n",
              "      box-shadow: 0px 1px 2px rgba(60, 64, 67, 0.3), 0px 1px 3px 1px rgba(60, 64, 67, 0.15);\n",
              "      fill: #174EA6;\n",
              "    }\n",
              "\n",
              "    [theme=dark] .colab-df-convert {\n",
              "      background-color: #3B4455;\n",
              "      fill: #D2E3FC;\n",
              "    }\n",
              "\n",
              "    [theme=dark] .colab-df-convert:hover {\n",
              "      background-color: #434B5C;\n",
              "      box-shadow: 0px 1px 3px 1px rgba(0, 0, 0, 0.15);\n",
              "      filter: drop-shadow(0px 1px 2px rgba(0, 0, 0, 0.3));\n",
              "      fill: #FFFFFF;\n",
              "    }\n",
              "  </style>\n",
              "\n",
              "      <script>\n",
              "        const buttonEl =\n",
              "          document.querySelector('#df-4c1c2a6f-5062-4483-af4e-423a62ee5c6b button.colab-df-convert');\n",
              "        buttonEl.style.display =\n",
              "          google.colab.kernel.accessAllowed ? 'block' : 'none';\n",
              "\n",
              "        async function convertToInteractive(key) {\n",
              "          const element = document.querySelector('#df-4c1c2a6f-5062-4483-af4e-423a62ee5c6b');\n",
              "          const dataTable =\n",
              "            await google.colab.kernel.invokeFunction('convertToInteractive',\n",
              "                                                     [key], {});\n",
              "          if (!dataTable) return;\n",
              "\n",
              "          const docLinkHtml = 'Like what you see? Visit the ' +\n",
              "            '<a target=\"_blank\" href=https://colab.research.google.com/notebooks/data_table.ipynb>data table notebook</a>'\n",
              "            + ' to learn more about interactive tables.';\n",
              "          element.innerHTML = '';\n",
              "          dataTable['output_type'] = 'display_data';\n",
              "          await google.colab.output.renderOutput(dataTable, element);\n",
              "          const docLink = document.createElement('div');\n",
              "          docLink.innerHTML = docLinkHtml;\n",
              "          element.appendChild(docLink);\n",
              "        }\n",
              "      </script>\n",
              "    </div>\n",
              "  </div>\n",
              "  "
            ]
          },
          "metadata": {},
          "execution_count": 8
        }
      ],
      "source": [
        "pd.DataFrame(df_main.groupby(['Target'])['Picture'].count())"
      ]
    },
    {
      "cell_type": "markdown",
      "metadata": {
        "id": "h2NR8ZLPi_DJ"
      },
      "source": [
        "### Count dataset modality by picture name"
      ]
    },
    {
      "cell_type": "code",
      "execution_count": null,
      "metadata": {
        "id": "8Nvzb-GQi_DJ",
        "colab": {
          "base_uri": "https://localhost:8080/"
        },
        "outputId": "4d2ac2c7-a8cd-423e-d015-3268286b71f8"
      },
      "outputs": [
        {
          "output_type": "execute_result",
          "data": {
            "text/plain": [
              "0"
            ]
          },
          "metadata": {},
          "execution_count": 9
        }
      ],
      "source": [
        "df_dataset_mod = pd.DataFrame(df_main.groupby(['Picture'])['Dataset'].nunique())\n",
        "df_dataset_mod.rename(columns={'Dataset':'Dataset_mod'}, inplace=True)\n",
        "len(df_dataset_mod[df_dataset_mod['Dataset_mod'] > 1])"
      ]
    },
    {
      "cell_type": "markdown",
      "metadata": {
        "id": "lYoYlfqii_DK"
      },
      "source": [
        "> No file with the same name in the different datasets"
      ]
    },
    {
      "cell_type": "markdown",
      "metadata": {
        "id": "3QYRHyx1i_DK"
      },
      "source": [
        "### Count target class modality by picture name"
      ]
    },
    {
      "cell_type": "code",
      "execution_count": null,
      "metadata": {
        "scrolled": true,
        "id": "WAiLiBEUi_DK",
        "colab": {
          "base_uri": "https://localhost:8080/",
          "height": 81
        },
        "outputId": "91c40548-4860-4dd4-c3c2-4712af02075d"
      },
      "outputs": [
        {
          "output_type": "execute_result",
          "data": {
            "text/plain": [
              "Empty DataFrame\n",
              "Columns: [Target_mod]\n",
              "Index: []"
            ],
            "text/html": [
              "\n",
              "  <div id=\"df-fc72f6f2-c02a-41ba-b13c-d78a6c243080\">\n",
              "    <div class=\"colab-df-container\">\n",
              "      <div>\n",
              "<style scoped>\n",
              "    .dataframe tbody tr th:only-of-type {\n",
              "        vertical-align: middle;\n",
              "    }\n",
              "\n",
              "    .dataframe tbody tr th {\n",
              "        vertical-align: top;\n",
              "    }\n",
              "\n",
              "    .dataframe thead th {\n",
              "        text-align: right;\n",
              "    }\n",
              "</style>\n",
              "<table border=\"1\" class=\"dataframe\">\n",
              "  <thead>\n",
              "    <tr style=\"text-align: right;\">\n",
              "      <th></th>\n",
              "      <th>Target_mod</th>\n",
              "    </tr>\n",
              "    <tr>\n",
              "      <th>Picture</th>\n",
              "      <th></th>\n",
              "    </tr>\n",
              "  </thead>\n",
              "  <tbody>\n",
              "  </tbody>\n",
              "</table>\n",
              "</div>\n",
              "      <button class=\"colab-df-convert\" onclick=\"convertToInteractive('df-fc72f6f2-c02a-41ba-b13c-d78a6c243080')\"\n",
              "              title=\"Convert this dataframe to an interactive table.\"\n",
              "              style=\"display:none;\">\n",
              "        \n",
              "  <svg xmlns=\"http://www.w3.org/2000/svg\" height=\"24px\"viewBox=\"0 0 24 24\"\n",
              "       width=\"24px\">\n",
              "    <path d=\"M0 0h24v24H0V0z\" fill=\"none\"/>\n",
              "    <path d=\"M18.56 5.44l.94 2.06.94-2.06 2.06-.94-2.06-.94-.94-2.06-.94 2.06-2.06.94zm-11 1L8.5 8.5l.94-2.06 2.06-.94-2.06-.94L8.5 2.5l-.94 2.06-2.06.94zm10 10l.94 2.06.94-2.06 2.06-.94-2.06-.94-.94-2.06-.94 2.06-2.06.94z\"/><path d=\"M17.41 7.96l-1.37-1.37c-.4-.4-.92-.59-1.43-.59-.52 0-1.04.2-1.43.59L10.3 9.45l-7.72 7.72c-.78.78-.78 2.05 0 2.83L4 21.41c.39.39.9.59 1.41.59.51 0 1.02-.2 1.41-.59l7.78-7.78 2.81-2.81c.8-.78.8-2.07 0-2.86zM5.41 20L4 18.59l7.72-7.72 1.47 1.35L5.41 20z\"/>\n",
              "  </svg>\n",
              "      </button>\n",
              "      \n",
              "  <style>\n",
              "    .colab-df-container {\n",
              "      display:flex;\n",
              "      flex-wrap:wrap;\n",
              "      gap: 12px;\n",
              "    }\n",
              "\n",
              "    .colab-df-convert {\n",
              "      background-color: #E8F0FE;\n",
              "      border: none;\n",
              "      border-radius: 50%;\n",
              "      cursor: pointer;\n",
              "      display: none;\n",
              "      fill: #1967D2;\n",
              "      height: 32px;\n",
              "      padding: 0 0 0 0;\n",
              "      width: 32px;\n",
              "    }\n",
              "\n",
              "    .colab-df-convert:hover {\n",
              "      background-color: #E2EBFA;\n",
              "      box-shadow: 0px 1px 2px rgba(60, 64, 67, 0.3), 0px 1px 3px 1px rgba(60, 64, 67, 0.15);\n",
              "      fill: #174EA6;\n",
              "    }\n",
              "\n",
              "    [theme=dark] .colab-df-convert {\n",
              "      background-color: #3B4455;\n",
              "      fill: #D2E3FC;\n",
              "    }\n",
              "\n",
              "    [theme=dark] .colab-df-convert:hover {\n",
              "      background-color: #434B5C;\n",
              "      box-shadow: 0px 1px 3px 1px rgba(0, 0, 0, 0.15);\n",
              "      filter: drop-shadow(0px 1px 2px rgba(0, 0, 0, 0.3));\n",
              "      fill: #FFFFFF;\n",
              "    }\n",
              "  </style>\n",
              "\n",
              "      <script>\n",
              "        const buttonEl =\n",
              "          document.querySelector('#df-fc72f6f2-c02a-41ba-b13c-d78a6c243080 button.colab-df-convert');\n",
              "        buttonEl.style.display =\n",
              "          google.colab.kernel.accessAllowed ? 'block' : 'none';\n",
              "\n",
              "        async function convertToInteractive(key) {\n",
              "          const element = document.querySelector('#df-fc72f6f2-c02a-41ba-b13c-d78a6c243080');\n",
              "          const dataTable =\n",
              "            await google.colab.kernel.invokeFunction('convertToInteractive',\n",
              "                                                     [key], {});\n",
              "          if (!dataTable) return;\n",
              "\n",
              "          const docLinkHtml = 'Like what you see? Visit the ' +\n",
              "            '<a target=\"_blank\" href=https://colab.research.google.com/notebooks/data_table.ipynb>data table notebook</a>'\n",
              "            + ' to learn more about interactive tables.';\n",
              "          element.innerHTML = '';\n",
              "          dataTable['output_type'] = 'display_data';\n",
              "          await google.colab.output.renderOutput(dataTable, element);\n",
              "          const docLink = document.createElement('div');\n",
              "          docLink.innerHTML = docLinkHtml;\n",
              "          element.appendChild(docLink);\n",
              "        }\n",
              "      </script>\n",
              "    </div>\n",
              "  </div>\n",
              "  "
            ]
          },
          "metadata": {},
          "execution_count": 10
        }
      ],
      "source": [
        "df_target_mod = pd.DataFrame(df_main.groupby(['Picture'])['Target'].nunique())\n",
        "df_target_mod.rename(columns={'Target':'Target_mod'}, inplace=True)\n",
        "df_target_mod[df_target_mod['Target_mod'] > 1]"
      ]
    },
    {
      "cell_type": "code",
      "execution_count": null,
      "metadata": {
        "id": "_CDD8uXdi_DK"
      },
      "outputs": [],
      "source": [
        "df_target_mod = df_target_mod.reset_index(drop=False)"
      ]
    },
    {
      "cell_type": "code",
      "execution_count": null,
      "metadata": {
        "scrolled": true,
        "id": "9aiAvxt5i_DK",
        "colab": {
          "base_uri": "https://localhost:8080/",
          "height": 81
        },
        "outputId": "3cc931ef-eb1a-4d9a-ba4d-b6f1622725eb"
      },
      "outputs": [
        {
          "output_type": "execute_result",
          "data": {
            "text/plain": [
              "Empty DataFrame\n",
              "Columns: [Picture]\n",
              "Index: []"
            ],
            "text/html": [
              "\n",
              "  <div id=\"df-fb2736bb-c2f0-4d09-8d5c-8a30092aebc3\">\n",
              "    <div class=\"colab-df-container\">\n",
              "      <div>\n",
              "<style scoped>\n",
              "    .dataframe tbody tr th:only-of-type {\n",
              "        vertical-align: middle;\n",
              "    }\n",
              "\n",
              "    .dataframe tbody tr th {\n",
              "        vertical-align: top;\n",
              "    }\n",
              "\n",
              "    .dataframe thead th {\n",
              "        text-align: right;\n",
              "    }\n",
              "</style>\n",
              "<table border=\"1\" class=\"dataframe\">\n",
              "  <thead>\n",
              "    <tr style=\"text-align: right;\">\n",
              "      <th></th>\n",
              "      <th>Picture</th>\n",
              "    </tr>\n",
              "    <tr>\n",
              "      <th>Target_mod</th>\n",
              "      <th></th>\n",
              "    </tr>\n",
              "  </thead>\n",
              "  <tbody>\n",
              "  </tbody>\n",
              "</table>\n",
              "</div>\n",
              "      <button class=\"colab-df-convert\" onclick=\"convertToInteractive('df-fb2736bb-c2f0-4d09-8d5c-8a30092aebc3')\"\n",
              "              title=\"Convert this dataframe to an interactive table.\"\n",
              "              style=\"display:none;\">\n",
              "        \n",
              "  <svg xmlns=\"http://www.w3.org/2000/svg\" height=\"24px\"viewBox=\"0 0 24 24\"\n",
              "       width=\"24px\">\n",
              "    <path d=\"M0 0h24v24H0V0z\" fill=\"none\"/>\n",
              "    <path d=\"M18.56 5.44l.94 2.06.94-2.06 2.06-.94-2.06-.94-.94-2.06-.94 2.06-2.06.94zm-11 1L8.5 8.5l.94-2.06 2.06-.94-2.06-.94L8.5 2.5l-.94 2.06-2.06.94zm10 10l.94 2.06.94-2.06 2.06-.94-2.06-.94-.94-2.06-.94 2.06-2.06.94z\"/><path d=\"M17.41 7.96l-1.37-1.37c-.4-.4-.92-.59-1.43-.59-.52 0-1.04.2-1.43.59L10.3 9.45l-7.72 7.72c-.78.78-.78 2.05 0 2.83L4 21.41c.39.39.9.59 1.41.59.51 0 1.02-.2 1.41-.59l7.78-7.78 2.81-2.81c.8-.78.8-2.07 0-2.86zM5.41 20L4 18.59l7.72-7.72 1.47 1.35L5.41 20z\"/>\n",
              "  </svg>\n",
              "      </button>\n",
              "      \n",
              "  <style>\n",
              "    .colab-df-container {\n",
              "      display:flex;\n",
              "      flex-wrap:wrap;\n",
              "      gap: 12px;\n",
              "    }\n",
              "\n",
              "    .colab-df-convert {\n",
              "      background-color: #E8F0FE;\n",
              "      border: none;\n",
              "      border-radius: 50%;\n",
              "      cursor: pointer;\n",
              "      display: none;\n",
              "      fill: #1967D2;\n",
              "      height: 32px;\n",
              "      padding: 0 0 0 0;\n",
              "      width: 32px;\n",
              "    }\n",
              "\n",
              "    .colab-df-convert:hover {\n",
              "      background-color: #E2EBFA;\n",
              "      box-shadow: 0px 1px 2px rgba(60, 64, 67, 0.3), 0px 1px 3px 1px rgba(60, 64, 67, 0.15);\n",
              "      fill: #174EA6;\n",
              "    }\n",
              "\n",
              "    [theme=dark] .colab-df-convert {\n",
              "      background-color: #3B4455;\n",
              "      fill: #D2E3FC;\n",
              "    }\n",
              "\n",
              "    [theme=dark] .colab-df-convert:hover {\n",
              "      background-color: #434B5C;\n",
              "      box-shadow: 0px 1px 3px 1px rgba(0, 0, 0, 0.15);\n",
              "      filter: drop-shadow(0px 1px 2px rgba(0, 0, 0, 0.3));\n",
              "      fill: #FFFFFF;\n",
              "    }\n",
              "  </style>\n",
              "\n",
              "      <script>\n",
              "        const buttonEl =\n",
              "          document.querySelector('#df-fb2736bb-c2f0-4d09-8d5c-8a30092aebc3 button.colab-df-convert');\n",
              "        buttonEl.style.display =\n",
              "          google.colab.kernel.accessAllowed ? 'block' : 'none';\n",
              "\n",
              "        async function convertToInteractive(key) {\n",
              "          const element = document.querySelector('#df-fb2736bb-c2f0-4d09-8d5c-8a30092aebc3');\n",
              "          const dataTable =\n",
              "            await google.colab.kernel.invokeFunction('convertToInteractive',\n",
              "                                                     [key], {});\n",
              "          if (!dataTable) return;\n",
              "\n",
              "          const docLinkHtml = 'Like what you see? Visit the ' +\n",
              "            '<a target=\"_blank\" href=https://colab.research.google.com/notebooks/data_table.ipynb>data table notebook</a>'\n",
              "            + ' to learn more about interactive tables.';\n",
              "          element.innerHTML = '';\n",
              "          dataTable['output_type'] = 'display_data';\n",
              "          await google.colab.output.renderOutput(dataTable, element);\n",
              "          const docLink = document.createElement('div');\n",
              "          docLink.innerHTML = docLinkHtml;\n",
              "          element.appendChild(docLink);\n",
              "        }\n",
              "      </script>\n",
              "    </div>\n",
              "  </div>\n",
              "  "
            ]
          },
          "metadata": {},
          "execution_count": 12
        }
      ],
      "source": [
        "pd.DataFrame(df_target_mod.groupby(['Target_mod'])['Picture'].count())"
      ]
    },
    {
      "cell_type": "markdown",
      "metadata": {
        "id": "H2B91hq0i_DL"
      },
      "source": [
        " > many files with the same name in the different target classes   \n",
        " > for instance, 156 files have the same name and appear in 24 different target class"
      ]
    },
    {
      "cell_type": "code",
      "execution_count": null,
      "metadata": {
        "scrolled": true,
        "id": "U_P7O4pqi_DL",
        "colab": {
          "base_uri": "https://localhost:8080/",
          "height": 50
        },
        "outputId": "a77f65a5-5269-4d8b-9d62-70223b22a415"
      },
      "outputs": [
        {
          "output_type": "execute_result",
          "data": {
            "text/plain": [
              "Empty DataFrame\n",
              "Columns: [Picture, Target, Dataset]\n",
              "Index: []"
            ],
            "text/html": [
              "\n",
              "  <div id=\"df-07db9fb4-4ada-4428-84ef-ca61b050d2d6\">\n",
              "    <div class=\"colab-df-container\">\n",
              "      <div>\n",
              "<style scoped>\n",
              "    .dataframe tbody tr th:only-of-type {\n",
              "        vertical-align: middle;\n",
              "    }\n",
              "\n",
              "    .dataframe tbody tr th {\n",
              "        vertical-align: top;\n",
              "    }\n",
              "\n",
              "    .dataframe thead th {\n",
              "        text-align: right;\n",
              "    }\n",
              "</style>\n",
              "<table border=\"1\" class=\"dataframe\">\n",
              "  <thead>\n",
              "    <tr style=\"text-align: right;\">\n",
              "      <th></th>\n",
              "      <th>Picture</th>\n",
              "      <th>Target</th>\n",
              "      <th>Dataset</th>\n",
              "    </tr>\n",
              "  </thead>\n",
              "  <tbody>\n",
              "  </tbody>\n",
              "</table>\n",
              "</div>\n",
              "      <button class=\"colab-df-convert\" onclick=\"convertToInteractive('df-07db9fb4-4ada-4428-84ef-ca61b050d2d6')\"\n",
              "              title=\"Convert this dataframe to an interactive table.\"\n",
              "              style=\"display:none;\">\n",
              "        \n",
              "  <svg xmlns=\"http://www.w3.org/2000/svg\" height=\"24px\"viewBox=\"0 0 24 24\"\n",
              "       width=\"24px\">\n",
              "    <path d=\"M0 0h24v24H0V0z\" fill=\"none\"/>\n",
              "    <path d=\"M18.56 5.44l.94 2.06.94-2.06 2.06-.94-2.06-.94-.94-2.06-.94 2.06-2.06.94zm-11 1L8.5 8.5l.94-2.06 2.06-.94-2.06-.94L8.5 2.5l-.94 2.06-2.06.94zm10 10l.94 2.06.94-2.06 2.06-.94-2.06-.94-.94-2.06-.94 2.06-2.06.94z\"/><path d=\"M17.41 7.96l-1.37-1.37c-.4-.4-.92-.59-1.43-.59-.52 0-1.04.2-1.43.59L10.3 9.45l-7.72 7.72c-.78.78-.78 2.05 0 2.83L4 21.41c.39.39.9.59 1.41.59.51 0 1.02-.2 1.41-.59l7.78-7.78 2.81-2.81c.8-.78.8-2.07 0-2.86zM5.41 20L4 18.59l7.72-7.72 1.47 1.35L5.41 20z\"/>\n",
              "  </svg>\n",
              "      </button>\n",
              "      \n",
              "  <style>\n",
              "    .colab-df-container {\n",
              "      display:flex;\n",
              "      flex-wrap:wrap;\n",
              "      gap: 12px;\n",
              "    }\n",
              "\n",
              "    .colab-df-convert {\n",
              "      background-color: #E8F0FE;\n",
              "      border: none;\n",
              "      border-radius: 50%;\n",
              "      cursor: pointer;\n",
              "      display: none;\n",
              "      fill: #1967D2;\n",
              "      height: 32px;\n",
              "      padding: 0 0 0 0;\n",
              "      width: 32px;\n",
              "    }\n",
              "\n",
              "    .colab-df-convert:hover {\n",
              "      background-color: #E2EBFA;\n",
              "      box-shadow: 0px 1px 2px rgba(60, 64, 67, 0.3), 0px 1px 3px 1px rgba(60, 64, 67, 0.15);\n",
              "      fill: #174EA6;\n",
              "    }\n",
              "\n",
              "    [theme=dark] .colab-df-convert {\n",
              "      background-color: #3B4455;\n",
              "      fill: #D2E3FC;\n",
              "    }\n",
              "\n",
              "    [theme=dark] .colab-df-convert:hover {\n",
              "      background-color: #434B5C;\n",
              "      box-shadow: 0px 1px 3px 1px rgba(0, 0, 0, 0.15);\n",
              "      filter: drop-shadow(0px 1px 2px rgba(0, 0, 0, 0.3));\n",
              "      fill: #FFFFFF;\n",
              "    }\n",
              "  </style>\n",
              "\n",
              "      <script>\n",
              "        const buttonEl =\n",
              "          document.querySelector('#df-07db9fb4-4ada-4428-84ef-ca61b050d2d6 button.colab-df-convert');\n",
              "        buttonEl.style.display =\n",
              "          google.colab.kernel.accessAllowed ? 'block' : 'none';\n",
              "\n",
              "        async function convertToInteractive(key) {\n",
              "          const element = document.querySelector('#df-07db9fb4-4ada-4428-84ef-ca61b050d2d6');\n",
              "          const dataTable =\n",
              "            await google.colab.kernel.invokeFunction('convertToInteractive',\n",
              "                                                     [key], {});\n",
              "          if (!dataTable) return;\n",
              "\n",
              "          const docLinkHtml = 'Like what you see? Visit the ' +\n",
              "            '<a target=\"_blank\" href=https://colab.research.google.com/notebooks/data_table.ipynb>data table notebook</a>'\n",
              "            + ' to learn more about interactive tables.';\n",
              "          element.innerHTML = '';\n",
              "          dataTable['output_type'] = 'display_data';\n",
              "          await google.colab.output.renderOutput(dataTable, element);\n",
              "          const docLink = document.createElement('div');\n",
              "          docLink.innerHTML = docLinkHtml;\n",
              "          element.appendChild(docLink);\n",
              "        }\n",
              "      </script>\n",
              "    </div>\n",
              "  </div>\n",
              "  "
            ]
          },
          "metadata": {},
          "execution_count": 13
        }
      ],
      "source": [
        "df_main[df_main['Picture'] == 'r0_0.jpg'][['Picture', 'Target', 'Dataset']]"
      ]
    },
    {
      "cell_type": "code",
      "execution_count": null,
      "metadata": {
        "scrolled": true,
        "id": "TEhq6w5ii_DL",
        "colab": {
          "base_uri": "https://localhost:8080/",
          "height": 35
        },
        "outputId": "4599d55c-e4f5-4a12-e220-b48854ef4e10"
      },
      "outputs": [
        {
          "output_type": "execute_result",
          "data": {
            "text/plain": [
              "\"pict = Image.open(df_main['FullFileName'].iloc[20])\\nplt.imshow(pict)\\nplt.show()\""
            ],
            "application/vnd.google.colaboratory.intrinsic+json": {
              "type": "string"
            }
          },
          "metadata": {},
          "execution_count": 14
        }
      ],
      "source": [
        "pict = Image.open(df_main['FullFileName'].iloc[20])\n",
        "plt.imshow(pict)\n",
        "plt.show()"
      ]
    },
    {
      "cell_type": "code",
      "execution_count": null,
      "metadata": {
        "scrolled": true,
        "id": "CK7S1LfRi_DL",
        "colab": {
          "base_uri": "https://localhost:8080/",
          "height": 35
        },
        "outputId": "d08ce878-ae91-41ea-8257-7e11043a521e"
      },
      "outputs": [
        {
          "output_type": "execute_result",
          "data": {
            "text/plain": [
              "\"pict = Image.open(df_main['FullFileName'].iloc[40])\\nplt.imshow(pict)\\nplt.show()\""
            ],
            "application/vnd.google.colaboratory.intrinsic+json": {
              "type": "string"
            }
          },
          "metadata": {},
          "execution_count": 15
        }
      ],
      "source": [
        "pict = Image.open(df_main['FullFileName'].iloc[40])\n",
        "plt.imshow(pict)\n",
        "plt.show()"
      ]
    },
    {
      "cell_type": "markdown",
      "metadata": {
        "id": "DczInj0Pi_DL"
      },
      "source": [
        " > File name format: r?_image_index.jpg (e.g. r0_31.jpg or r1_12.jpg)  \n",
        " > \"r?\" stands for rotation axis (first one is r0)"
      ]
    },
    {
      "cell_type": "markdown",
      "metadata": {
        "id": "pCTC6Svui_DL"
      },
      "source": [
        "### Distinguish rotation axis and index"
      ]
    },
    {
      "cell_type": "code",
      "execution_count": null,
      "metadata": {
        "scrolled": true,
        "id": "OwGf1JZbi_DL",
        "colab": {
          "base_uri": "https://localhost:8080/",
          "height": 278
        },
        "outputId": "1b33dad2-9ce2-44f0-996b-a409dfa6a5ba"
      },
      "outputs": [
        {
          "output_type": "stream",
          "name": "stderr",
          "text": [
            "/usr/local/lib/python3.7/dist-packages/ipykernel_launcher.py:2: FutureWarning: Columnar iteration over characters will be deprecated in future releases.\n",
            "  \n"
          ]
        },
        {
          "output_type": "error",
          "ename": "ValueError",
          "evalue": "ignored",
          "traceback": [
            "\u001b[0;31m---------------------------------------------------------------------------\u001b[0m",
            "\u001b[0;31mValueError\u001b[0m                                Traceback (most recent call last)",
            "\u001b[0;32m<ipython-input-16-d4b6875008cd>\u001b[0m in \u001b[0;36m<module>\u001b[0;34m()\u001b[0m\n\u001b[1;32m      1\u001b[0m \u001b[0;31m# Laurence: supprimler les FutureWarning\u001b[0m\u001b[0;34m\u001b[0m\u001b[0;34m\u001b[0m\u001b[0;34m\u001b[0m\u001b[0m\n\u001b[0;32m----> 2\u001b[0;31m \u001b[0mdf_main\u001b[0m\u001b[0;34m[\u001b[0m\u001b[0;34m\"Rotation\"\u001b[0m\u001b[0;34m]\u001b[0m\u001b[0;34m,\u001b[0m \u001b[0mdf_main\u001b[0m\u001b[0;34m[\u001b[0m\u001b[0;34m\"Index\"\u001b[0m\u001b[0;34m]\u001b[0m \u001b[0;34m=\u001b[0m \u001b[0mdf_main\u001b[0m\u001b[0;34m[\u001b[0m\u001b[0;34m\"Picture\"\u001b[0m\u001b[0;34m]\u001b[0m\u001b[0;34m.\u001b[0m\u001b[0mstr\u001b[0m\u001b[0;34m.\u001b[0m\u001b[0msplit\u001b[0m\u001b[0;34m(\u001b[0m\u001b[0;34m\"_\"\u001b[0m\u001b[0;34m,\u001b[0m \u001b[0;36m1\u001b[0m\u001b[0;34m)\u001b[0m\u001b[0;34m.\u001b[0m\u001b[0mstr\u001b[0m\u001b[0;34m\u001b[0m\u001b[0;34m\u001b[0m\u001b[0m\n\u001b[0m\u001b[1;32m      3\u001b[0m \u001b[0mdf_main\u001b[0m\u001b[0;34m[\u001b[0m\u001b[0;34m\"Rotation\"\u001b[0m\u001b[0;34m]\u001b[0m \u001b[0;34m=\u001b[0m \u001b[0mdf_main\u001b[0m\u001b[0;34m[\u001b[0m\u001b[0;34m\"Rotation\"\u001b[0m\u001b[0;34m]\u001b[0m\u001b[0;34m.\u001b[0m\u001b[0mstr\u001b[0m\u001b[0;34m.\u001b[0m\u001b[0mreplace\u001b[0m\u001b[0;34m(\u001b[0m\u001b[0;34m'r'\u001b[0m\u001b[0;34m,\u001b[0m\u001b[0;34m''\u001b[0m\u001b[0;34m)\u001b[0m\u001b[0;34m\u001b[0m\u001b[0;34m\u001b[0m\u001b[0m\n\u001b[1;32m      4\u001b[0m \u001b[0mdf_main\u001b[0m\u001b[0;34m[\u001b[0m\u001b[0;34m\"Index\"\u001b[0m\u001b[0;34m]\u001b[0m \u001b[0;34m=\u001b[0m \u001b[0mdf_main\u001b[0m\u001b[0;34m[\u001b[0m\u001b[0;34m\"Index\"\u001b[0m\u001b[0;34m]\u001b[0m\u001b[0;34m.\u001b[0m\u001b[0mstr\u001b[0m\u001b[0;34m.\u001b[0m\u001b[0mreplace\u001b[0m\u001b[0;34m(\u001b[0m\u001b[0;34m'.jpg'\u001b[0m\u001b[0;34m,\u001b[0m\u001b[0;34m''\u001b[0m\u001b[0;34m)\u001b[0m\u001b[0;34m\u001b[0m\u001b[0;34m\u001b[0m\u001b[0m\n\u001b[1;32m      5\u001b[0m \u001b[0mdf_main\u001b[0m\u001b[0;34m\u001b[0m\u001b[0;34m\u001b[0m\u001b[0m\n",
            "\u001b[0;31mValueError\u001b[0m: not enough values to unpack (expected 2, got 0)"
          ]
        }
      ],
      "source": [
        "# Laurence: supprimer les FutureWarning\n",
        "df_main[\"Rotation\"], df_main[\"Index\"] = df_main[\"Picture\"].str.split(\"_\", 1).str\n",
        "df_main[\"Rotation\"] = df_main[\"Rotation\"].str.replace('r','')\n",
        "df_main[\"Index\"] = df_main[\"Index\"].str.replace('.jpg','')\n",
        "df_main"
      ]
    },
    {
      "cell_type": "code",
      "execution_count": null,
      "metadata": {
        "scrolled": true,
        "id": "956xD25Ci_DM"
      },
      "outputs": [],
      "source": [
        "pd.DataFrame(df_main[\"Rotation\"].unique())"
      ]
    },
    {
      "cell_type": "code",
      "execution_count": null,
      "metadata": {
        "id": "MTPj5pedi_DM"
      },
      "outputs": [],
      "source": [
        "pict = Image.open(df_main['FullFileName'].iloc[df_main[df_main['Rotation'] == '0'].head(1).index[0]])\n",
        "plt.imshow(pict)\n",
        "plt.show()"
      ]
    },
    {
      "cell_type": "code",
      "execution_count": null,
      "metadata": {
        "id": "xb6MDWXVi_DM"
      },
      "outputs": [],
      "source": [
        "pict = Image.open(df_main['FullFileName'].iloc[df_main[df_main['Rotation'] == '1'].head(1).index[0]])\n",
        "plt.imshow(pict)\n",
        "plt.show()"
      ]
    },
    {
      "cell_type": "code",
      "execution_count": null,
      "metadata": {
        "id": "Zze795mJi_DM"
      },
      "outputs": [],
      "source": [
        "pict = Image.open(df_main['FullFileName'].iloc[df_main[df_main['Rotation'] == '2'].head(1).index[0]])\n",
        "plt.imshow(pict)\n",
        "plt.show()"
      ]
    },
    {
      "cell_type": "markdown",
      "metadata": {
        "id": "yEBayA3ti_DM"
      },
      "source": [
        " > 0 - queue top or down > rotation around the z-axis  \n",
        " > 1 - queue behind or ahead > rotation around the x-axis  \n",
        " > 2 - queue left or right > rotation around the y-axis  "
      ]
    },
    {
      "cell_type": "markdown",
      "metadata": {
        "id": "2vIQZgAmi_DM"
      },
      "source": [
        "### Target class count distribution"
      ]
    },
    {
      "cell_type": "code",
      "execution_count": null,
      "metadata": {
        "id": "mmV19mGmi_DN"
      },
      "outputs": [],
      "source": [
        "def distribution(df_in, dataset):\n",
        "    \n",
        "    df = df_in.copy()\n",
        "    \n",
        "    if dataset in ['Training', 'Test', 'Validation']:\n",
        "        df.drop(df[df['Dataset'] != dataset].index, inplace=True)\n",
        "    elif dataset != '*':\n",
        "        print(\"dataset argument should be 'Training', 'Test', 'Validation' or '*'\")\n",
        "        return -1\n",
        "        \n",
        "    df_distrib = pd.DataFrame(df.groupby(['Target'])['Picture'].count())\n",
        "    df_distrib.reset_index(drop=False, inplace=True)\n",
        "    df_distrib.rename(columns={'Picture':'Picture count', 'Target':'Class'}, inplace=True)\n",
        "    df_distrib = df_distrib.sort_values(by='Class', ascending=False)    \n",
        "\n",
        "    if len(df_distrib) == 0: return -1\n",
        "    \n",
        "    df_distrib.plot.barh(x='Class', y='Picture count', figsize=(12, 10))    \n",
        "    \n",
        "    return 1"
      ]
    },
    {
      "cell_type": "code",
      "execution_count": null,
      "metadata": {
        "scrolled": true,
        "id": "LyVnJEEzi_DN"
      },
      "outputs": [],
      "source": [
        "ret = distribution(df_main, 'Training')\n",
        "ret = distribution(df_main, 'Test')\n",
        "ret = distribution(df_main, 'Validation')\n",
        "ret = distribution(df_main, '*')"
      ]
    },
    {
      "cell_type": "markdown",
      "metadata": {
        "id": "qQRyfeo1i_DN"
      },
      "source": [
        "### Target class filesize average distribution  \n",
        "Logitech C920 camera and dedicated algorithm which extract the fruit from the background"
      ]
    },
    {
      "cell_type": "code",
      "execution_count": null,
      "metadata": {
        "scrolled": true,
        "id": "JQ-7Uf1Pi_DN"
      },
      "outputs": [],
      "source": [
        "pd.DataFrame(df_main.groupby('Target')['FileSize (in KB)'].mean())"
      ]
    },
    {
      "cell_type": "code",
      "execution_count": null,
      "metadata": {
        "id": "0J_XmR1Xi_DN"
      },
      "outputs": [],
      "source": [
        "pd.DataFrame(df_main.groupby('Dataset')['FileSize (in KB)'].mean())"
      ]
    },
    {
      "cell_type": "code",
      "execution_count": null,
      "metadata": {
        "id": "YqFIjB30i_DN"
      },
      "outputs": [],
      "source": [
        "df_main['FileSize (in KB)'].mean(), df_main['FileSize (in KB)'].sum()/1024**2"
      ]
    },
    {
      "cell_type": "markdown",
      "metadata": {
        "id": "p4rMsUjqi_DO"
      },
      "source": [
        "## Get class information <a class=\"anchor\" id=\"sub2_3\"></a>"
      ]
    },
    {
      "cell_type": "code",
      "execution_count": null,
      "metadata": {
        "_cell_guid": "79c7e3d0-c299-4dcb-8224-4455121ee9b0",
        "_uuid": "d629ff2d2480ee46fbb7e2d37f6b5fab8052498a",
        "scrolled": true,
        "id": "3lVB8jqSi_DO"
      },
      "outputs": [],
      "source": [
        "path = '../fruits-360-original-size/Meta/'\n",
        "\n",
        "df_class_add = pd.DataFrame(columns = ['PathName', 'Target', 'TxtName'])\n",
        "df_meta = pd.DataFrame(columns = ['Flag', 'Value'])\n",
        "\n",
        "for file in glob.iglob(path+'**/info.txt', recursive = True):\n",
        "    \n",
        "    df_meta_add = pd.read_csv(file, sep=\"=\", names=['Flag', 'Value'])\n",
        "        \n",
        "    df_class_add.loc[0] = file.split('\\\\')   \n",
        "        \n",
        "    df_meta = pd.concat([df_class_add.join(df_meta_add, how='cross'), df_meta])\n",
        "\n",
        "del df_class_add, df_meta_add\n",
        "\n",
        "df_meta.drop(columns=['PathName', 'TxtName'], inplace=True)\n",
        "df_meta = df_meta.sort_values(['Target', 'Flag'], ascending=True)\n",
        "df_meta.reset_index(drop=True, inplace=True)\n",
        "df_meta"
      ]
    },
    {
      "cell_type": "code",
      "execution_count": null,
      "metadata": {
        "id": "o6gRJuroi_DO"
      },
      "outputs": [],
      "source": [
        "df_meta['Flag'].nunique()"
      ]
    },
    {
      "cell_type": "code",
      "execution_count": null,
      "metadata": {
        "scrolled": true,
        "id": "msE0czQwi_DO"
      },
      "outputs": [],
      "source": [
        "pd.DataFrame(df_meta['Flag'].unique(), columns=['Flag']).sort_values(by='Flag')"
      ]
    },
    {
      "cell_type": "markdown",
      "metadata": {
        "id": "GuDKfGhXi_DO"
      },
      "source": [
        "## Target label encoding  <a class=\"anchor\" id=\"sub2_4\"></a>"
      ]
    },
    {
      "cell_type": "code",
      "execution_count": null,
      "metadata": {
        "scrolled": true,
        "id": "C3Z4wpOBi_DO"
      },
      "outputs": [],
      "source": [
        "df_main, df_target_mapping = MyMod.encode_LabelEncoder(df_main, 'Target')\n",
        "df_main.head(5)"
      ]
    },
    {
      "cell_type": "code",
      "execution_count": null,
      "metadata": {
        "id": "1edp7c5oi_DP"
      },
      "outputs": [],
      "source": [
        "df_meta, df_target_mapping = MyMod.encode_LabelEncoder(df_meta, 'Target')\n",
        "df_meta.head(5)"
      ]
    },
    {
      "cell_type": "code",
      "execution_count": null,
      "metadata": {
        "scrolled": true,
        "id": "EogZei5Bi_DP"
      },
      "outputs": [],
      "source": [
        "df_target_mapping"
      ]
    },
    {
      "cell_type": "markdown",
      "metadata": {
        "id": "L8sniUYEi_DP"
      },
      "source": [
        "# Preparation of the local sampled picture set <a class=\"anchor\" id=\"chapter3\"></a>"
      ]
    },
    {
      "cell_type": "markdown",
      "metadata": {
        "id": "K3MR0X7Xi_DP"
      },
      "source": [
        "## Create a local sampled picture set <a class=\"anchor\" id=\"sub3_1\"></a>"
      ]
    },
    {
      "cell_type": "code",
      "execution_count": null,
      "metadata": {
        "scrolled": true,
        "id": "8ZFvbuDHi_DP"
      },
      "outputs": [],
      "source": [
        "target_prec = \"\"\n",
        "for file in glob.iglob(LOCAL_SRC_PATH+'**/*.jpg', recursive = True):\n",
        "    \n",
        "    lst = file.split('\\\\')\n",
        "    \n",
        "    # Limit number of pictures per class(GET_PICTURES_NB_PER_CLASS)\n",
        "    if lst[2] == target_prec: \n",
        "        i += 1\n",
        "    else:\n",
        "        i = 0\n",
        "    target_prec = lst[2]\n",
        "    \n",
        "    if (lst[1] == 'Training' and i < 2*GET_PICTURES_NB_PER_CLASS) or \\\n",
        "                    (lst[1] != 'Training' and i < GET_PICTURES_NB_PER_CLASS):     \n",
        "                \n",
        "        # create the destination repository if necessary\n",
        "        if not os.path.exists(LOCAL_DEST_PATH+lst[1]+\"/\"+lst[2]):\n",
        "             os.makedirs(LOCAL_DEST_PATH+lst[1]+\"/\"+lst[2])\n",
        "\n",
        "        # copy the file to the destination repository\n",
        "        shutil.copyfile(LOCAL_SRC_PATH+lst[1]+\"/\"+lst[2]+\"/\"+lst[3], LOCAL_DEST_PATH+lst[1]+\"/\"+lst[2]+\"/\"+lst[3])"
      ]
    },
    {
      "cell_type": "markdown",
      "metadata": {
        "id": "I16H3kx7i_DP"
      },
      "source": [
        "## Get picture information from local sampled picture set <a class=\"anchor\" id=\"sub3_2\"></a>"
      ]
    },
    {
      "cell_type": "code",
      "execution_count": null,
      "metadata": {
        "scrolled": true,
        "id": "q2J1Xdd6i_DP"
      },
      "outputs": [],
      "source": [
        "df_main = rep_2_picture_info(GOOGLE_DEST_PATH)\n",
        "df_main"
      ]
    },
    {
      "cell_type": "markdown",
      "metadata": {
        "id": "piAEOlbti_DQ"
      },
      "source": [
        "# Create and configure a Spark Session <a class=\"anchor\" id=\"chapter4\"></a> \n",
        "- builder()     generator to create the session\n",
        "- master()      master name (yarn, mesos or local[number of cores to use]. Number of partitions for distributed objects.\n",
        "- appName()     name the application\n",
        "- getOrCreate() create a new session or return the existing one\n",
        "- config()      configure session\n",
        "    - spark.sql.repl.eagerEval.enabled: PySpark DataFrame quick assessment in Jupyter  \n",
        "    - spark.sql.repl.eagerEval.maxNumRows: number of lines to show      \n",
        "    - spark.sql.execution.arrow.pyspark.enabled: to use Arrow optimiser for Spark to Pandas DataFrame conversions (toPandas or createDataFrame)  "
      ]
    },
    {
      "cell_type": "code",
      "execution_count": 122,
      "metadata": {
        "id": "oQ-ubEWji_DR"
      },
      "outputs": [],
      "source": [
        "# Instantiate SparkSession\n",
        "spark = SparkSession.builder\\\n",
        "        .master(\"local[*]\")\\\n",
        "        .appName('P8_03')\\\n",
        "        .getOrCreate()\n",
        "\n",
        "spark.conf.set('spark.sql.repl.eagerEval.enabled', True)\n",
        "spark.conf.set('spark.sql.repl.eagerEval.maxNumRows', 5)\n",
        "spark.conf.set('spark.sql.execution.arrow.pyspark.enabled', True)\n",
        "\n",
        "#spark.conf.set('java.io.tmpdir', 'C:\\Users\\Public\\AppData\\Local\\Temp\\')\n",
        "#java.library.path\n",
        "\n",
        "# Pandas UDFs on large records (e.g., very large images) can run into Out Of Memory (OOM) errors.\n",
        "# If you hit such errors in the cell below, try reducing the Arrow batch size via `maxRecordsPerBatch`.\n",
        "spark.conf.set(\"spark.sql.execution.arrow.maxRecordsPerBatch\", \"1024\")"
      ]
    },
    {
      "cell_type": "code",
      "execution_count": 123,
      "metadata": {
        "id": "x7TZIph4i_DR"
      },
      "outputs": [],
      "source": [
        "# Get the SparkContext\n",
        "sc = spark.sparkContext"
      ]
    },
    {
      "cell_type": "code",
      "execution_count": 124,
      "metadata": {
        "colab": {
          "base_uri": "https://localhost:8080/",
          "height": 221
        },
        "id": "kVpQF2X6i_DR",
        "outputId": "c4b8c14f-2768-4456-f638-7bcac5163473"
      },
      "outputs": [
        {
          "output_type": "execute_result",
          "data": {
            "text/plain": [
              "<pyspark.sql.session.SparkSession at 0x7f23e237ab10>"
            ],
            "text/html": [
              "\n",
              "            <div>\n",
              "                <p><b>SparkSession - in-memory</b></p>\n",
              "                \n",
              "        <div>\n",
              "            <p><b>SparkContext</b></p>\n",
              "\n",
              "            <p><a href=\"http://28a07f49e52e:4040\">Spark UI</a></p>\n",
              "\n",
              "            <dl>\n",
              "              <dt>Version</dt>\n",
              "                <dd><code>v3.2.1</code></dd>\n",
              "              <dt>Master</dt>\n",
              "                <dd><code>local[*]</code></dd>\n",
              "              <dt>AppName</dt>\n",
              "                <dd><code>P8_03</code></dd>\n",
              "            </dl>\n",
              "        </div>\n",
              "        \n",
              "            </div>\n",
              "        "
            ]
          },
          "metadata": {},
          "execution_count": 124
        }
      ],
      "source": [
        "# User web interface\n",
        "spark"
      ]
    },
    {
      "cell_type": "markdown",
      "metadata": {
        "id": "Ghpp_J6ai_DR"
      },
      "source": [
        "# Load data <a class=\"anchor\" id=\"chapter5\"></a> "
      ]
    },
    {
      "cell_type": "markdown",
      "metadata": {
        "id": "2-89zGFui_DR"
      },
      "source": [
        "## Load pictures <a class=\"anchor\" id=\"sub5_1\"></a> "
      ]
    },
    {
      "cell_type": "markdown",
      "metadata": {
        "id": "4wElJrusi_DS"
      },
      "source": [
        "### Get pictures in a Spark DataFrame in \"image\" format"
      ]
    },
    {
      "cell_type": "code",
      "source": [
        "pictures_df = spark.read.format('image').load(GOOGLE_DEST_PATH+\"*/*/*.jpg\", inferschema=True)\n",
        "pictures_df.count()"
      ],
      "metadata": {
        "colab": {
          "base_uri": "https://localhost:8080/"
        },
        "id": "-6Lz3l89Syb_",
        "outputId": "f2459e24-dd16-45bd-abbc-d0a47000c70f"
      },
      "execution_count": 125,
      "outputs": [
        {
          "output_type": "execute_result",
          "data": {
            "text/plain": [
              "193"
            ]
          },
          "metadata": {},
          "execution_count": 125
        }
      ]
    },
    {
      "cell_type": "code",
      "source": [
        "pictures_df.select('image.origin').show(5, False, True)"
      ],
      "metadata": {
        "colab": {
          "base_uri": "https://localhost:8080/"
        },
        "id": "ws9weoInTEO-",
        "outputId": "31e8ea43-c8a7-4f9d-dd8b-cfb08a27ac66"
      },
      "execution_count": 126,
      "outputs": [
        {
          "output_type": "stream",
          "name": "stdout",
          "text": [
            "-RECORD 0---------------------------------------------------------------------------------\n",
            " origin | file:/content/drive/MyDrive/fruits-360-sample/Test/apple_hit_1/r0_107.jpg       \n",
            "-RECORD 1---------------------------------------------------------------------------------\n",
            " origin | file:/content/drive/MyDrive/fruits-360-sample/Training/apple_hit_1/r0_102.jpg   \n",
            "-RECORD 2---------------------------------------------------------------------------------\n",
            " origin | file:/content/drive/MyDrive/fruits-360-sample/Test/apple_hit_1/r0_103.jpg       \n",
            "-RECORD 3---------------------------------------------------------------------------------\n",
            " origin | file:/content/drive/MyDrive/fruits-360-sample/Validation/apple_hit_1/r0_101.jpg \n",
            "-RECORD 4---------------------------------------------------------------------------------\n",
            " origin | file:/content/drive/MyDrive/fruits-360-sample/Training/apple_hit_1/r0_100.jpg   \n",
            "only showing top 5 rows\n",
            "\n"
          ]
        }
      ]
    },
    {
      "cell_type": "code",
      "execution_count": 127,
      "metadata": {
        "colab": {
          "base_uri": "https://localhost:8080/"
        },
        "id": "W4SycElOi_DS",
        "outputId": "8a6fcb15-0f02-4a67-b00f-2ee0d0a28e9e"
      },
      "outputs": [
        {
          "output_type": "stream",
          "name": "stdout",
          "text": [
            "root\n",
            " |-- image: struct (nullable = true)\n",
            " |    |-- origin: string (nullable = true)\n",
            " |    |-- height: integer (nullable = true)\n",
            " |    |-- width: integer (nullable = true)\n",
            " |    |-- nChannels: integer (nullable = true)\n",
            " |    |-- mode: integer (nullable = true)\n",
            " |    |-- data: binary (nullable = true)\n",
            "\n"
          ]
        }
      ],
      "source": [
        "# Spark DataFrame scheme\n",
        "pictures_df.printSchema()"
      ]
    },
    {
      "cell_type": "markdown",
      "metadata": {
        "id": "E1DPqWEGi_DT"
      },
      "source": [
        "### Get pictures in a Spark DataFrame in \"binaryFile\" format"
      ]
    },
    {
      "cell_type": "code",
      "execution_count": 128,
      "metadata": {
        "id": "AVP47Zx1i_DT"
      },
      "outputs": [],
      "source": [
        "pictures_df = spark.read.format(\"binaryFile\") \\\n",
        "            .option(\"pathGlobFilter\", \"*.jpg\") \\\n",
        "            .option(\"recursiveFileLookup\", \"true\") \\\n",
        "            .load(GOOGLE_DEST_PATH+\"*/*/*.jpg\")"
      ]
    },
    {
      "cell_type": "code",
      "execution_count": 129,
      "metadata": {
        "colab": {
          "base_uri": "https://localhost:8080/"
        },
        "id": "gltVO-uUi_DT",
        "outputId": "45fb4e68-7e89-4b45-ba4f-9541331803c2"
      },
      "outputs": [
        {
          "output_type": "execute_result",
          "data": {
            "text/plain": [
              "193"
            ]
          },
          "metadata": {},
          "execution_count": 129
        }
      ],
      "source": [
        "# Count sample size\n",
        "pictures_df.count()"
      ]
    },
    {
      "cell_type": "code",
      "execution_count": 130,
      "metadata": {
        "colab": {
          "base_uri": "https://localhost:8080/"
        },
        "id": "hnxa9dFhi_DT",
        "outputId": "27781083-6999-4a53-c8e3-ce20154474f5"
      },
      "outputs": [
        {
          "output_type": "stream",
          "name": "stdout",
          "text": [
            "+--------------------+-------------------+------+--------------------+\n",
            "|                path|   modificationTime|length|             content|\n",
            "+--------------------+-------------------+------+--------------------+\n",
            "|file:/content/dri...|2022-03-21 14:12:59|123514|[FF D8 FF E0 00 1...|\n",
            "|file:/content/dri...|2022-03-21 14:13:00|122525|[FF D8 FF E0 00 1...|\n",
            "|file:/content/dri...|2022-03-21 14:12:59|121530|[FF D8 FF E0 00 1...|\n",
            "|file:/content/dri...|2022-03-21 14:13:00|119805|[FF D8 FF E0 00 1...|\n",
            "|file:/content/dri...|2022-03-21 14:13:00|119068|[FF D8 FF E0 00 1...|\n",
            "+--------------------+-------------------+------+--------------------+\n",
            "only showing top 5 rows\n",
            "\n"
          ]
        }
      ],
      "source": [
        "# Spark DataFrame visualisation\n",
        "pictures_df.show(5)"
      ]
    },
    {
      "cell_type": "code",
      "execution_count": 131,
      "metadata": {
        "colab": {
          "base_uri": "https://localhost:8080/"
        },
        "id": "9IOTpvuei_DT",
        "outputId": "3b7ee718-fb92-4a2c-a48c-9ab5d58a19e8"
      },
      "outputs": [
        {
          "output_type": "stream",
          "name": "stdout",
          "text": [
            "root\n",
            " |-- path: string (nullable = true)\n",
            " |-- modificationTime: timestamp (nullable = true)\n",
            " |-- length: long (nullable = true)\n",
            " |-- content: binary (nullable = true)\n",
            "\n"
          ]
        }
      ],
      "source": [
        "# Spark DataFrame scheme\n",
        "pictures_df.printSchema()"
      ]
    },
    {
      "cell_type": "markdown",
      "metadata": {
        "id": "cA7IYjKOi_DT"
      },
      "source": [
        "## Distinguish Target and DataSet <a class=\"anchor\" id=\"sub5_2\"></a> "
      ]
    },
    {
      "cell_type": "code",
      "execution_count": 132,
      "metadata": {
        "id": "DmkEagGDi_DU"
      },
      "outputs": [],
      "source": [
        "# Extract Target from path\n",
        "pictures_df = pictures_df.withColumn('target', element_at(split(pictures_df['path'], \"/\"), -2))"
      ]
    },
    {
      "cell_type": "code",
      "source": [
        "# Extract DataSet from path\n",
        "pictures_df = pictures_df.withColumn('dataset', element_at(split(pictures_df['path'], \"/\"), -3))"
      ],
      "metadata": {
        "id": "53xVF3u1Vhn_"
      },
      "execution_count": 133,
      "outputs": []
    },
    {
      "cell_type": "markdown",
      "source": [
        "## Index Target <a class=\"anchor\" id=\"sub5_3\"></a> "
      ],
      "metadata": {
        "id": "h8RYVEFWiwaP"
      }
    },
    {
      "cell_type": "code",
      "source": [
        "indexer = StringIndexer(inputCol=\"target\", outputCol=\"target_code\") \n",
        "pictures_df = indexer.fit(pictures_df).transform(pictures_df)\n",
        "pictures_df.show(20)"
      ],
      "metadata": {
        "colab": {
          "base_uri": "https://localhost:8080/"
        },
        "id": "LOcVKyuxic2S",
        "outputId": "361b8667-2c86-49a6-b82e-67df8cfb6423"
      },
      "execution_count": 134,
      "outputs": [
        {
          "output_type": "stream",
          "name": "stdout",
          "text": [
            "+--------------------+-------------------+------+--------------------+---------------+----------+-----------+\n",
            "|                path|   modificationTime|length|             content|         target|   dataset|target_code|\n",
            "+--------------------+-------------------+------+--------------------+---------------+----------+-----------+\n",
            "|file:/content/dri...|2022-03-21 14:12:59|123514|[FF D8 FF E0 00 1...|    apple_hit_1|      Test|        7.0|\n",
            "|file:/content/dri...|2022-03-21 14:13:00|122525|[FF D8 FF E0 00 1...|    apple_hit_1|  Training|        7.0|\n",
            "|file:/content/dri...|2022-03-21 14:12:59|121530|[FF D8 FF E0 00 1...|    apple_hit_1|      Test|        7.0|\n",
            "|file:/content/dri...|2022-03-21 14:13:00|119805|[FF D8 FF E0 00 1...|    apple_hit_1|Validation|        7.0|\n",
            "|file:/content/dri...|2022-03-21 14:13:00|119068|[FF D8 FF E0 00 1...|    apple_hit_1|  Training|        7.0|\n",
            "|file:/content/dri...|2022-03-21 14:13:01| 96730|[FF D8 FF E0 00 1...|cabbage_white_1|Validation|       15.0|\n",
            "|file:/content/dri...|2022-03-21 14:13:00| 96281|[FF D8 FF E0 00 1...|cabbage_white_1|  Training|       15.0|\n",
            "|file:/content/dri...|2022-03-21 14:13:00| 95790|[FF D8 FF E0 00 1...|cabbage_white_1|  Training|       15.0|\n",
            "|file:/content/dri...|2022-03-21 14:13:01| 95624|[FF D8 FF E0 00 1...|cabbage_white_1|Validation|       15.0|\n",
            "|file:/content/dri...|2022-03-21 14:13:00| 95486|[FF D8 FF E0 00 1...|cabbage_white_1|  Training|       15.0|\n",
            "|file:/content/dri...|2022-03-21 14:12:59| 95139|[FF D8 FF E0 00 1...|cabbage_white_1|      Test|       15.0|\n",
            "|file:/content/dri...|2022-03-21 14:13:00| 94969|[FF D8 FF E0 00 1...|cabbage_white_1|  Training|       15.0|\n",
            "|file:/content/dri...|2022-03-21 14:12:59| 94910|[FF D8 FF E0 00 1...|cabbage_white_1|      Test|       15.0|\n",
            "|file:/content/dri...|2022-03-21 14:13:00| 94753|[FF D8 FF E0 00 1...|    apple_hit_1|  Training|        7.0|\n",
            "|file:/content/dri...|2022-03-21 14:13:00| 89920|[FF D8 FF E0 00 1...|    apple_hit_1|Validation|        7.0|\n",
            "|file:/content/dri...|2022-03-21 14:13:00| 89253|[FF D8 FF E0 00 1...|    apple_hit_1|  Training|        7.0|\n",
            "|file:/content/dri...|2022-03-21 14:13:00| 77515|[FF D8 FF E0 00 1...|         pear_3|  Training|       21.0|\n",
            "|file:/content/dri...|2022-03-21 14:13:01| 76561|[FF D8 FF E0 00 1...|         pear_3|Validation|       21.0|\n",
            "|file:/content/dri...|2022-03-21 14:13:00| 74814|[FF D8 FF E0 00 1...|         pear_3|  Training|       21.0|\n",
            "|file:/content/dri...|2022-03-21 14:12:59| 74182|[FF D8 FF E0 00 1...|         pear_3|      Test|       21.0|\n",
            "+--------------------+-------------------+------+--------------------+---------------+----------+-----------+\n",
            "only showing top 20 rows\n",
            "\n"
          ]
        }
      ]
    },
    {
      "cell_type": "code",
      "source": [
        "pictures_df = pictures_df.withColumn(\"target_code\",pictures_df.target_code.cast(IntegerType()))\n",
        "pictures_df.show(20)"
      ],
      "metadata": {
        "colab": {
          "base_uri": "https://localhost:8080/"
        },
        "id": "nj6Er0Gm3MVa",
        "outputId": "effe56c0-a19f-44e4-d6db-3448357c5a12"
      },
      "execution_count": 135,
      "outputs": [
        {
          "output_type": "stream",
          "name": "stdout",
          "text": [
            "+--------------------+-------------------+------+--------------------+---------------+----------+-----------+\n",
            "|                path|   modificationTime|length|             content|         target|   dataset|target_code|\n",
            "+--------------------+-------------------+------+--------------------+---------------+----------+-----------+\n",
            "|file:/content/dri...|2022-03-21 14:12:59|123514|[FF D8 FF E0 00 1...|    apple_hit_1|      Test|          7|\n",
            "|file:/content/dri...|2022-03-21 14:13:00|122525|[FF D8 FF E0 00 1...|    apple_hit_1|  Training|          7|\n",
            "|file:/content/dri...|2022-03-21 14:12:59|121530|[FF D8 FF E0 00 1...|    apple_hit_1|      Test|          7|\n",
            "|file:/content/dri...|2022-03-21 14:13:00|119805|[FF D8 FF E0 00 1...|    apple_hit_1|Validation|          7|\n",
            "|file:/content/dri...|2022-03-21 14:13:00|119068|[FF D8 FF E0 00 1...|    apple_hit_1|  Training|          7|\n",
            "|file:/content/dri...|2022-03-21 14:13:01| 96730|[FF D8 FF E0 00 1...|cabbage_white_1|Validation|         15|\n",
            "|file:/content/dri...|2022-03-21 14:13:00| 96281|[FF D8 FF E0 00 1...|cabbage_white_1|  Training|         15|\n",
            "|file:/content/dri...|2022-03-21 14:13:00| 95790|[FF D8 FF E0 00 1...|cabbage_white_1|  Training|         15|\n",
            "|file:/content/dri...|2022-03-21 14:13:01| 95624|[FF D8 FF E0 00 1...|cabbage_white_1|Validation|         15|\n",
            "|file:/content/dri...|2022-03-21 14:13:00| 95486|[FF D8 FF E0 00 1...|cabbage_white_1|  Training|         15|\n",
            "|file:/content/dri...|2022-03-21 14:12:59| 95139|[FF D8 FF E0 00 1...|cabbage_white_1|      Test|         15|\n",
            "|file:/content/dri...|2022-03-21 14:13:00| 94969|[FF D8 FF E0 00 1...|cabbage_white_1|  Training|         15|\n",
            "|file:/content/dri...|2022-03-21 14:12:59| 94910|[FF D8 FF E0 00 1...|cabbage_white_1|      Test|         15|\n",
            "|file:/content/dri...|2022-03-21 14:13:00| 94753|[FF D8 FF E0 00 1...|    apple_hit_1|  Training|          7|\n",
            "|file:/content/dri...|2022-03-21 14:13:00| 89920|[FF D8 FF E0 00 1...|    apple_hit_1|Validation|          7|\n",
            "|file:/content/dri...|2022-03-21 14:13:00| 89253|[FF D8 FF E0 00 1...|    apple_hit_1|  Training|          7|\n",
            "|file:/content/dri...|2022-03-21 14:13:00| 77515|[FF D8 FF E0 00 1...|         pear_3|  Training|         21|\n",
            "|file:/content/dri...|2022-03-21 14:13:01| 76561|[FF D8 FF E0 00 1...|         pear_3|Validation|         21|\n",
            "|file:/content/dri...|2022-03-21 14:13:00| 74814|[FF D8 FF E0 00 1...|         pear_3|  Training|         21|\n",
            "|file:/content/dri...|2022-03-21 14:12:59| 74182|[FF D8 FF E0 00 1...|         pear_3|      Test|         21|\n",
            "+--------------------+-------------------+------+--------------------+---------------+----------+-----------+\n",
            "only showing top 20 rows\n",
            "\n"
          ]
        }
      ]
    },
    {
      "cell_type": "code",
      "execution_count": 136,
      "metadata": {
        "colab": {
          "base_uri": "https://localhost:8080/"
        },
        "id": "1Y8c349Ai_DU",
        "outputId": "563c76a0-e5f0-45c9-f3dc-3898ce928498"
      },
      "outputs": [
        {
          "output_type": "stream",
          "name": "stdout",
          "text": [
            "root\n",
            " |-- path: string (nullable = true)\n",
            " |-- modificationTime: timestamp (nullable = true)\n",
            " |-- length: long (nullable = true)\n",
            " |-- content: binary (nullable = true)\n",
            " |-- target: string (nullable = true)\n",
            " |-- dataset: string (nullable = true)\n",
            " |-- target_code: integer (nullable = true)\n",
            "\n"
          ]
        }
      ],
      "source": [
        "# Spark DataFrame scheme\n",
        "pictures_df.printSchema()"
      ]
    },
    {
      "cell_type": "markdown",
      "metadata": {
        "id": "-rF8OT-7i_DU"
      },
      "source": [
        "# Features extraction <a class=\"anchor\" id=\"chapter6\"></a> \n",
        "\n",
        "1 - Instantiate a base model and load pre-trained weights into it  \n",
        "2 - Run your new dataset through it and record the output of one/several layers from the base model   \n",
        "3 - Use that output as input data for a new, smaller model   \n",
        "advantage: you only run the base model once on your data, rather than once per epoch of training > a lot faster & cheaper  \n",
        "issue: doesn't allow you to dynamically modify the input data of your new model during training, which is required when doing data augmentation  "
      ]
    },
    {
      "cell_type": "markdown",
      "metadata": {
        "id": "4bhKY5ahi_DU"
      },
      "source": [
        "## Instantiate a ResNet50 model with pre-trained weights  <a class=\"anchor\" id=\"sub6_1\"></a> \n",
        "\"Residual Network\" with 50 layers. Convolutional Neural Network"
      ]
    },
    {
      "cell_type": "code",
      "source": [
        "pre_model = ResNet50(\n",
        "    # Weights pre-trained on ImageNet: resnet50_weights_tf_dim_ordering_tf_kernels_notop.h5 \n",
        "    # in cache directory (~/.keras/models)\n",
        "    weights='imagenet',                                 \n",
        "    input_shape=(IMAGE_RESIZE, IMAGE_RESIZE, 3),\n",
        "    # Do not include the ImageNet fully-connected layer at the top of the network\n",
        "    include_top=True,\n",
        "    classes=1000)\n",
        "print(len(pre_model.layers))"
      ],
      "metadata": {
        "colab": {
          "base_uri": "https://localhost:8080/"
        },
        "id": "Tj87iabRYopn",
        "outputId": "2095cda4-b96f-410e-be5d-0f7473b83980"
      },
      "execution_count": 137,
      "outputs": [
        {
          "output_type": "stream",
          "name": "stdout",
          "text": [
            "177\n"
          ]
        }
      ]
    },
    {
      "cell_type": "code",
      "execution_count": null,
      "metadata": {
        "id": "H_m_BmQvi_DV"
      },
      "outputs": [],
      "source": [
        "pre_model.summary()"
      ]
    },
    {
      "cell_type": "code",
      "execution_count": 138,
      "metadata": {
        "id": "Cm-bZnApi_DV",
        "colab": {
          "base_uri": "https://localhost:8080/"
        },
        "outputId": "1315b8b9-399c-44c3-cd61-349053164262"
      },
      "outputs": [
        {
          "output_type": "stream",
          "name": "stdout",
          "text": [
            "175\n"
          ]
        }
      ],
      "source": [
        "pre_model = ResNet50(\n",
        "    # Weights pre-trained on ImageNet: resnet50_weights_tf_dim_ordering_tf_kernels_notop.h5 \n",
        "    # in cache directory (~/.keras/models)\n",
        "    weights='imagenet',                                 \n",
        "    input_shape=(IMAGE_RESIZE, IMAGE_RESIZE, 3),\n",
        "    # Do not include the ImageNet fully-connected layer at the top of the network\n",
        "    include_top=False,\n",
        "    classes=24)\n",
        "print(len(pre_model.layers))"
      ]
    },
    {
      "cell_type": "code",
      "source": [
        "pre_model.summary()"
      ],
      "metadata": {
        "id": "N6oluSgiZWoW"
      },
      "execution_count": null,
      "outputs": []
    },
    {
      "cell_type": "code",
      "source": [
        "pre_model.layers[0], pre_model.layers[1], pre_model.layers[19]"
      ],
      "metadata": {
        "colab": {
          "base_uri": "https://localhost:8080/"
        },
        "id": "b1VJm4_GSBjm",
        "outputId": "4c345f23-4d83-48b9-8466-9e2ae232d504"
      },
      "execution_count": null,
      "outputs": [
        {
          "output_type": "execute_result",
          "data": {
            "text/plain": [
              "(<keras.engine.input_layer.InputLayer at 0x7f721526a890>,\n",
              " <keras.layers.convolutional.ZeroPadding2D at 0x7f721526a710>,\n",
              " <keras.layers.convolutional.Conv2D at 0x7f721525e5d0>)"
            ]
          },
          "metadata": {},
          "execution_count": 69
        }
      ]
    },
    {
      "cell_type": "code",
      "execution_count": 139,
      "metadata": {
        "id": "nnqYXl9Gi_DV"
      },
      "outputs": [],
      "source": [
        "# Broadcast the model weights in the SparkContext\n",
        "bc_model_weights = sc.broadcast(pre_model.get_weights())"
      ]
    },
    {
      "cell_type": "markdown",
      "metadata": {
        "id": "K_M5EdOCi_DV"
      },
      "source": [
        "## Functions  <a class=\"anchor\" id=\"sub6_2\"></a> \n",
        "https://docs.databricks.com/_static/notebooks/deep-learning/deep-learning-transfer-learning-keras.html"
      ]
    },
    {
      "cell_type": "code",
      "execution_count": 140,
      "metadata": {
        "id": "JENsMZpmi_DV"
      },
      "outputs": [],
      "source": [
        "def model_fn():\n",
        "    \"\"\"\n",
        "    Returns a ResNet50 model with top layer removed and broadcasted pretrained weights.\n",
        "    \"\"\"\n",
        "    \n",
        "    model = ResNet50(\n",
        "        weights=None,                                 \n",
        "        input_shape=(IMAGE_RESIZE, IMAGE_RESIZE, 3),\n",
        "        include_top=False,         # Do not include the ImageNet fully-connected layer at the top of the network\n",
        "        classes=24)\n",
        "\n",
        "    # set model weights to previously broadcasted weights\n",
        "    model.set_weights(bc_model_weights.value)\n",
        "    \n",
        "    return model"
      ]
    },
    {
      "cell_type": "markdown",
      "metadata": {
        "id": "TYn2o081i_DW"
      },
      "source": [
        "### Preprocess one image"
      ]
    },
    {
      "cell_type": "code",
      "execution_count": 141,
      "metadata": {
        "id": "ankztbrzi_DW"
      },
      "outputs": [],
      "source": [
        "def preprocess(content):\n",
        "    \"\"\"\n",
        "    Preprocesses raw image bytes for prediction.\n",
        "    \"\"\"\n",
        "    # Redimension of the picture\n",
        "    img = Image.open(io.BytesIO(content)).resize([IMAGE_RESIZE, IMAGE_RESIZE])\n",
        "    \n",
        "    # Converts the PIL Image instance to a Numpy array\n",
        "    arr = img_to_array(img)\n",
        "    \n",
        "    # Preprocesses a tensor or Numpy array encoding a batch of images\n",
        "    return preprocess_input(arr)"
      ]
    },
    {
      "cell_type": "markdown",
      "metadata": {
        "id": "Zh4gGm3Ii_DW"
      },
      "source": [
        "### Featurize a pd.Series of images"
      ]
    },
    {
      "cell_type": "code",
      "execution_count": 142,
      "metadata": {
        "id": "UnL6TBphi_DW"
      },
      "outputs": [],
      "source": [
        "def featurize_series(model, content_series):\n",
        "    \"\"\"\n",
        "    Featurize a pd.Series of raw images using the input model.\n",
        "    :return: a pd.Series of image features\n",
        "    \"\"\"\n",
        "    # Join the sequence of arrays along the first axis. The stacked array has one more dimension than the input arrays\n",
        "    input = np.stack(content_series.map(preprocess))\n",
        "    \n",
        "    # Compute predictions \n",
        "    preds = model.predict(input)\n",
        "\n",
        "    # For some layers, output features will be multi-dimensional tensors.\n",
        "    # We flatten the feature tensors to vectors for easier storage in Spark DataFrames.\n",
        "    output = [p.flatten() for p in preds]\n",
        "    \n",
        "    return pd.Series(output)"
      ]
    },
    {
      "cell_type": "markdown",
      "metadata": {
        "id": "BRAscqv_i_DW"
      },
      "source": [
        "###  Featurize all images\n",
        "PandasUDFType.SCALAR_ITER used to amortize the cost of loading large models on workers  \n",
        "\n",
        "PandasUDF User Defined Function  \n",
        "New Pandas UDFs with Python type hints  "
      ]
    },
    {
      "cell_type": "code",
      "execution_count": 143,
      "metadata": {
        "id": "NA9-0WL-i_DX"
      },
      "outputs": [],
      "source": [
        "@pandas_udf('array<float>')\n",
        "def featurize_udf(content_series_iter: Iterator[pd.Series]) -> Iterator[pd.Series]:\n",
        "    '''\n",
        "    This method is a Scalar Iterator pandas UDF wrapping our featurization function.\n",
        "    The decorator specifies that this returns a Spark DataFrame column of type ArrayType(FloatType).\n",
        "\n",
        "    :param content_series_iter: This argument is an iterator over batches of data, where each batch\n",
        "                              is a pandas Series of image data.\n",
        "    '''\n",
        "    # With Scalar Iterator pandas UDFs, we can load the model once and then re-use it\n",
        "    # for multiple data batches. This amortizes the overhead of loading big models.    \n",
        "    pre_model = model_fn()\n",
        "    \n",
        "    for content_series in content_series_iter:\n",
        "        \n",
        "        # Yield returns a generator to the caller and the execution of the code starts only when the generator is iterated \n",
        "        yield featurize_series(pre_model, content_series)"
      ]
    },
    {
      "cell_type": "markdown",
      "metadata": {
        "id": "FwqPhrCHi_DX"
      },
      "source": [
        "## Features extraction  <a class=\"anchor\" id=\"sub6_3\"></a> "
      ]
    },
    {
      "cell_type": "code",
      "source": [
        "# Pandas UDFs on large records (e.g., very large images) can run into Out Of Memory (OOM) errors.\n",
        "# If you hit such errors in the cell below, try reducing the Arrow batch size via `maxRecordsPerBatch`.\n",
        "spark.conf.set(\"spark.sql.execution.arrow.maxRecordsPerBatch\", \"1024\")"
      ],
      "metadata": {
        "id": "1AKdEv00Wl_U"
      },
      "execution_count": 144,
      "outputs": []
    },
    {
      "cell_type": "code",
      "execution_count": 146,
      "metadata": {
        "colab": {
          "base_uri": "https://localhost:8080/"
        },
        "id": "fYp5FuEGi_DX",
        "outputId": "f3292b3c-7214-49e7-8c83-4097f75284e2"
      },
      "outputs": [
        {
          "output_type": "stream",
          "name": "stdout",
          "text": [
            "Feature extraction done! Time elapsed: 0.07172608375549316 seconds (0 minutes)\n"
          ]
        }
      ],
      "source": [
        "# Save starting time\n",
        "time_start = time.time()\n",
        "\n",
        "# Large model to the full dataset\n",
        "# Dispatches dataframe over 16 partitions\n",
        "features_df = pictures_df.repartition(16).select(col(\"dataset\"), col('target'), col('target_code'), col(\"content\"), featurize_udf(\"content\").alias(\"X_features\"))\n",
        "\n",
        "# Compute time elapse\n",
        "elapse_s = time.time()-time_start\n",
        "elapse_m = int(elapse_s / 60)\n",
        "print('Feature extraction done! Time elapsed: {} seconds ({} minutes)'.format(elapse_s, elapse_m))"
      ]
    },
    {
      "cell_type": "code",
      "source": [
        "features_df.persist()"
      ],
      "metadata": {
        "colab": {
          "base_uri": "https://localhost:8080/",
          "height": 175
        },
        "id": "sGNIddLsmPK_",
        "outputId": "5577d30d-81da-4c7b-d28f-eb2d50d6dde4"
      },
      "execution_count": 147,
      "outputs": [
        {
          "output_type": "execute_result",
          "data": {
            "text/plain": [
              "+--------+--------------------+-----------+--------------------+--------------------+\n",
              "| dataset|              target|target_code|             content|          X_features|\n",
              "+--------+--------------------+-----------+--------------------+--------------------+\n",
              "|    Test|              pear_3|         21|[FF D8 FF E0 00 1...|[0.0, 0.0, 0.0, 0...|\n",
              "|Training|          cucumber_3|         18|[FF D8 FF E0 00 1...|[2.2741177, 0.0, ...|\n",
              "|Training|         apple_red_3|         11|[FF D8 FF E0 00 1...|[0.0, 0.0, 0.0, 0...|\n",
              "|Training|apple_crimson_snow_1|          2|[FF D8 FF E0 00 1...|[0.0, 0.0, 0.0, 0...|\n",
              "|Training|apple_red_delicios_1|         12|[FF D8 FF E0 00 1...|[0.0, 0.0, 0.0, 0...|\n",
              "+--------+--------------------+-----------+--------------------+--------------------+\n",
              "only showing top 5 rows"
            ],
            "text/html": [
              "<table border='1'>\n",
              "<tr><th>dataset</th><th>target</th><th>target_code</th><th>content</th><th>X_features</th></tr>\n",
              "<tr><td>Test</td><td>pear_3</td><td>21</td><td>[FF D8 FF E0 00 1...</td><td>[0.0, 0.0, 0.0, 0...</td></tr>\n",
              "<tr><td>Training</td><td>cucumber_3</td><td>18</td><td>[FF D8 FF E0 00 1...</td><td>[2.2741177, 0.0, ...</td></tr>\n",
              "<tr><td>Training</td><td>apple_red_3</td><td>11</td><td>[FF D8 FF E0 00 1...</td><td>[0.0, 0.0, 0.0, 0...</td></tr>\n",
              "<tr><td>Training</td><td>apple_crimson_snow_1</td><td>2</td><td>[FF D8 FF E0 00 1...</td><td>[0.0, 0.0, 0.0, 0...</td></tr>\n",
              "<tr><td>Training</td><td>apple_red_delicios_1</td><td>12</td><td>[FF D8 FF E0 00 1...</td><td>[0.0, 0.0, 0.0, 0...</td></tr>\n",
              "</table>\n",
              "only showing top 5 rows\n"
            ]
          },
          "metadata": {},
          "execution_count": 147
        }
      ]
    },
    {
      "cell_type": "code",
      "source": [
        "features_df.show()"
      ],
      "metadata": {
        "colab": {
          "base_uri": "https://localhost:8080/"
        },
        "id": "5MDXh21CK5MG",
        "outputId": "6313077c-afe1-4c52-e2e8-864f32b8a260"
      },
      "execution_count": 148,
      "outputs": [
        {
          "output_type": "stream",
          "name": "stdout",
          "text": [
            "+----------+--------------------+-----------+--------------------+--------------------+\n",
            "|   dataset|              target|target_code|             content|          X_features|\n",
            "+----------+--------------------+-----------+--------------------+--------------------+\n",
            "|      Test|              pear_3|         21|[FF D8 FF E0 00 1...|[0.0, 0.0, 0.0, 0...|\n",
            "|  Training|          cucumber_3|         18|[FF D8 FF E0 00 1...|[2.2741177, 0.0, ...|\n",
            "|  Training|         apple_red_3|         11|[FF D8 FF E0 00 1...|[0.0, 0.0, 0.0, 0...|\n",
            "|  Training|apple_crimson_snow_1|          2|[FF D8 FF E0 00 1...|[0.0, 0.0, 0.0, 0...|\n",
            "|  Training|apple_red_delicios_1|         12|[FF D8 FF E0 00 1...|[0.0, 0.0, 0.0, 0...|\n",
            "|  Training|         apple_red_2|         10|[FF D8 FF E0 00 1...|[0.0, 0.0, 0.0, 0...|\n",
            "|Validation|      apple_golden_1|          3|[FF D8 FF E0 00 1...|[0.0, 0.0, 0.0, 0...|\n",
            "|  Training|          zucchini_1|         22|[FF D8 FF E0 00 1...|[0.0, 0.0, 0.0, 0...|\n",
            "|  Training|      apple_golden_2|          4|[FF D8 FF E0 00 1...|[0.0, 0.0, 0.0, 0...|\n",
            "|      Test|      apple_golden_2|          4|[FF D8 FF E0 00 1...|[0.0, 0.0, 0.0, 0...|\n",
            "|Validation|   eggplant_violet_1|         19|[FF D8 FF E0 00 1...|[0.68835497, 0.0,...|\n",
            "|Validation|      apple_golden_1|          3|[FF D8 FF E0 00 1...|[0.0, 0.0, 0.0, 0...|\n",
            "|  Training|          cucumber_3|         18|[FF D8 FF E0 00 1...|[1.9688822, 0.0, ...|\n",
            "|  Training|         apple_red_3|         11|[FF D8 FF E0 00 1...|[0.0, 0.0, 0.0, 0...|\n",
            "|Validation|              pear_1|         20|[FF D8 FF E0 00 1...|[0.0, 0.0, 0.0, 0...|\n",
            "|  Training|          cucumber_3|         18|[FF D8 FF E0 00 1...|[0.0, 0.0, 0.0, 0...|\n",
            "|  Training|              pear_1|         20|[FF D8 FF E0 00 1...|[0.0, 0.0, 0.0, 0...|\n",
            "|Validation|          zucchini_1|         22|[FF D8 FF E0 00 1...|[0.0, 0.0, 0.0, 0...|\n",
            "|  Training|     zucchini_dark_1|         23|[FF D8 FF E0 00 1...|[0.0, 0.0, 0.0, 0...|\n",
            "|  Training|   apple_pink_lady_1|          8|[FF D8 FF E0 00 1...|[0.0, 0.0, 0.0, 0...|\n",
            "+----------+--------------------+-----------+--------------------+--------------------+\n",
            "only showing top 20 rows\n",
            "\n"
          ]
        }
      ]
    },
    {
      "cell_type": "code",
      "source": [
        "picture_cnt = features_df.count()\n",
        "avg_elapse_s = elapse_s / picture_cnt\n",
        "\n",
        "print('Number of pictures: {}'.format(picture_cnt))\n",
        "print('Average time elapsed per picture: {} seconds'.format(avg_elapse_s))"
      ],
      "metadata": {
        "colab": {
          "base_uri": "https://localhost:8080/"
        },
        "id": "iNLw7J-ZlRv1",
        "outputId": "3657246f-d91b-48e7-96ca-36e90513b5af"
      },
      "execution_count": 149,
      "outputs": [
        {
          "output_type": "stream",
          "name": "stdout",
          "text": [
            "Number of pictures: 193\n",
            "Average time elapsed per picture: 0.0003716377396657677 seconds\n"
          ]
        }
      ]
    },
    {
      "cell_type": "code",
      "execution_count": 150,
      "metadata": {
        "scrolled": true,
        "colab": {
          "base_uri": "https://localhost:8080/"
        },
        "id": "5UKe6Niki_DX",
        "outputId": "be14b402-d11b-4449-af10-102272d51b97"
      },
      "outputs": [
        {
          "output_type": "stream",
          "name": "stderr",
          "text": [
            "IOPub data rate exceeded.\n",
            "The notebook server will temporarily stop sending output\n",
            "to the client in order to avoid crashing it.\n",
            "To change this limit, set the config variable\n",
            "`--NotebookApp.iopub_data_rate_limit`.\n",
            "\n",
            "Current values:\n",
            "NotebookApp.iopub_data_rate_limit=1000000.0 (bytes/sec)\n",
            "NotebookApp.rate_limit_window=3.0 (secs)\n",
            "\n"
          ]
        }
      ],
      "source": [
        "features_df.show(1, False, True)"
      ]
    },
    {
      "cell_type": "code",
      "source": [
        "# write spark dataframe to a Parquet file\n",
        "features_df.write.mode(\"overwrite\").parquet(\"features_data_parquet\")"
      ],
      "metadata": {
        "id": "aDyf5ibapQrC"
      },
      "execution_count": 151,
      "outputs": []
    },
    {
      "cell_type": "markdown",
      "metadata": {
        "id": "bgnwTt6ri_DX"
      },
      "source": [
        "# Train a new model using pre-computed features <a class=\"anchor\" id=\"chapter7\"></a> \n",
        "\n",
        "Layers trainable attributes:\n",
        "- weights : list of all weights variables of the layer  \n",
        "- trainable_weights : list of those that are meant to be updated (via gradient descent) to minimize the loss during training  \n",
        "- non_trainable_weights : list of those that aren't meant to be trained (updated by the model during the forward pass)  \n",
        "- trainable : false moves all the layer's weights from trainable to non-trainable (\"freezing\" the layer)  \n",
        "The only built-in layer that has non-trainable weights is the BatchNormalization layer  \n",
        "\n",
        "1 - Instantiate a base model and load pre-trained weights into it  \n",
        "2 - Freeze all layers in the base model by setting trainable = False  \n",
        "3 - Create a new model on top of the output of one/several layers from the base model  \n",
        "4 - Train your new model on your new dataset  (top layers to learn to turn the old features into predictions on a new dataset)   \n",
        "\n",
        "Fine-tuning (optionnal): \n",
        "unfreeze the entire/partial model you obtained and re-training it on the new data with a very low learning rate  "
      ]
    },
    {
      "cell_type": "markdown",
      "metadata": {
        "id": "Pj3oDzFXi_DY"
      },
      "source": [
        "## Prepare my new model <a class=\"anchor\" id=\"sub7_1\"></a> "
      ]
    },
    {
      "cell_type": "code",
      "source": [
        "def add_layers_2_model(pretrained_model):\n",
        "    \"\"\"\n",
        "\n",
        "    \"\"\"    \n",
        "    # Freeze all layers in the base model by setting trainable = False\n",
        "    pretrained_model.trainable = False\n",
        "\n",
        "    # Create a new model on top of the output of one layer from the model ------------------------------------------- \n",
        "    new_model = Sequential()\n",
        "\n",
        "    new_model.add(pretrained_model)\n",
        "\n",
        "    new_model.add(Flatten())\n",
        "    new_model.add(Dense(512, activation='relu'))\n",
        "    new_model.add(Dense(24, activation='softmax'))\n",
        "\n",
        "    '''# Instantiates a Keras tensor\n",
        "    inputs = keras.Input(shape=(IMAGE_RESIZE, IMAGE_RESIZE, 3))\n",
        "\n",
        "    # Makes pretrained_model run in inference mode by passing training to False (necessary for fine-tuning)\n",
        "    x = model(inputs, training=False)\n",
        "\n",
        "    # Convert features of shape 'base_model.output_shape[1:]' to vectors\n",
        "    # inputs a 4D tensor with shape (batch_size, rows, cols, channels)\n",
        "    # returns a 2D tensor with shape (batch_size, channels)\n",
        "    x = keras.layers.GlobalAveragePooling2D()(x)\n",
        "\n",
        "    # A Dense classifier with 24 units et activation 'relu'\n",
        "    outputs = keras.layers.Dense(24, activation='relu')(x)\n",
        "\n",
        "    model = keras.Model(inputs, outputs)'''\n",
        "\n",
        "    # Compile\n",
        "    sgd = optimizers.SGD(learning_rate = 0.01, decay = 1e-6, momentum = 0.9, nesterov = True)\n",
        "    OBJECTIVE_FUNCTION = 'categorical_crossentropy'\n",
        "    LOSS_METRICS = ['accuracy']\n",
        "    new_model.compile(optimizer=sgd, loss=OBJECTIVE_FUNCTION, metrics=LOSS_METRICS)\n",
        "    \n",
        "    return new_model\n",
        "\n",
        "new_model = add_layers_2_model(pre_model)    "
      ],
      "metadata": {
        "id": "gh9d2-D3Cw3G"
      },
      "execution_count": 152,
      "outputs": []
    },
    {
      "cell_type": "code",
      "source": [
        "new_model.summary()"
      ],
      "metadata": {
        "colab": {
          "base_uri": "https://localhost:8080/"
        },
        "id": "ZUhtnFpchOks",
        "outputId": "4a1d0e07-2964-425e-94e4-534cad686170"
      },
      "execution_count": 153,
      "outputs": [
        {
          "output_type": "stream",
          "name": "stdout",
          "text": [
            "Model: \"sequential_1\"\n",
            "_________________________________________________________________\n",
            " Layer (type)                Output Shape              Param #   \n",
            "=================================================================\n",
            " resnet50 (Functional)       (None, 7, 7, 2048)        23587712  \n",
            "                                                                 \n",
            " flatten_1 (Flatten)         (None, 100352)            0         \n",
            "                                                                 \n",
            " dense_2 (Dense)             (None, 512)               51380736  \n",
            "                                                                 \n",
            " dense_3 (Dense)             (None, 24)                12312     \n",
            "                                                                 \n",
            "=================================================================\n",
            "Total params: 74,980,760\n",
            "Trainable params: 51,393,048\n",
            "Non-trainable params: 23,587,712\n",
            "_________________________________________________________________\n"
          ]
        }
      ]
    },
    {
      "cell_type": "markdown",
      "metadata": {
        "id": "lxp6uOmMi_DZ"
      },
      "source": [
        "Spark workers need to access the model and its weights.  \n",
        "For moderately sized models (< 1GB in size), a good practice is to download the model to the Spark driver and \n",
        "then broadcast the weights to the workers.  \n",
        "For large models (> 1GB), it is best to load the model weights from distributed storage to workers directly.  "
      ]
    },
    {
      "cell_type": "markdown",
      "metadata": {
        "id": "w8ItnWVGi_DZ"
      },
      "source": [
        "## Train my new model on Training dataset <a class=\"anchor\" id=\"sub7_3\"></a> "
      ]
    },
    {
      "cell_type": "code",
      "source": [
        "from pyspark.sql.functions import udf\n",
        "\n",
        "def preprocess(content):\n",
        "    # Redimension of the picture\n",
        "    img = Image.open(io.BytesIO(content)).resize([IMAGE_RESIZE, IMAGE_RESIZE])\n",
        "    \n",
        "    # Converts the PIL Image instance to a Numpy array\n",
        "    arr = img_to_array(img)\n",
        "    \n",
        "    # Preprocesses a tensor or Numpy array encoding a batch of images\n",
        "    arr_temp = preprocess_input(arr)\n",
        "    \n",
        "    # Return a copy of the array data as a (nested) Python list. Data items are converted to the nearest compatible builtin Python type, via the item function.\n",
        "    # Convert to a list whose values are Python primitives instead of numpy objects numpy.float32 (mismatched data types between Python and Spark)\n",
        "    return arr_temp.astype(np.float).tolist()\n",
        "    #return tf.convert_to_tensor(arr_temp, dtype=tf.float32)\n",
        "    return tf.convert_to_tensor(arr_temp.astype(np.float).tolist())\n",
        "\n",
        "preprocess_udf = udf(lambda content_series: preprocess(content_series), ArrayType(FloatType()))\n",
        "\n",
        "preprocess_df = features_df.select('dataset', 'target', 'target_code', preprocess_udf('content').alias(\"model_input\"))\n",
        "\n",
        "preprocess_df.show()"
      ],
      "metadata": {
        "colab": {
          "base_uri": "https://localhost:8080/"
        },
        "id": "8b2UJTDMgeH1",
        "outputId": "7c0c0320-e141-42d6-aee9-85a0c5fd433f"
      },
      "execution_count": null,
      "outputs": [
        {
          "output_type": "stream",
          "name": "stdout",
          "text": [
            "+----------+--------------------+-----------+--------------------+\n",
            "|   dataset|              target|target_code|         model_input|\n",
            "+----------+--------------------+-----------+--------------------+\n",
            "|  Training|          cucumber_3|       18.0|[null, null, null...|\n",
            "|  Training|              pear_3|       21.0|[null, null, null...|\n",
            "|      Test|apple_crimson_snow_1|        2.0|[null, null, null...|\n",
            "|  Training|apple_red_delicios_1|       12.0|[null, null, null...|\n",
            "|Validation|          zucchini_1|       22.0|[null, null, null...|\n",
            "|Validation|apple_red_delicios_1|       12.0|[null, null, null...|\n",
            "|  Training|apple_granny_smith_1|        6.0|[null, null, null...|\n",
            "|Validation|         apple_red_2|       10.0|[null, null, null...|\n",
            "|Validation|  apple_red_yellow_1|       13.0|[null, null, null...|\n",
            "|  Training|      apple_golden_3|        5.0|[null, null, null...|\n",
            "|  Training|  apple_red_yellow_1|       13.0|[null, null, null...|\n",
            "|  Training|             apple_6|        0.0|[null, null, null...|\n",
            "|      Test|     cabbage_white_1|       15.0|[null, null, null...|\n",
            "|  Training|         apple_hit_1|        7.0|[null, null, null...|\n",
            "|Validation|              pear_1|       20.0|[null, null, null...|\n",
            "|      Test|          zucchini_1|       22.0|[null, null, null...|\n",
            "|  Training|          zucchini_1|       22.0|[null, null, null...|\n",
            "|      Test|         apple_red_1|        9.0|[null, null, null...|\n",
            "|  Training|apple_granny_smith_1|        6.0|[null, null, null...|\n",
            "|      Test|    apple_braeburn_1|        1.0|[null, null, null...|\n",
            "+----------+--------------------+-----------+--------------------+\n",
            "only showing top 20 rows\n",
            "\n"
          ]
        }
      ]
    },
    {
      "cell_type": "code",
      "source": [
        "preprocess_df.show(1, False, True)"
      ],
      "metadata": {
        "colab": {
          "base_uri": "https://localhost:8080/"
        },
        "id": "vJBDfFqslRJ_",
        "outputId": "a9d718e5-5136-4d9a-939b-c7d576cf5287"
      },
      "execution_count": null,
      "outputs": [
        {
          "output_type": "stream",
          "name": "stdout",
          "text": [
            "-RECORD 0-------------------------------------------------------------------------------------------------------------------------------------------------------------------------------------------------------------------------------------------------------------------------------------------------------------------------------------------------------------------------------------------------------------------------------------------------------------------------------------------------------------------------------------------------------------------------------------------------------------------------------------------------------------------------------------------------------------------------------------------------------------------------------------------------------------------------------------------------------------------------------------------------------------------------------------------------------------------------------------------------------------------------------------------------------------------------------------------------------------------------------------------------------------------------------------------------------------------------------------------------------------------------------------------------------------------------------------------------------------------------------------------------------\n",
            " dataset     | Training                                                                                                                                                                                                                                                                                                                                                                                                                                                                                                                                                                                                                                                                                                                                                                                                                                                                                                                                                                                                                                                                                                                                                                                                                                                                                                                                                                                         \n",
            " target      | cucumber_3                                                                                                                                                                                                                                                                                                                                                                                                                                                                                                                                                                                                                                                                                                                                                                                                                                                                                                                                                                                                                                                                                                                                                                                                                                                                                                                                                                                       \n",
            " target_code | 18.0                                                                                                                                                                                                                                                                                                                                                                                                                                                                                                                                                                                                                                                                                                                                                                                                                                                                                                                                                                                                                                                                                                                                                                                                                                                                                                                                                                                             \n",
            " model_input | [null, null, null, null, null, null, null, null, null, null, null, null, null, null, null, null, null, null, null, null, null, null, null, null, null, null, null, null, null, null, null, null, null, null, null, null, null, null, null, null, null, null, null, null, null, null, null, null, null, null, null, null, null, null, null, null, null, null, null, null, null, null, null, null, null, null, null, null, null, null, null, null, null, null, null, null, null, null, null, null, null, null, null, null, null, null, null, null, null, null, null, null, null, null, null, null, null, null, null, null, null, null, null, null, null, null, null, null, null, null, null, null, null, null, null, null, null, null, null, null, null, null, null, null, null, null, null, null, null, null, null, null, null, null, null, null, null, null, null, null, null, null, null, null, null, null, null, null, null, null, null, null, null, null, null, null, null, null, null, null, null, null, null, null, null, null, null, null, null, null, null, null, null, null, null, null, null, null, null, null, null, null, null, null, null, null, null, null, null, null, null, null, null, null, null, null, null, null, null, null, null, null, null, null, null, null, null, null, null, null, null, null, null, null, null, null, null, null, null, null, null, null, null, null] \n",
            "only showing top 1 row\n",
            "\n"
          ]
        }
      ]
    },
    {
      "cell_type": "code",
      "source": [
        "'''def preprocess(content):\n",
        "    \"\"\"\n",
        "    Preprocesses raw image bytes for prediction.\n",
        "    \"\"\"\n",
        "    # Redimension of the picture\n",
        "    img = Image.open(io.BytesIO(content)).resize([IMAGE_RESIZE, IMAGE_RESIZE])\n",
        "    \n",
        "    # Converts the PIL Image instance to a Numpy array\n",
        "    arr = img_to_array(img)\n",
        "    \n",
        "    # Preprocesses a tensor or Numpy array encoding a batch of images\n",
        "    return preprocess_input(arr)\n",
        "\n",
        "def preprocess_series(content_series):\n",
        "    \"\"\"\n",
        "    PreProcess a pd.Series of raw images using the input model.\n",
        "    :return: a pd.Series of image features\n",
        "    \"\"\"\n",
        "    # Join the sequence of arrays along the first axis. The stacked array has one more dimension than the input arrays       \n",
        "    return pd.Series(np.stack(content_series.map(preprocess)))\n",
        "\n",
        "def preprocess_udf(content_series_iter):\n",
        "    for content_series in content_series_iter:        \n",
        "        # Yield returns a generator to the caller and the execution of the code starts only when the generator is iterated \n",
        "        yield preprocess_series(content_series)\n",
        "        \n",
        "preprocess_df = features_df.repartition(16).select(col(\"dataset\"), col('target_code'), preprocess_udf(\"content\"))\n",
        "\n",
        "# TypeError: Invalid argument, not a string or column: <generator object preprocess_udf at 0x7f23dbee6d50> of type \n",
        "#<class 'generator'>. For column literals, use 'lit', 'array', 'struct' or 'create_map' function.        \n",
        "'''"
      ],
      "metadata": {
        "id": "ZdfTRhS9Lcwg"
      },
      "execution_count": null,
      "outputs": []
    },
    {
      "cell_type": "code",
      "source": [
        "train_df = preprocess_df[preprocess_df['dataset'] == 'Training']\n",
        "test_df = preprocess_df[preprocess_df['dataset'] == 'Test']\n",
        "validation_df = preprocess_df[preprocess_df['dataset'] == 'Validation']\n",
        "test_df.show()"
      ],
      "metadata": {
        "colab": {
          "base_uri": "https://localhost:8080/"
        },
        "id": "OuEKthLtcOj2",
        "outputId": "15a1a249-eb7e-4949-a304-9bf667e52ca4"
      },
      "execution_count": null,
      "outputs": [
        {
          "output_type": "stream",
          "name": "stdout",
          "text": [
            "+-------+--------------------+-----------+--------------------+\n",
            "|dataset|              target|target_code|         model_input|\n",
            "+-------+--------------------+-----------+--------------------+\n",
            "|   Test|apple_crimson_snow_1|        2.0|[null, null, null...|\n",
            "|   Test|     cabbage_white_1|       15.0|[null, null, null...|\n",
            "|   Test|          zucchini_1|       22.0|[null, null, null...|\n",
            "|   Test|         apple_red_1|        9.0|[null, null, null...|\n",
            "|   Test|    apple_braeburn_1|        1.0|[null, null, null...|\n",
            "|   Test|apple_red_delicios_1|       12.0|[null, null, null...|\n",
            "|   Test|              pear_1|       20.0|[null, null, null...|\n",
            "|   Test|            carrot_1|       16.0|[null, null, null...|\n",
            "|   Test|             apple_6|        0.0|[null, null, null...|\n",
            "|   Test|         apple_hit_1|        7.0|[null, null, null...|\n",
            "|   Test|              pear_3|       21.0|[null, null, null...|\n",
            "|   Test|apple_crimson_snow_1|        2.0|[null, null, null...|\n",
            "|   Test|          cucumber_1|       17.0|[null, null, null...|\n",
            "|   Test|  apple_red_yellow_1|       13.0|[null, null, null...|\n",
            "|   Test|          zucchini_1|       22.0|[null, null, null...|\n",
            "|   Test|      apple_golden_3|        5.0|[null, null, null...|\n",
            "|   Test|              pear_3|       21.0|[null, null, null...|\n",
            "|   Test|         apple_red_1|        9.0|[null, null, null...|\n",
            "|   Test|         apple_red_2|       10.0|[null, null, null...|\n",
            "|   Test|      apple_golden_3|        5.0|[null, null, null...|\n",
            "+-------+--------------------+-----------+--------------------+\n",
            "only showing top 20 rows\n",
            "\n"
          ]
        }
      ]
    },
    {
      "cell_type": "code",
      "source": [
        "X_train = np.stack(train_df.repartition(16).select(col(\"model_input\")))\n",
        "y_train = train_df.repartition(16).select(col(\"target_code\"))\n",
        "\n",
        "print(type(X_train))\n",
        "print(type(y_train))\n",
        "\n",
        "#cb_early_stopper = EarlyStopping(monitor = 'loss', patience = EARLY_STOP_PATIENCE)\n",
        "#cb_checkpointer = ModelCheckpoint(filepath = 'best.hdf5', monitor = 'loss', save_best_only = True, mode = 'auto')\n",
        "\n",
        "preds = new_model.fit(x=X_train, y=y_train, epochs=NUM_EPOCHS) #, callbacks=[cb_checkpointer, cb_early_stopper])"
      ],
      "metadata": {
        "id": "4_ndIjNL1fj8",
        "colab": {
          "base_uri": "https://localhost:8080/",
          "height": 429
        },
        "outputId": "0a1d7357-e298-45a5-ba13-c360bfd6f9e0"
      },
      "execution_count": null,
      "outputs": [
        {
          "output_type": "stream",
          "name": "stdout",
          "text": [
            "<class 'numpy.ndarray'>\n",
            "<class 'pyspark.sql.dataframe.DataFrame'>\n"
          ]
        },
        {
          "output_type": "error",
          "ename": "ValueError",
          "evalue": "ignored",
          "traceback": [
            "\u001b[0;31m---------------------------------------------------------------------------\u001b[0m",
            "\u001b[0;31mValueError\u001b[0m                                Traceback (most recent call last)",
            "\u001b[0;32m<ipython-input-94-a1a60b4af973>\u001b[0m in \u001b[0;36m<module>\u001b[0;34m()\u001b[0m\n\u001b[1;32m      8\u001b[0m \u001b[0;31m#cb_checkpointer = ModelCheckpoint(filepath = 'best.hdf5', monitor = 'loss', save_best_only = True, mode = 'auto')\u001b[0m\u001b[0;34m\u001b[0m\u001b[0;34m\u001b[0m\u001b[0;34m\u001b[0m\u001b[0m\n\u001b[1;32m      9\u001b[0m \u001b[0;34m\u001b[0m\u001b[0m\n\u001b[0;32m---> 10\u001b[0;31m \u001b[0mpreds\u001b[0m \u001b[0;34m=\u001b[0m \u001b[0mnew_model\u001b[0m\u001b[0;34m.\u001b[0m\u001b[0mfit\u001b[0m\u001b[0;34m(\u001b[0m\u001b[0mx\u001b[0m\u001b[0;34m=\u001b[0m\u001b[0mX_train\u001b[0m\u001b[0;34m,\u001b[0m \u001b[0my\u001b[0m\u001b[0;34m=\u001b[0m\u001b[0my_train\u001b[0m\u001b[0;34m,\u001b[0m \u001b[0mepochs\u001b[0m\u001b[0;34m=\u001b[0m\u001b[0mNUM_EPOCHS\u001b[0m\u001b[0;34m)\u001b[0m \u001b[0;31m#, callbacks=[cb_checkpointer, cb_early_stopper])\u001b[0m\u001b[0;34m\u001b[0m\u001b[0;34m\u001b[0m\u001b[0m\n\u001b[0m\u001b[1;32m     11\u001b[0m \u001b[0;34m\u001b[0m\u001b[0m\n\u001b[1;32m     12\u001b[0m \u001b[0mprint\u001b[0m\u001b[0;34m(\u001b[0m\u001b[0mtype\u001b[0m\u001b[0;34m(\u001b[0m\u001b[0mpreds\u001b[0m\u001b[0;34m)\u001b[0m\u001b[0;34m)\u001b[0m\u001b[0;34m\u001b[0m\u001b[0;34m\u001b[0m\u001b[0m\n",
            "\u001b[0;32m/usr/local/lib/python3.7/dist-packages/keras/utils/traceback_utils.py\u001b[0m in \u001b[0;36merror_handler\u001b[0;34m(*args, **kwargs)\u001b[0m\n\u001b[1;32m     65\u001b[0m     \u001b[0;32mexcept\u001b[0m \u001b[0mException\u001b[0m \u001b[0;32mas\u001b[0m \u001b[0me\u001b[0m\u001b[0;34m:\u001b[0m  \u001b[0;31m# pylint: disable=broad-except\u001b[0m\u001b[0;34m\u001b[0m\u001b[0;34m\u001b[0m\u001b[0m\n\u001b[1;32m     66\u001b[0m       \u001b[0mfiltered_tb\u001b[0m \u001b[0;34m=\u001b[0m \u001b[0m_process_traceback_frames\u001b[0m\u001b[0;34m(\u001b[0m\u001b[0me\u001b[0m\u001b[0;34m.\u001b[0m\u001b[0m__traceback__\u001b[0m\u001b[0;34m)\u001b[0m\u001b[0;34m\u001b[0m\u001b[0;34m\u001b[0m\u001b[0m\n\u001b[0;32m---> 67\u001b[0;31m       \u001b[0;32mraise\u001b[0m \u001b[0me\u001b[0m\u001b[0;34m.\u001b[0m\u001b[0mwith_traceback\u001b[0m\u001b[0;34m(\u001b[0m\u001b[0mfiltered_tb\u001b[0m\u001b[0;34m)\u001b[0m \u001b[0;32mfrom\u001b[0m \u001b[0;32mNone\u001b[0m\u001b[0;34m\u001b[0m\u001b[0;34m\u001b[0m\u001b[0m\n\u001b[0m\u001b[1;32m     68\u001b[0m     \u001b[0;32mfinally\u001b[0m\u001b[0;34m:\u001b[0m\u001b[0;34m\u001b[0m\u001b[0;34m\u001b[0m\u001b[0m\n\u001b[1;32m     69\u001b[0m       \u001b[0;32mdel\u001b[0m \u001b[0mfiltered_tb\u001b[0m\u001b[0;34m\u001b[0m\u001b[0;34m\u001b[0m\u001b[0m\n",
            "\u001b[0;32m/usr/local/lib/python3.7/dist-packages/keras/engine/data_adapter.py\u001b[0m in \u001b[0;36mselect_data_adapter\u001b[0;34m(x, y)\u001b[0m\n\u001b[1;32m    985\u001b[0m         \u001b[0;34m\"Failed to find data adapter that can handle \"\u001b[0m\u001b[0;34m\u001b[0m\u001b[0;34m\u001b[0m\u001b[0m\n\u001b[1;32m    986\u001b[0m         \"input: {}, {}\".format(\n\u001b[0;32m--> 987\u001b[0;31m             _type_name(x), _type_name(y)))\n\u001b[0m\u001b[1;32m    988\u001b[0m   \u001b[0;32melif\u001b[0m \u001b[0mlen\u001b[0m\u001b[0;34m(\u001b[0m\u001b[0madapter_cls\u001b[0m\u001b[0;34m)\u001b[0m \u001b[0;34m>\u001b[0m \u001b[0;36m1\u001b[0m\u001b[0;34m:\u001b[0m\u001b[0;34m\u001b[0m\u001b[0;34m\u001b[0m\u001b[0m\n\u001b[1;32m    989\u001b[0m     raise RuntimeError(\n",
            "\u001b[0;31mValueError\u001b[0m: Failed to find data adapter that can handle input: <class 'numpy.ndarray'>, <class 'pyspark.sql.dataframe.DataFrame'>"
          ]
        }
      ]
    },
    {
      "cell_type": "markdown",
      "source": [
        "## Predict fruit class with my new model on Test dataset <a class=\"anchor\" id=\"sub7_4\"></a> "
      ],
      "metadata": {
        "id": "4JfCixevYzl_"
      }
    },
    {
      "cell_type": "code",
      "source": [
        "X_test = np.stack(test_df.repartition(16).select(col(\"model_input\")))\n",
        "y_test = test_df.repartition(16).select(col(\"target_code\"))\n",
        "    \n",
        "y_pred = new_model.predict(X_test)\n",
        "\n",
        "#Schema: Dataset|target|target_code|model_input|target_code_pred"
      ],
      "metadata": {
        "id": "5-l23wzvOdFp",
        "colab": {
          "base_uri": "https://localhost:8080/",
          "height": 483
        },
        "outputId": "1cd01dee-fa8d-469a-cbca-f8a4c3f1ca7c"
      },
      "execution_count": null,
      "outputs": [
        {
          "output_type": "error",
          "ename": "ValueError",
          "evalue": "ignored",
          "traceback": [
            "\u001b[0;31m---------------------------------------------------------------------------\u001b[0m",
            "\u001b[0;31mValueError\u001b[0m                                Traceback (most recent call last)",
            "\u001b[0;32m<ipython-input-95-3fd9e893df2f>\u001b[0m in \u001b[0;36m<module>\u001b[0;34m()\u001b[0m\n\u001b[1;32m      2\u001b[0m \u001b[0my_test\u001b[0m \u001b[0;34m=\u001b[0m \u001b[0mtest_df\u001b[0m\u001b[0;34m.\u001b[0m\u001b[0mrepartition\u001b[0m\u001b[0;34m(\u001b[0m\u001b[0;36m16\u001b[0m\u001b[0;34m)\u001b[0m\u001b[0;34m.\u001b[0m\u001b[0mselect\u001b[0m\u001b[0;34m(\u001b[0m\u001b[0mcol\u001b[0m\u001b[0;34m(\u001b[0m\u001b[0;34m\"target_code\"\u001b[0m\u001b[0;34m)\u001b[0m\u001b[0;34m)\u001b[0m\u001b[0;34m\u001b[0m\u001b[0;34m\u001b[0m\u001b[0m\n\u001b[1;32m      3\u001b[0m \u001b[0;34m\u001b[0m\u001b[0m\n\u001b[0;32m----> 4\u001b[0;31m \u001b[0my_pred\u001b[0m \u001b[0;34m=\u001b[0m \u001b[0mnew_model\u001b[0m\u001b[0;34m.\u001b[0m\u001b[0mpredict\u001b[0m\u001b[0;34m(\u001b[0m\u001b[0mX_test\u001b[0m\u001b[0;34m)\u001b[0m\u001b[0;34m\u001b[0m\u001b[0;34m\u001b[0m\u001b[0m\n\u001b[0m",
            "\u001b[0;32m/usr/local/lib/python3.7/dist-packages/keras/utils/traceback_utils.py\u001b[0m in \u001b[0;36merror_handler\u001b[0;34m(*args, **kwargs)\u001b[0m\n\u001b[1;32m     65\u001b[0m     \u001b[0;32mexcept\u001b[0m \u001b[0mException\u001b[0m \u001b[0;32mas\u001b[0m \u001b[0me\u001b[0m\u001b[0;34m:\u001b[0m  \u001b[0;31m# pylint: disable=broad-except\u001b[0m\u001b[0;34m\u001b[0m\u001b[0;34m\u001b[0m\u001b[0m\n\u001b[1;32m     66\u001b[0m       \u001b[0mfiltered_tb\u001b[0m \u001b[0;34m=\u001b[0m \u001b[0m_process_traceback_frames\u001b[0m\u001b[0;34m(\u001b[0m\u001b[0me\u001b[0m\u001b[0;34m.\u001b[0m\u001b[0m__traceback__\u001b[0m\u001b[0;34m)\u001b[0m\u001b[0;34m\u001b[0m\u001b[0;34m\u001b[0m\u001b[0m\n\u001b[0;32m---> 67\u001b[0;31m       \u001b[0;32mraise\u001b[0m \u001b[0me\u001b[0m\u001b[0;34m.\u001b[0m\u001b[0mwith_traceback\u001b[0m\u001b[0;34m(\u001b[0m\u001b[0mfiltered_tb\u001b[0m\u001b[0;34m)\u001b[0m \u001b[0;32mfrom\u001b[0m \u001b[0;32mNone\u001b[0m\u001b[0;34m\u001b[0m\u001b[0;34m\u001b[0m\u001b[0m\n\u001b[0m\u001b[1;32m     68\u001b[0m     \u001b[0;32mfinally\u001b[0m\u001b[0;34m:\u001b[0m\u001b[0;34m\u001b[0m\u001b[0;34m\u001b[0m\u001b[0m\n\u001b[1;32m     69\u001b[0m       \u001b[0;32mdel\u001b[0m \u001b[0mfiltered_tb\u001b[0m\u001b[0;34m\u001b[0m\u001b[0;34m\u001b[0m\u001b[0m\n",
            "\u001b[0;32m/usr/local/lib/python3.7/dist-packages/tensorflow/python/framework/constant_op.py\u001b[0m in \u001b[0;36mconvert_to_eager_tensor\u001b[0;34m(value, ctx, dtype)\u001b[0m\n\u001b[1;32m    100\u001b[0m       \u001b[0mdtype\u001b[0m \u001b[0;34m=\u001b[0m \u001b[0mdtypes\u001b[0m\u001b[0;34m.\u001b[0m\u001b[0mas_dtype\u001b[0m\u001b[0;34m(\u001b[0m\u001b[0mdtype\u001b[0m\u001b[0;34m)\u001b[0m\u001b[0;34m.\u001b[0m\u001b[0mas_datatype_enum\u001b[0m\u001b[0;34m\u001b[0m\u001b[0;34m\u001b[0m\u001b[0m\n\u001b[1;32m    101\u001b[0m   \u001b[0mctx\u001b[0m\u001b[0;34m.\u001b[0m\u001b[0mensure_initialized\u001b[0m\u001b[0;34m(\u001b[0m\u001b[0;34m)\u001b[0m\u001b[0;34m\u001b[0m\u001b[0;34m\u001b[0m\u001b[0m\n\u001b[0;32m--> 102\u001b[0;31m   \u001b[0;32mreturn\u001b[0m \u001b[0mops\u001b[0m\u001b[0;34m.\u001b[0m\u001b[0mEagerTensor\u001b[0m\u001b[0;34m(\u001b[0m\u001b[0mvalue\u001b[0m\u001b[0;34m,\u001b[0m \u001b[0mctx\u001b[0m\u001b[0;34m.\u001b[0m\u001b[0mdevice_name\u001b[0m\u001b[0;34m,\u001b[0m \u001b[0mdtype\u001b[0m\u001b[0;34m)\u001b[0m\u001b[0;34m\u001b[0m\u001b[0;34m\u001b[0m\u001b[0m\n\u001b[0m\u001b[1;32m    103\u001b[0m \u001b[0;34m\u001b[0m\u001b[0m\n\u001b[1;32m    104\u001b[0m \u001b[0;34m\u001b[0m\u001b[0m\n",
            "\u001b[0;31mValueError\u001b[0m: Failed to convert a NumPy array to a Tensor (Unsupported object type Column)."
          ]
        }
      ]
    },
    {
      "cell_type": "markdown",
      "source": [
        "# Visualise classification results <a class=\"anchor\" id=\"chapter8\"></a> "
      ],
      "metadata": {
        "id": "tTuKoD9CY7Od"
      }
    },
    {
      "cell_type": "markdown",
      "source": [
        "## Reduce dimension with PCA <a class=\"anchor\" id=\"sub8_1\"></a>"
      ],
      "metadata": {
        "id": "DE_PpDbruwA-"
      }
    },
    {
      "cell_type": "code",
      "source": [
        "from pyspark.ml.feature import PCA\n",
        "from pyspark.ml.feature import StandardScaler\n",
        "from pyspark.ml.linalg import Vectors, VectorUDT, DenseVector"
      ],
      "metadata": {
        "id": "7gOcTYYYxTAt"
      },
      "execution_count": null,
      "outputs": []
    },
    {
      "cell_type": "code",
      "source": [
        "def pca_transformation(df, n_components=10):\n",
        "    \n",
        "    \"\"\"\n",
        "    Applique un algorithme de PCA sur l'ensemble des images pour réduire la dimension de chaque image \n",
        "    du jeu de données.\n",
        "    \n",
        "    Paramètres:\n",
        "    df(pyspark dataFrame): contient une colonne avec les données images\n",
        "    n_components(int): nombre de dimensions à conserver\n",
        "    \"\"\"\n",
        "    # Initilisation du temps de calcul\n",
        "    start_time = time.time()\n",
        "\n",
        "    # Les données images sont converties au format vecteur dense\n",
        "    to_vector_udf = udf(lambda r: Vectors.dense(r), VectorUDT())\n",
        "    df = df.withColumn('X_vectors', to_vector_udf('X_features'))\n",
        "\n",
        "    # Entrainement de l'algorithme\n",
        "    pca = PCA(k=n_components, inputCol='X_vectors', outputCol='X_vectors_pca')\n",
        "    model_pca = pca.fit(df)\n",
        "\n",
        "    # Transformation des images sur les k premières composantes\n",
        "    df = model_pca.transform(df)\n",
        "    \n",
        "    # Affiche le temps de calcul\n",
        "    print(\"Temps d'execution {:.2f} secondes\".format(time.time() - start_time))\n",
        "\n",
        "    return df"
      ],
      "metadata": {
        "id": "gHOPceArxXxT"
      },
      "execution_count": null,
      "outputs": []
    },
    {
      "cell_type": "code",
      "source": [
        "final_df = pca_transformation(test_df, n_components=10)\n",
        "\n",
        "# write spark dataframe to a Parquet file\n",
        "final_df.write.mode('overwrite').parquet(\"results_data_parquet\")"
      ],
      "metadata": {
        "id": "AjbF-oS5vY_L"
      },
      "execution_count": null,
      "outputs": []
    },
    {
      "cell_type": "markdown",
      "source": [
        "## Draw predictions in the first main plan <a class=\"anchor\" id=\"sub8_2\"></a>"
      ],
      "metadata": {
        "id": "zOSGIDxyvGrs"
      }
    },
    {
      "cell_type": "code",
      "source": [
        "X_pca = final_df.select(\"X_vectors_pca\")\n",
        "\n",
        "fig = plt.figure(figsize=(10, 8))\n",
        "\n",
        "plt.scatter(X_pca[:, 0], X_pca[:, 1], s=10, c=final_df.select(\"target_code_pred\")+1) \n",
        "plt.colorbar()\n",
        "\n",
        "plt.plot([X_pca[:, 0].min(), X_pca[:, 0].max()], [0, 0], color='grey', ls='-') \n",
        "plt.plot([0, 0], [X_pca[:, 1].min(), X_pca[:, 1].max()], color='grey', ls='-') \n",
        "\n",
        "plt.title(\"Projection of predictions on the first main plan\")\n",
        "plt.xlabel(\"PC1\")\n",
        "plt.ylabel(\"PC2\")   \n",
        "   \n",
        "plt.show()"
      ],
      "metadata": {
        "id": "04i1fs_uylSU"
      },
      "execution_count": null,
      "outputs": []
    },
    {
      "cell_type": "markdown",
      "metadata": {
        "_uuid": "a7e9a1149953069853d4d83ec46f22084dce8711",
        "collapsed": true,
        "id": "nyxppMvPi_Da"
      },
      "source": [
        "* [Go to Table des matières](#chapter0)\n",
        "\n",
        "# End <a class=\"anchor\" id=\"chapter100\"></a> "
      ]
    }
  ],
  "metadata": {
    "kernelspec": {
      "display_name": "Python 3 (ipykernel)",
      "language": "python",
      "name": "python3"
    },
    "language_info": {
      "codemirror_mode": {
        "name": "ipython",
        "version": 3
      },
      "file_extension": ".py",
      "mimetype": "text/x-python",
      "name": "python",
      "nbconvert_exporter": "python",
      "pygments_lexer": "ipython3",
      "version": "3.9.7"
    },
    "colab": {
      "name": "P8_03_notebook.ipynb",
      "provenance": [],
      "collapsed_sections": [
        "QTPjfy-ai_DG",
        "L8sniUYEi_DP"
      ],
      "include_colab_link": true
    }
  },
  "nbformat": 4,
  "nbformat_minor": 0
}